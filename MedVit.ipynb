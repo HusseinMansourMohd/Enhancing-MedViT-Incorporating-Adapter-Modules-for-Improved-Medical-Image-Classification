{
  "cells": [
    {
      "cell_type": "code",
      "execution_count": 1,
      "metadata": {
        "colab": {
          "base_uri": "https://localhost:8080/"
        },
        "id": "HSMvVCPgoy-u",
        "outputId": "28074d24-e7b5-4739-fa7e-1da0ffe846e6"
      },
      "outputs": [
        {
          "name": "stdout",
          "output_type": "stream",
          "text": [
            "Mon Jul 24 00:05:48 2023       \n",
            "+-----------------------------------------------------------------------------+\n",
            "| NVIDIA-SMI 515.86.01    Driver Version: 515.86.01    CUDA Version: 11.7     |\n",
            "|-------------------------------+----------------------+----------------------+\n",
            "| GPU  Name        Persistence-M| Bus-Id        Disp.A | Volatile Uncorr. ECC |\n",
            "| Fan  Temp  Perf  Pwr:Usage/Cap|         Memory-Usage | GPU-Util  Compute M. |\n",
            "|                               |                      |               MIG M. |\n",
            "|===============================+======================+======================|\n",
            "|   0  NVIDIA GeForce ...  On   | 00000000:02:00.0 Off |                  N/A |\n",
            "| 34%   75C    P2   112W / 250W |    939MiB / 12288MiB |     97%      Default |\n",
            "|                               |                      |                  N/A |\n",
            "+-------------------------------+----------------------+----------------------+\n",
            "|   1  NVIDIA GeForce ...  On   | 00000000:04:00.0 Off |                  N/A |\n",
            "| 22%   34C    P8    17W / 250W |   1636MiB / 12288MiB |      0%      Default |\n",
            "|                               |                      |                  N/A |\n",
            "+-------------------------------+----------------------+----------------------+\n",
            "|   2  NVIDIA GeForce ...  On   | 00000000:83:00.0 Off |                  N/A |\n",
            "| 27%   67C    P2    74W / 250W |   4188MiB / 12288MiB |      0%      Default |\n",
            "|                               |                      |                  N/A |\n",
            "+-------------------------------+----------------------+----------------------+\n",
            "|   3  NVIDIA GeForce ...  On   | 00000000:84:00.0 Off |                  N/A |\n",
            "| 23%   62C    P2    73W / 250W |  11468MiB / 12288MiB |      0%      Default |\n",
            "|                               |                      |                  N/A |\n",
            "+-------------------------------+----------------------+----------------------+\n",
            "                                                                               \n",
            "+-----------------------------------------------------------------------------+\n",
            "| Processes:                                                                  |\n",
            "|  GPU   GI   CI        PID   Type   Process name                  GPU Memory |\n",
            "|        ID   ID                                                   Usage      |\n",
            "|=============================================================================|\n",
            "|    0   N/A  N/A     16341      C   /home/EXT/mhahntmp/python39       466MiB |\n",
            "|    0   N/A  N/A     19755      C   /home/EXT/mhahntmp/python39       468MiB |\n",
            "|    1   N/A  N/A     24719      C   python3                          1631MiB |\n",
            "|    2   N/A  N/A     19905      C   python                            740MiB |\n",
            "|    2   N/A  N/A     24719      C   python3                          3441MiB |\n",
            "|    3   N/A  N/A      5481      C   python                           1602MiB |\n",
            "|    3   N/A  N/A      8522      C   python                           1602MiB |\n",
            "|    3   N/A  N/A     21606      C   python                           1578MiB |\n",
            "|    3   N/A  N/A     22537      C   python                           1578MiB |\n",
            "|    3   N/A  N/A     24719      C   python3                          2291MiB |\n",
            "|    3   N/A  N/A     26633      C   python                           1225MiB |\n",
            "|    3   N/A  N/A     35718      C   python                           1582MiB |\n",
            "+-----------------------------------------------------------------------------+\n"
          ]
        }
      ],
      "source": [
        "!nvidia-smi"
      ]
    },
    {
      "cell_type": "code",
      "execution_count": 2,
      "metadata": {
        "colab": {
          "base_uri": "https://localhost:8080/"
        },
        "id": "NB30odbcpGbd",
        "outputId": "8f002b85-d2db-4d3b-e52d-360018dcc8ce"
      },
      "outputs": [
        {
          "name": "stdout",
          "output_type": "stream",
          "text": [
            "fatal: destination path 'Enhancing-MedViT-Incorporating-Adapter-Modules-for-Improved-Medical-Image-Classification' already exists and is not an empty directory.\n"
          ]
        }
      ],
      "source": [
        "!git clone https://github.com/HusseinMansourMohd/Enhancing-MedViT-Incorporating-Adapter-Modules-for-Improved-Medical-Image-Classification"
      ]
    },
    {
      "cell_type": "code",
      "execution_count": 3,
      "metadata": {},
      "outputs": [
        {
          "name": "stdout",
          "output_type": "stream",
          "text": [
            "Requirement already satisfied: torch in /local/musaeed/.conda/lib/python3.10/site-packages (2.0.1)\n",
            "Requirement already satisfied: filelock in /local/musaeed/.conda/lib/python3.10/site-packages (from torch) (3.12.2)\n",
            "Requirement already satisfied: typing-extensions in /local/musaeed/.conda/lib/python3.10/site-packages (from torch) (4.7.1)\n",
            "Requirement already satisfied: sympy in /local/musaeed/.conda/lib/python3.10/site-packages (from torch) (1.12)\n",
            "Requirement already satisfied: networkx in /local/musaeed/.conda/lib/python3.10/site-packages (from torch) (3.1)\n",
            "Requirement already satisfied: jinja2 in /local/musaeed/.conda/lib/python3.10/site-packages (from torch) (3.1.2)\n",
            "Requirement already satisfied: nvidia-cuda-nvrtc-cu11==11.7.99 in /local/musaeed/.conda/lib/python3.10/site-packages (from torch) (11.7.99)\n",
            "Requirement already satisfied: nvidia-cuda-runtime-cu11==11.7.99 in /local/musaeed/.conda/lib/python3.10/site-packages (from torch) (11.7.99)\n",
            "Requirement already satisfied: nvidia-cuda-cupti-cu11==11.7.101 in /local/musaeed/.conda/lib/python3.10/site-packages (from torch) (11.7.101)\n",
            "Requirement already satisfied: nvidia-cudnn-cu11==8.5.0.96 in /local/musaeed/.conda/lib/python3.10/site-packages (from torch) (8.5.0.96)\n",
            "Requirement already satisfied: nvidia-cublas-cu11==11.10.3.66 in /local/musaeed/.conda/lib/python3.10/site-packages (from torch) (11.10.3.66)\n",
            "Requirement already satisfied: nvidia-cufft-cu11==10.9.0.58 in /local/musaeed/.conda/lib/python3.10/site-packages (from torch) (10.9.0.58)\n",
            "Requirement already satisfied: nvidia-curand-cu11==10.2.10.91 in /local/musaeed/.conda/lib/python3.10/site-packages (from torch) (10.2.10.91)\n",
            "Requirement already satisfied: nvidia-cusolver-cu11==11.4.0.1 in /local/musaeed/.conda/lib/python3.10/site-packages (from torch) (11.4.0.1)\n",
            "Requirement already satisfied: nvidia-cusparse-cu11==11.7.4.91 in /local/musaeed/.conda/lib/python3.10/site-packages (from torch) (11.7.4.91)\n",
            "Requirement already satisfied: nvidia-nccl-cu11==2.14.3 in /local/musaeed/.conda/lib/python3.10/site-packages (from torch) (2.14.3)\n",
            "Requirement already satisfied: nvidia-nvtx-cu11==11.7.91 in /local/musaeed/.conda/lib/python3.10/site-packages (from torch) (11.7.91)\n",
            "Requirement already satisfied: triton==2.0.0 in /local/musaeed/.conda/lib/python3.10/site-packages (from torch) (2.0.0)\n",
            "Requirement already satisfied: setuptools in /local/musaeed/.conda/lib/python3.10/site-packages (from nvidia-cublas-cu11==11.10.3.66->torch) (67.8.0)\n",
            "Requirement already satisfied: wheel in /local/musaeed/.conda/lib/python3.10/site-packages (from nvidia-cublas-cu11==11.10.3.66->torch) (0.38.4)\n",
            "Requirement already satisfied: cmake in /local/musaeed/.conda/lib/python3.10/site-packages (from triton==2.0.0->torch) (3.27.0)\n",
            "Requirement already satisfied: lit in /local/musaeed/.conda/lib/python3.10/site-packages (from triton==2.0.0->torch) (16.0.6)\n",
            "Requirement already satisfied: MarkupSafe>=2.0 in /local/musaeed/.conda/lib/python3.10/site-packages (from jinja2->torch) (2.1.3)\n",
            "Requirement already satisfied: mpmath>=0.19 in /local/musaeed/.conda/lib/python3.10/site-packages (from sympy->torch) (1.3.0)\n",
            "Note: you may need to restart the kernel to use updated packages.\n",
            "Requirement already satisfied: numpy in /local/musaeed/.conda/lib/python3.10/site-packages (1.25.1)\n",
            "Note: you may need to restart the kernel to use updated packages.\n",
            "Requirement already satisfied: torchvision in /local/musaeed/.conda/lib/python3.10/site-packages (0.15.2)\n",
            "Requirement already satisfied: numpy in /local/musaeed/.conda/lib/python3.10/site-packages (from torchvision) (1.25.1)\n",
            "Requirement already satisfied: requests in /local/musaeed/.conda/lib/python3.10/site-packages (from torchvision) (2.31.0)\n",
            "Requirement already satisfied: torch==2.0.1 in /local/musaeed/.conda/lib/python3.10/site-packages (from torchvision) (2.0.1)\n",
            "Requirement already satisfied: pillow!=8.3.*,>=5.3.0 in /local/musaeed/.conda/lib/python3.10/site-packages (from torchvision) (10.0.0)\n",
            "Requirement already satisfied: filelock in /local/musaeed/.conda/lib/python3.10/site-packages (from torch==2.0.1->torchvision) (3.12.2)\n",
            "Requirement already satisfied: typing-extensions in /local/musaeed/.conda/lib/python3.10/site-packages (from torch==2.0.1->torchvision) (4.7.1)\n",
            "Requirement already satisfied: sympy in /local/musaeed/.conda/lib/python3.10/site-packages (from torch==2.0.1->torchvision) (1.12)\n",
            "Requirement already satisfied: networkx in /local/musaeed/.conda/lib/python3.10/site-packages (from torch==2.0.1->torchvision) (3.1)\n",
            "Requirement already satisfied: jinja2 in /local/musaeed/.conda/lib/python3.10/site-packages (from torch==2.0.1->torchvision) (3.1.2)\n",
            "Requirement already satisfied: nvidia-cuda-nvrtc-cu11==11.7.99 in /local/musaeed/.conda/lib/python3.10/site-packages (from torch==2.0.1->torchvision) (11.7.99)\n",
            "Requirement already satisfied: nvidia-cuda-runtime-cu11==11.7.99 in /local/musaeed/.conda/lib/python3.10/site-packages (from torch==2.0.1->torchvision) (11.7.99)\n",
            "Requirement already satisfied: nvidia-cuda-cupti-cu11==11.7.101 in /local/musaeed/.conda/lib/python3.10/site-packages (from torch==2.0.1->torchvision) (11.7.101)\n",
            "Requirement already satisfied: nvidia-cudnn-cu11==8.5.0.96 in /local/musaeed/.conda/lib/python3.10/site-packages (from torch==2.0.1->torchvision) (8.5.0.96)\n",
            "Requirement already satisfied: nvidia-cublas-cu11==11.10.3.66 in /local/musaeed/.conda/lib/python3.10/site-packages (from torch==2.0.1->torchvision) (11.10.3.66)\n",
            "Requirement already satisfied: nvidia-cufft-cu11==10.9.0.58 in /local/musaeed/.conda/lib/python3.10/site-packages (from torch==2.0.1->torchvision) (10.9.0.58)\n",
            "Requirement already satisfied: nvidia-curand-cu11==10.2.10.91 in /local/musaeed/.conda/lib/python3.10/site-packages (from torch==2.0.1->torchvision) (10.2.10.91)\n",
            "Requirement already satisfied: nvidia-cusolver-cu11==11.4.0.1 in /local/musaeed/.conda/lib/python3.10/site-packages (from torch==2.0.1->torchvision) (11.4.0.1)\n",
            "Requirement already satisfied: nvidia-cusparse-cu11==11.7.4.91 in /local/musaeed/.conda/lib/python3.10/site-packages (from torch==2.0.1->torchvision) (11.7.4.91)\n",
            "Requirement already satisfied: nvidia-nccl-cu11==2.14.3 in /local/musaeed/.conda/lib/python3.10/site-packages (from torch==2.0.1->torchvision) (2.14.3)\n",
            "Requirement already satisfied: nvidia-nvtx-cu11==11.7.91 in /local/musaeed/.conda/lib/python3.10/site-packages (from torch==2.0.1->torchvision) (11.7.91)\n",
            "Requirement already satisfied: triton==2.0.0 in /local/musaeed/.conda/lib/python3.10/site-packages (from torch==2.0.1->torchvision) (2.0.0)\n",
            "Requirement already satisfied: setuptools in /local/musaeed/.conda/lib/python3.10/site-packages (from nvidia-cublas-cu11==11.10.3.66->torch==2.0.1->torchvision) (67.8.0)\n",
            "Requirement already satisfied: wheel in /local/musaeed/.conda/lib/python3.10/site-packages (from nvidia-cublas-cu11==11.10.3.66->torch==2.0.1->torchvision) (0.38.4)\n",
            "Requirement already satisfied: cmake in /local/musaeed/.conda/lib/python3.10/site-packages (from triton==2.0.0->torch==2.0.1->torchvision) (3.27.0)\n",
            "Requirement already satisfied: lit in /local/musaeed/.conda/lib/python3.10/site-packages (from triton==2.0.0->torch==2.0.1->torchvision) (16.0.6)\n",
            "Requirement already satisfied: charset-normalizer<4,>=2 in /local/musaeed/.conda/lib/python3.10/site-packages (from requests->torchvision) (3.2.0)\n",
            "Requirement already satisfied: idna<4,>=2.5 in /local/musaeed/.conda/lib/python3.10/site-packages (from requests->torchvision) (3.4)\n",
            "Requirement already satisfied: urllib3<3,>=1.21.1 in /local/musaeed/.conda/lib/python3.10/site-packages (from requests->torchvision) (2.0.4)\n",
            "Requirement already satisfied: certifi>=2017.4.17 in /local/musaeed/.conda/lib/python3.10/site-packages (from requests->torchvision) (2023.7.22)\n",
            "Requirement already satisfied: MarkupSafe>=2.0 in /local/musaeed/.conda/lib/python3.10/site-packages (from jinja2->torch==2.0.1->torchvision) (2.1.3)\n",
            "Requirement already satisfied: mpmath>=0.19 in /local/musaeed/.conda/lib/python3.10/site-packages (from sympy->torch==2.0.1->torchvision) (1.3.0)\n",
            "Note: you may need to restart the kernel to use updated packages.\n",
            "Requirement already satisfied: torchsummary in /local/musaeed/.conda/lib/python3.10/site-packages (1.5.1)\n",
            "Note: you may need to restart the kernel to use updated packages.\n",
            "Requirement already satisfied: matplotlib in /local/musaeed/.conda/lib/python3.10/site-packages (3.7.2)\n",
            "Requirement already satisfied: contourpy>=1.0.1 in /local/musaeed/.conda/lib/python3.10/site-packages (from matplotlib) (1.1.0)\n",
            "Requirement already satisfied: cycler>=0.10 in /local/musaeed/.conda/lib/python3.10/site-packages (from matplotlib) (0.11.0)\n",
            "Requirement already satisfied: fonttools>=4.22.0 in /local/musaeed/.conda/lib/python3.10/site-packages (from matplotlib) (4.41.1)\n",
            "Requirement already satisfied: kiwisolver>=1.0.1 in /local/musaeed/.conda/lib/python3.10/site-packages (from matplotlib) (1.4.4)\n",
            "Requirement already satisfied: numpy>=1.20 in /local/musaeed/.conda/lib/python3.10/site-packages (from matplotlib) (1.25.1)\n",
            "Requirement already satisfied: packaging>=20.0 in /local/musaeed/.conda/lib/python3.10/site-packages (from matplotlib) (23.1)\n",
            "Requirement already satisfied: pillow>=6.2.0 in /local/musaeed/.conda/lib/python3.10/site-packages (from matplotlib) (10.0.0)\n",
            "Requirement already satisfied: pyparsing<3.1,>=2.3.1 in /local/musaeed/.conda/lib/python3.10/site-packages (from matplotlib) (3.0.9)\n",
            "Requirement already satisfied: python-dateutil>=2.7 in /local/musaeed/.conda/lib/python3.10/site-packages (from matplotlib) (2.8.2)\n",
            "Requirement already satisfied: six>=1.5 in /local/musaeed/.conda/lib/python3.10/site-packages (from python-dateutil>=2.7->matplotlib) (1.16.0)\n",
            "Note: you may need to restart the kernel to use updated packages.\n",
            "Requirement already satisfied: timm in /local/musaeed/.conda/lib/python3.10/site-packages (0.9.2)\n",
            "Requirement already satisfied: torch>=1.7 in /local/musaeed/.conda/lib/python3.10/site-packages (from timm) (2.0.1)\n",
            "Requirement already satisfied: torchvision in /local/musaeed/.conda/lib/python3.10/site-packages (from timm) (0.15.2)\n",
            "Requirement already satisfied: pyyaml in /local/musaeed/.conda/lib/python3.10/site-packages (from timm) (6.0.1)\n",
            "Requirement already satisfied: huggingface-hub in /local/musaeed/.conda/lib/python3.10/site-packages (from timm) (0.16.4)\n",
            "Requirement already satisfied: safetensors in /local/musaeed/.conda/lib/python3.10/site-packages (from timm) (0.3.1)\n",
            "Requirement already satisfied: filelock in /local/musaeed/.conda/lib/python3.10/site-packages (from torch>=1.7->timm) (3.12.2)\n",
            "Requirement already satisfied: typing-extensions in /local/musaeed/.conda/lib/python3.10/site-packages (from torch>=1.7->timm) (4.7.1)\n",
            "Requirement already satisfied: sympy in /local/musaeed/.conda/lib/python3.10/site-packages (from torch>=1.7->timm) (1.12)\n",
            "Requirement already satisfied: networkx in /local/musaeed/.conda/lib/python3.10/site-packages (from torch>=1.7->timm) (3.1)\n",
            "Requirement already satisfied: jinja2 in /local/musaeed/.conda/lib/python3.10/site-packages (from torch>=1.7->timm) (3.1.2)\n",
            "Requirement already satisfied: nvidia-cuda-nvrtc-cu11==11.7.99 in /local/musaeed/.conda/lib/python3.10/site-packages (from torch>=1.7->timm) (11.7.99)\n",
            "Requirement already satisfied: nvidia-cuda-runtime-cu11==11.7.99 in /local/musaeed/.conda/lib/python3.10/site-packages (from torch>=1.7->timm) (11.7.99)\n",
            "Requirement already satisfied: nvidia-cuda-cupti-cu11==11.7.101 in /local/musaeed/.conda/lib/python3.10/site-packages (from torch>=1.7->timm) (11.7.101)\n",
            "Requirement already satisfied: nvidia-cudnn-cu11==8.5.0.96 in /local/musaeed/.conda/lib/python3.10/site-packages (from torch>=1.7->timm) (8.5.0.96)\n",
            "Requirement already satisfied: nvidia-cublas-cu11==11.10.3.66 in /local/musaeed/.conda/lib/python3.10/site-packages (from torch>=1.7->timm) (11.10.3.66)\n",
            "Requirement already satisfied: nvidia-cufft-cu11==10.9.0.58 in /local/musaeed/.conda/lib/python3.10/site-packages (from torch>=1.7->timm) (10.9.0.58)\n",
            "Requirement already satisfied: nvidia-curand-cu11==10.2.10.91 in /local/musaeed/.conda/lib/python3.10/site-packages (from torch>=1.7->timm) (10.2.10.91)\n",
            "Requirement already satisfied: nvidia-cusolver-cu11==11.4.0.1 in /local/musaeed/.conda/lib/python3.10/site-packages (from torch>=1.7->timm) (11.4.0.1)\n",
            "Requirement already satisfied: nvidia-cusparse-cu11==11.7.4.91 in /local/musaeed/.conda/lib/python3.10/site-packages (from torch>=1.7->timm) (11.7.4.91)\n",
            "Requirement already satisfied: nvidia-nccl-cu11==2.14.3 in /local/musaeed/.conda/lib/python3.10/site-packages (from torch>=1.7->timm) (2.14.3)\n",
            "Requirement already satisfied: nvidia-nvtx-cu11==11.7.91 in /local/musaeed/.conda/lib/python3.10/site-packages (from torch>=1.7->timm) (11.7.91)\n",
            "Requirement already satisfied: triton==2.0.0 in /local/musaeed/.conda/lib/python3.10/site-packages (from torch>=1.7->timm) (2.0.0)\n",
            "Requirement already satisfied: setuptools in /local/musaeed/.conda/lib/python3.10/site-packages (from nvidia-cublas-cu11==11.10.3.66->torch>=1.7->timm) (67.8.0)\n",
            "Requirement already satisfied: wheel in /local/musaeed/.conda/lib/python3.10/site-packages (from nvidia-cublas-cu11==11.10.3.66->torch>=1.7->timm) (0.38.4)\n",
            "Requirement already satisfied: cmake in /local/musaeed/.conda/lib/python3.10/site-packages (from triton==2.0.0->torch>=1.7->timm) (3.27.0)\n",
            "Requirement already satisfied: lit in /local/musaeed/.conda/lib/python3.10/site-packages (from triton==2.0.0->torch>=1.7->timm) (16.0.6)\n",
            "Requirement already satisfied: fsspec in /local/musaeed/.conda/lib/python3.10/site-packages (from huggingface-hub->timm) (2023.6.0)\n",
            "Requirement already satisfied: requests in /local/musaeed/.conda/lib/python3.10/site-packages (from huggingface-hub->timm) (2.31.0)\n",
            "Requirement already satisfied: tqdm>=4.42.1 in /local/musaeed/.conda/lib/python3.10/site-packages (from huggingface-hub->timm) (4.65.0)\n",
            "Requirement already satisfied: packaging>=20.9 in /local/musaeed/.conda/lib/python3.10/site-packages (from huggingface-hub->timm) (23.1)\n",
            "Requirement already satisfied: numpy in /local/musaeed/.conda/lib/python3.10/site-packages (from torchvision->timm) (1.25.1)\n",
            "Requirement already satisfied: pillow!=8.3.*,>=5.3.0 in /local/musaeed/.conda/lib/python3.10/site-packages (from torchvision->timm) (10.0.0)\n",
            "Requirement already satisfied: MarkupSafe>=2.0 in /local/musaeed/.conda/lib/python3.10/site-packages (from jinja2->torch>=1.7->timm) (2.1.3)\n",
            "Requirement already satisfied: charset-normalizer<4,>=2 in /local/musaeed/.conda/lib/python3.10/site-packages (from requests->huggingface-hub->timm) (3.2.0)\n",
            "Requirement already satisfied: idna<4,>=2.5 in /local/musaeed/.conda/lib/python3.10/site-packages (from requests->huggingface-hub->timm) (3.4)\n",
            "Requirement already satisfied: urllib3<3,>=1.21.1 in /local/musaeed/.conda/lib/python3.10/site-packages (from requests->huggingface-hub->timm) (2.0.4)\n",
            "Requirement already satisfied: certifi>=2017.4.17 in /local/musaeed/.conda/lib/python3.10/site-packages (from requests->huggingface-hub->timm) (2023.7.22)\n",
            "Requirement already satisfied: mpmath>=0.19 in /local/musaeed/.conda/lib/python3.10/site-packages (from sympy->torch>=1.7->timm) (1.3.0)\n",
            "Note: you may need to restart the kernel to use updated packages.\n",
            "Requirement already satisfied: einops==0.6.1 in /local/musaeed/.conda/lib/python3.10/site-packages (0.6.1)\n",
            "Note: you may need to restart the kernel to use updated packages.\n"
          ]
        }
      ],
      "source": [
        "%pip install torch\n",
        "%pip install numpy\n",
        "%pip install torchvision\n",
        "%pip install torchsummary\n",
        "%pip install matplotlib\n",
        "%pip install timm\n",
        "%pip install einops==0.6.1"
      ]
    },
    {
      "cell_type": "code",
      "execution_count": 4,
      "metadata": {
        "id": "P2rvu9MLpGeC"
      },
      "outputs": [],
      "source": [
        "import sys\n",
        "import numpy as np\n",
        "import matplotlib.pyplot as plt\n",
        "\n",
        "import torch\n",
        "import torch.nn as nn\n",
        "import torch.optim as optim\n",
        "\n",
        "import torchvision.utils\n",
        "import torchvision.datasets as dsets\n",
        "from torchsummary import summary"
      ]
    },
    {
      "cell_type": "code",
      "execution_count": 8,
      "metadata": {
        "colab": {
          "base_uri": "https://localhost:8080/"
        },
        "id": "mqN4jdJspGkN",
        "outputId": "b385d731-f9e9-4b3c-b3c8-bc879a0955b7"
      },
      "outputs": [
        {
          "name": "stdout",
          "output_type": "stream",
          "text": [
            "/local/musaeed/MedVit_Adapter/Enhancing-MedViT-Incorporating-Adapter-Modules-for-Improved-Medical-Image-Classification\n"
          ]
        }
      ],
      "source": [
        "cd ./Enhancing-MedViT-Incorporating-Adapter-Modules-for-Improved-Medical-Image-Classification/\n"
      ]
    },
    {
      "cell_type": "code",
      "execution_count": 9,
      "metadata": {
        "colab": {
          "base_uri": "https://localhost:8080/"
        },
        "id": "s4FycXE9t-Vb",
        "outputId": "f1171116-c41c-449c-e1c7-683924762265"
      },
      "outputs": [
        {
          "name": "stdout",
          "output_type": "stream",
          "text": [
            "Cloning into 'DeformableDETR'...\n",
            "remote: Enumerating objects: 134, done.\u001b[K\n",
            "remote: Counting objects: 100% (134/134), done.\u001b[K\n",
            "remote: Compressing objects: 100% (88/88), done.\u001b[K\n",
            "remote: Total 134 (delta 49), reused 92 (delta 41), pack-reused 0\u001b[K\n",
            "Receiving objects: 100% (134/134), 5.67 MiB | 0 bytes/s, done.\n",
            "Resolving deltas: 100% (49/49), done.\n",
            "Checking connectivity... done.\n"
          ]
        }
      ],
      "source": [
        "!git clone https://github.com/HusseinMansourMohd/DeformableDETR.git\n"
      ]
    },
    {
      "cell_type": "code",
      "execution_count": 10,
      "metadata": {
        "colab": {
          "base_uri": "https://localhost:8080/"
        },
        "id": "sn0qoGdYuCLi",
        "outputId": "5c6875d5-d6bf-468d-d7ac-86d62674c2aa"
      },
      "outputs": [
        {
          "name": "stdout",
          "output_type": "stream",
          "text": [
            "/local/musaeed/MedVit_Adapter/Enhancing-MedViT-Incorporating-Adapter-Modules-for-Improved-Medical-Image-Classification/DeformableDETR\n"
          ]
        }
      ],
      "source": [
        "%cd DeformableDETR"
      ]
    },
    {
      "cell_type": "code",
      "execution_count": 38,
      "metadata": {
        "colab": {
          "base_uri": "https://localhost:8080/"
        },
        "id": "O1KoKJ4rt_YY",
        "outputId": "b7f4f0c5-2ad2-409e-95e3-b2fd18d9547a"
      },
      "outputs": [
        {
          "name": "stdout",
          "output_type": "stream",
          "text": [
            "/bin/bash: line 0: cd: ./models/ops: No such file or directory\n"
          ]
        }
      ],
      "source": [
        "!cd ./models/ops && python setup.py install"
      ]
    },
    {
      "cell_type": "code",
      "execution_count": 19,
      "metadata": {
        "colab": {
          "base_uri": "https://localhost:8080/"
        },
        "id": "g7e8PlD6urbL",
        "outputId": "a0d2913c-1738-41a8-b6e5-d7d3f5f80301"
      },
      "outputs": [
        {
          "name": "stdout",
          "output_type": "stream",
          "text": [
            "/local/musaeed/MedVit_Adapter/Enhancing-MedViT-Incorporating-Adapter-Modules-for-Improved-Medical-Image-Classification\n"
          ]
        }
      ],
      "source": [
        "%cd /local/musaeed/MedVit_Adapter/Enhancing-MedViT-Incorporating-Adapter-Modules-for-Improved-Medical-Image-Classification/"
      ]
    },
    {
      "cell_type": "code",
      "execution_count": 20,
      "metadata": {
        "colab": {
          "base_uri": "https://localhost:8080/"
        },
        "id": "V16XL69ApGnO",
        "outputId": "f786eeb4-b76b-49bb-c51e-b3ca8b7cb69b"
      },
      "outputs": [
        {
          "name": "stderr",
          "output_type": "stream",
          "text": [
            "/local/musaeed/.conda/lib/python3.10/site-packages/tqdm/auto.py:21: TqdmWarning: IProgress not found. Please update jupyter and ipywidgets. See https://ipywidgets.readthedocs.io/en/stable/user_install.html\n",
            "  from .autonotebook import tqdm as notebook_tqdm\n"
          ]
        },
        {
          "name": "stdout",
          "output_type": "stream",
          "text": [
            "['Adapter', 'ConvBNReLU', 'DropPath', 'ECALayer', 'ECB', 'E_MHSA', 'F', 'LTB', 'LocalityFeedForward', 'MHCA', 'MedViT', 'MedViT_base', 'MedViT_large', 'MedViT_small', 'Mlp', 'NORM_EPS', 'PatchEmbed', 'SELayer', '__all__', '__builtins__', '__cached__', '__doc__', '__file__', '__loader__', '__name__', '__package__', '__spec__', '_make_divisible', 'checkpoint', 'h_sigmoid', 'h_swish', 'math', 'merge_pre_bn', 'nn', 'normal_', 'partial', 'rearrange', 'register_model', 'torch', 'trunc_normal_']\n"
          ]
        }
      ],
      "source": [
        "import MedVit\n",
        "print(dir(MedVit))"
      ]
    },
    {
      "cell_type": "code",
      "execution_count": 21,
      "metadata": {
        "colab": {
          "base_uri": "https://localhost:8080/"
        },
        "id": "ymU2ZgNkr2LC",
        "outputId": "ccd04e82-d937-4388-e145-7f32f0494371"
      },
      "outputs": [
        {
          "name": "stdout",
          "output_type": "stream",
          "text": [
            "Collecting medmnist\n",
            "  Downloading medmnist-2.2.2-py3-none-any.whl (21 kB)\n",
            "Requirement already satisfied: numpy in /local/musaeed/.conda/lib/python3.10/site-packages (from medmnist) (1.25.1)\n",
            "Collecting pandas (from medmnist)\n",
            "  Downloading pandas-2.0.3-cp310-cp310-manylinux_2_17_x86_64.manylinux2014_x86_64.whl (12.3 MB)\n",
            "\u001b[2K     \u001b[90m━━━━━━━━━━━━━━━━━━━━━━━━━━━━━━━━━━━━━━━━\u001b[0m \u001b[32m12.3/12.3 MB\u001b[0m \u001b[31m28.9 MB/s\u001b[0m eta \u001b[36m0:00:00\u001b[0m00:01\u001b[0m00:01\u001b[0m\n",
            "\u001b[?25hCollecting scikit-learn (from medmnist)\n",
            "  Downloading scikit_learn-1.3.0-cp310-cp310-manylinux_2_17_x86_64.manylinux2014_x86_64.whl (10.8 MB)\n",
            "\u001b[2K     \u001b[90m━━━━━━━━━━━━━━━━━━━━━━━━━━━━━━━━━━━━━━━━\u001b[0m \u001b[32m10.8/10.8 MB\u001b[0m \u001b[31m32.6 MB/s\u001b[0m eta \u001b[36m0:00:00\u001b[0m00:01\u001b[0m0:01\u001b[0m\n",
            "\u001b[?25hCollecting scikit-image (from medmnist)\n",
            "  Downloading scikit_image-0.21.0-cp310-cp310-manylinux_2_17_x86_64.manylinux2014_x86_64.whl (13.8 MB)\n",
            "\u001b[2K     \u001b[90m━━━━━━━━━━━━━━━━━━━━━━━━━━━━━━━━━━━━━━━━\u001b[0m \u001b[32m13.8/13.8 MB\u001b[0m \u001b[31m31.6 MB/s\u001b[0m eta \u001b[36m0:00:00\u001b[0m00:01\u001b[0m00:01\u001b[0m\n",
            "\u001b[?25hRequirement already satisfied: tqdm in /local/musaeed/.conda/lib/python3.10/site-packages (from medmnist) (4.65.0)\n",
            "Requirement already satisfied: Pillow in /local/musaeed/.conda/lib/python3.10/site-packages (from medmnist) (10.0.0)\n",
            "Collecting fire (from medmnist)\n",
            "  Downloading fire-0.5.0.tar.gz (88 kB)\n",
            "\u001b[2K     \u001b[90m━━━━━━━━━━━━━━━━━━━━━━━━━━━━━━━━━━━━━━━━\u001b[0m \u001b[32m88.3/88.3 kB\u001b[0m \u001b[31m33.7 MB/s\u001b[0m eta \u001b[36m0:00:00\u001b[0m\n",
            "\u001b[?25h  Preparing metadata (setup.py) ... \u001b[?25ldone\n",
            "\u001b[?25hRequirement already satisfied: torch in /local/musaeed/.conda/lib/python3.10/site-packages (from medmnist) (2.0.1)\n",
            "Requirement already satisfied: torchvision in /local/musaeed/.conda/lib/python3.10/site-packages (from medmnist) (0.15.2)\n",
            "Requirement already satisfied: six in /local/musaeed/.conda/lib/python3.10/site-packages (from fire->medmnist) (1.16.0)\n",
            "Collecting termcolor (from fire->medmnist)\n",
            "  Downloading termcolor-2.3.0-py3-none-any.whl (6.9 kB)\n",
            "Requirement already satisfied: python-dateutil>=2.8.2 in /local/musaeed/.conda/lib/python3.10/site-packages (from pandas->medmnist) (2.8.2)\n",
            "Collecting pytz>=2020.1 (from pandas->medmnist)\n",
            "  Using cached pytz-2023.3-py2.py3-none-any.whl (502 kB)\n",
            "Collecting tzdata>=2022.1 (from pandas->medmnist)\n",
            "  Using cached tzdata-2023.3-py2.py3-none-any.whl (341 kB)\n",
            "Collecting scipy>=1.8 (from scikit-image->medmnist)\n",
            "  Downloading scipy-1.11.1-cp310-cp310-manylinux_2_17_x86_64.manylinux2014_x86_64.whl (36.3 MB)\n",
            "\u001b[2K     \u001b[90m━━━━━━━━━━━━━━━━━━━━━━━━━━━━━━━━━━━━━━━━\u001b[0m \u001b[32m36.3/36.3 MB\u001b[0m \u001b[31m25.1 MB/s\u001b[0m eta \u001b[36m0:00:00\u001b[0m00:01\u001b[0m00:01\u001b[0m\n",
            "\u001b[?25hRequirement already satisfied: networkx>=2.8 in /local/musaeed/.conda/lib/python3.10/site-packages (from scikit-image->medmnist) (3.1)\n",
            "Collecting imageio>=2.27 (from scikit-image->medmnist)\n",
            "  Downloading imageio-2.31.1-py3-none-any.whl (313 kB)\n",
            "\u001b[2K     \u001b[90m━━━━━━━━━━━━━━━━━━━━━━━━━━━━━━━━━━━━━━\u001b[0m \u001b[32m313.2/313.2 kB\u001b[0m \u001b[31m51.4 MB/s\u001b[0m eta \u001b[36m0:00:00\u001b[0m\n",
            "\u001b[?25hCollecting tifffile>=2022.8.12 (from scikit-image->medmnist)\n",
            "  Downloading tifffile-2023.7.18-py3-none-any.whl (221 kB)\n",
            "\u001b[2K     \u001b[90m━━━━━━━━━━━━━━━━━━━━━━━━━━━━━━━━━━━━━━\u001b[0m \u001b[32m221.4/221.4 kB\u001b[0m \u001b[31m72.5 MB/s\u001b[0m eta \u001b[36m0:00:00\u001b[0m\n",
            "\u001b[?25hCollecting PyWavelets>=1.1.1 (from scikit-image->medmnist)\n",
            "  Downloading PyWavelets-1.4.1-cp310-cp310-manylinux_2_17_x86_64.manylinux2014_x86_64.whl (6.8 MB)\n",
            "\u001b[2K     \u001b[90m━━━━━━━━━━━━━━━━━━━━━━━━━━━━━━━━━━━━━━━━\u001b[0m \u001b[32m6.8/6.8 MB\u001b[0m \u001b[31m31.6 MB/s\u001b[0m eta \u001b[36m0:00:00\u001b[0m00:01\u001b[0m00:01\u001b[0m\n",
            "\u001b[?25hRequirement already satisfied: packaging>=21 in /local/musaeed/.conda/lib/python3.10/site-packages (from scikit-image->medmnist) (23.1)\n",
            "Collecting lazy_loader>=0.2 (from scikit-image->medmnist)\n",
            "  Downloading lazy_loader-0.3-py3-none-any.whl (9.1 kB)\n",
            "Collecting joblib>=1.1.1 (from scikit-learn->medmnist)\n",
            "  Using cached joblib-1.3.1-py3-none-any.whl (301 kB)\n",
            "Collecting threadpoolctl>=2.0.0 (from scikit-learn->medmnist)\n",
            "  Downloading threadpoolctl-3.2.0-py3-none-any.whl (15 kB)\n",
            "Requirement already satisfied: filelock in /local/musaeed/.conda/lib/python3.10/site-packages (from torch->medmnist) (3.12.2)\n",
            "Requirement already satisfied: typing-extensions in /local/musaeed/.conda/lib/python3.10/site-packages (from torch->medmnist) (4.7.1)\n",
            "Requirement already satisfied: sympy in /local/musaeed/.conda/lib/python3.10/site-packages (from torch->medmnist) (1.12)\n",
            "Requirement already satisfied: jinja2 in /local/musaeed/.conda/lib/python3.10/site-packages (from torch->medmnist) (3.1.2)\n",
            "Requirement already satisfied: nvidia-cuda-nvrtc-cu11==11.7.99 in /local/musaeed/.conda/lib/python3.10/site-packages (from torch->medmnist) (11.7.99)\n",
            "Requirement already satisfied: nvidia-cuda-runtime-cu11==11.7.99 in /local/musaeed/.conda/lib/python3.10/site-packages (from torch->medmnist) (11.7.99)\n",
            "Requirement already satisfied: nvidia-cuda-cupti-cu11==11.7.101 in /local/musaeed/.conda/lib/python3.10/site-packages (from torch->medmnist) (11.7.101)\n",
            "Requirement already satisfied: nvidia-cudnn-cu11==8.5.0.96 in /local/musaeed/.conda/lib/python3.10/site-packages (from torch->medmnist) (8.5.0.96)\n",
            "Requirement already satisfied: nvidia-cublas-cu11==11.10.3.66 in /local/musaeed/.conda/lib/python3.10/site-packages (from torch->medmnist) (11.10.3.66)\n",
            "Requirement already satisfied: nvidia-cufft-cu11==10.9.0.58 in /local/musaeed/.conda/lib/python3.10/site-packages (from torch->medmnist) (10.9.0.58)\n",
            "Requirement already satisfied: nvidia-curand-cu11==10.2.10.91 in /local/musaeed/.conda/lib/python3.10/site-packages (from torch->medmnist) (10.2.10.91)\n",
            "Requirement already satisfied: nvidia-cusolver-cu11==11.4.0.1 in /local/musaeed/.conda/lib/python3.10/site-packages (from torch->medmnist) (11.4.0.1)\n",
            "Requirement already satisfied: nvidia-cusparse-cu11==11.7.4.91 in /local/musaeed/.conda/lib/python3.10/site-packages (from torch->medmnist) (11.7.4.91)\n",
            "Requirement already satisfied: nvidia-nccl-cu11==2.14.3 in /local/musaeed/.conda/lib/python3.10/site-packages (from torch->medmnist) (2.14.3)\n",
            "Requirement already satisfied: nvidia-nvtx-cu11==11.7.91 in /local/musaeed/.conda/lib/python3.10/site-packages (from torch->medmnist) (11.7.91)\n",
            "Requirement already satisfied: triton==2.0.0 in /local/musaeed/.conda/lib/python3.10/site-packages (from torch->medmnist) (2.0.0)\n",
            "Requirement already satisfied: setuptools in /local/musaeed/.conda/lib/python3.10/site-packages (from nvidia-cublas-cu11==11.10.3.66->torch->medmnist) (67.8.0)\n",
            "Requirement already satisfied: wheel in /local/musaeed/.conda/lib/python3.10/site-packages (from nvidia-cublas-cu11==11.10.3.66->torch->medmnist) (0.38.4)\n",
            "Requirement already satisfied: cmake in /local/musaeed/.conda/lib/python3.10/site-packages (from triton==2.0.0->torch->medmnist) (3.27.0)\n",
            "Requirement already satisfied: lit in /local/musaeed/.conda/lib/python3.10/site-packages (from triton==2.0.0->torch->medmnist) (16.0.6)\n",
            "Requirement already satisfied: requests in /local/musaeed/.conda/lib/python3.10/site-packages (from torchvision->medmnist) (2.31.0)\n",
            "Requirement already satisfied: MarkupSafe>=2.0 in /local/musaeed/.conda/lib/python3.10/site-packages (from jinja2->torch->medmnist) (2.1.3)\n",
            "Requirement already satisfied: charset-normalizer<4,>=2 in /local/musaeed/.conda/lib/python3.10/site-packages (from requests->torchvision->medmnist) (3.2.0)\n",
            "Requirement already satisfied: idna<4,>=2.5 in /local/musaeed/.conda/lib/python3.10/site-packages (from requests->torchvision->medmnist) (3.4)\n",
            "Requirement already satisfied: urllib3<3,>=1.21.1 in /local/musaeed/.conda/lib/python3.10/site-packages (from requests->torchvision->medmnist) (2.0.4)\n",
            "Requirement already satisfied: certifi>=2017.4.17 in /local/musaeed/.conda/lib/python3.10/site-packages (from requests->torchvision->medmnist) (2023.7.22)\n",
            "Requirement already satisfied: mpmath>=0.19 in /local/musaeed/.conda/lib/python3.10/site-packages (from sympy->torch->medmnist) (1.3.0)\n",
            "Building wheels for collected packages: fire\n",
            "  Building wheel for fire (setup.py) ... \u001b[?25ldone\n",
            "\u001b[?25h  Created wheel for fire: filename=fire-0.5.0-py2.py3-none-any.whl size=116931 sha256=75747722e2e675f622072055af154292531a492486b88e91de173c573b57aa5e\n",
            "  Stored in directory: /local/home/CE/musaeed/.cache/pip/wheels/90/d4/f7/9404e5db0116bd4d43e5666eaa3e70ab53723e1e3ea40c9a95\n",
            "Successfully built fire\n",
            "Installing collected packages: pytz, tzdata, tifffile, threadpoolctl, termcolor, scipy, PyWavelets, lazy_loader, joblib, imageio, scikit-learn, scikit-image, pandas, fire, medmnist\n",
            "Successfully installed PyWavelets-1.4.1 fire-0.5.0 imageio-2.31.1 joblib-1.3.1 lazy_loader-0.3 medmnist-2.2.2 pandas-2.0.3 pytz-2023.3 scikit-image-0.21.0 scikit-learn-1.3.0 scipy-1.11.1 termcolor-2.3.0 threadpoolctl-3.2.0 tifffile-2023.7.18 tzdata-2023.3\n",
            "Note: you may need to restart the kernel to use updated packages.\n"
          ]
        }
      ],
      "source": [
        "%pip install medmnist"
      ]
    },
    {
      "cell_type": "code",
      "execution_count": 49,
      "metadata": {
        "id": "_7efN9KhHS15"
      },
      "outputs": [],
      "source": [
        "import medmnist\n",
        "from medmnist import INFO\n",
        "data_flag = 'breastmnist'\n",
        "# [tissuemnist , pathmnist, chestmnist, dermamnist, octmnisr]\n",
        "# ,pnemonismnist , retinamnist, bloodmnist, tissuemnist, organcmist, organs ]\n",
        "download = True\n",
        "\n",
        "NUM_EPOCHS = 50\n",
        "BATCH_SIZE = 3\n",
        "LR = 0.005\n",
        "\n",
        "info = INFO[data_flag]\n",
        "task = info['task']\n",
        "n_channels = info['n_channels']\n",
        "n_classes = len(info['label'])\n",
        "\n",
        "DataClass = getattr(medmnist, info['python_class'])"
      ]
    },
    {
      "cell_type": "code",
      "execution_count": 50,
      "metadata": {
        "id": "oC-P48ynHS49"
      },
      "outputs": [],
      "source": [
        "import torchvision.transforms as transforms\n",
        "#preprocessing\n",
        "train_transform = transforms.Compose([\n",
        "        transforms.Resize(224),\n",
        "        transforms.Lambda(lambda image:image.convert('RGB')),\n",
        "        transforms.AugMix(),\n",
        "        transforms.ToTensor(),\n",
        "        transforms.Normalize(mean=[0.5], std=[0.5])\n",
        "]\n",
        ")\n",
        "test_transform = transforms.Compose([\n",
        "    transforms.Resize(224),\n",
        "    transforms.Lambda(lambda image:image.convert('RGB')),\n",
        "    transforms.ToTensor(),\n",
        "    transforms.Normalize(mean=[0.5], std=[0.5])\n",
        "]\n",
        ")"
      ]
    },
    {
      "cell_type": "code",
      "execution_count": 51,
      "metadata": {
        "colab": {
          "base_uri": "https://localhost:8080/"
        },
        "id": "KKvLoUSsHS7r",
        "outputId": "d6c36687-9fc6-4b87-ee5a-cbcbe8256f15"
      },
      "outputs": [
        {
          "name": "stdout",
          "output_type": "stream",
          "text": [
            "Using downloaded and verified file: /home/CE/musaeed/.medmnist/breastmnist.npz\n",
            "Using downloaded and verified file: /home/CE/musaeed/.medmnist/breastmnist.npz\n",
            "Using downloaded and verified file: /home/CE/musaeed/.medmnist/breastmnist.npz\n"
          ]
        }
      ],
      "source": [
        "import torch.utils.data as data\n",
        "#load the data\n",
        "train_dataset = DataClass(split='train', transform=train_transform, download=download)\n",
        "val_dataset = DataClass(split='val', transform=train_transform, download=download)\n",
        "test_dataset = DataClass(split='test', transform=test_transform, download=download)\n",
        "\n",
        "#encapsulate data into dataloader form\n",
        "train_loader = data.DataLoader(dataset=train_dataset, batch_size=BATCH_SIZE, shuffle=True)\n",
        "train_loader_at_eval = data.DataLoader(dataset=val_dataset, batch_size=2*BATCH_SIZE, shuffle=False)\n",
        "test_loader = data.DataLoader(dataset=test_dataset, batch_size=2*BATCH_SIZE, shuffle=False)"
      ]
    },
    {
      "cell_type": "code",
      "execution_count": 52,
      "metadata": {
        "colab": {
          "base_uri": "https://localhost:8080/"
        },
        "id": "c93vOY4ANhzB",
        "outputId": "a005223f-21f6-4cc1-c016-178f3514638a"
      },
      "outputs": [
        {
          "name": "stdout",
          "output_type": "stream",
          "text": [
            "Dataset BreastMNIST (breastmnist)\n",
            "    Number of datapoints: 546\n",
            "    Root location: /home/CE/musaeed/.medmnist\n",
            "    Split: train\n",
            "    Task: binary-class\n",
            "    Number of channels: 1\n",
            "    Meaning of labels: {'0': 'malignant', '1': 'normal, benign'}\n",
            "    Number of samples: {'train': 546, 'val': 78, 'test': 156}\n",
            "    Description: The BreastMNIST is based on a dataset of 780 breast ultrasound images. It is categorized into 3 classes: normal, benign, and malignant. As we use low-resolution images, we simplify the task into binary classification by combining normal and benign as positive and classifying them against malignant as negative. We split the source dataset with a ratio of 7:1:2 into training, validation and test set. The source images of 1×500×500 are resized into 1×28×28.\n",
            "    License: CC BY 4.0\n",
            "+++++++++++++++++\n",
            "Dataset BreastMNIST (breastmnist)\n",
            "    Number of datapoints: 156\n",
            "    Root location: /home/CE/musaeed/.medmnist\n",
            "    Split: test\n",
            "    Task: binary-class\n",
            "    Number of channels: 1\n",
            "    Meaning of labels: {'0': 'malignant', '1': 'normal, benign'}\n",
            "    Number of samples: {'train': 546, 'val': 78, 'test': 156}\n",
            "    Description: The BreastMNIST is based on a dataset of 780 breast ultrasound images. It is categorized into 3 classes: normal, benign, and malignant. As we use low-resolution images, we simplify the task into binary classification by combining normal and benign as positive and classifying them against malignant as negative. We split the source dataset with a ratio of 7:1:2 into training, validation and test set. The source images of 1×500×500 are resized into 1×28×28.\n",
            "    License: CC BY 4.0\n"
          ]
        }
      ],
      "source": [
        "print(train_dataset)\n",
        "print(\"+++++++++++++++++\")\n",
        "print(test_dataset)"
      ]
    },
    {
      "cell_type": "code",
      "execution_count": 53,
      "metadata": {
        "colab": {
          "base_uri": "https://localhost:8080/"
        },
        "id": "SZq_g3FfNi1a",
        "outputId": "2f8bd5f4-8439-4450-a0e7-a12f6a3db8d7"
      },
      "outputs": [
        {
          "name": "stdout",
          "output_type": "stream",
          "text": [
            "initialize_weights...\n"
          ]
        }
      ],
      "source": [
        "from MedVit import MedViT_small as small\n",
        "model = small()"
      ]
    },
    {
      "cell_type": "code",
      "execution_count": 54,
      "metadata": {},
      "outputs": [
        {
          "data": {
            "text/plain": [
              "2"
            ]
          },
          "execution_count": 54,
          "metadata": {},
          "output_type": "execute_result"
        }
      ],
      "source": [
        "n_classes"
      ]
    },
    {
      "cell_type": "code",
      "execution_count": 55,
      "metadata": {
        "id": "tavZqnG-N27T"
      },
      "outputs": [],
      "source": [
        "from torch import nn\n",
        "model.proj_head[0] = nn.Linear(in_features=1024, out_features=n_classes, bias=True)"
      ]
    },
    {
      "cell_type": "code",
      "execution_count": 56,
      "metadata": {
        "id": "7o-_mX4hN3GD"
      },
      "outputs": [],
      "source": [
        "#Define loss function and optimizer\n",
        "if task == \"multi-task, binary-class\":\n",
        "  criterion = nn.BCEWithLogitsLoss()\n",
        "else:\n",
        "  criterion = nn.CrossEntropyLoss()\n",
        "\n",
        "optimizer = optim.SGD(model.parameters(), lr=LR, momentum=0.9)"
      ]
    },
    {
      "cell_type": "code",
      "execution_count": 57,
      "metadata": {
        "colab": {
          "base_uri": "https://localhost:8080/"
        },
        "id": "UiPH8w-OOYmq",
        "outputId": "fe88c7a3-7af7-4563-f103-343713058d95"
      },
      "outputs": [
        {
          "data": {
            "text/plain": [
              "CrossEntropyLoss()"
            ]
          },
          "execution_count": 57,
          "metadata": {},
          "output_type": "execute_result"
        }
      ],
      "source": [
        "criterion"
      ]
    },
    {
      "cell_type": "code",
      "execution_count": 58,
      "metadata": {
        "id": "ERg9aYl8Ob0w"
      },
      "outputs": [
        {
          "data": {
            "text/plain": [
              "device(type='cuda')"
            ]
          },
          "execution_count": 58,
          "metadata": {},
          "output_type": "execute_result"
        }
      ],
      "source": [
        "device = torch.device(\"cuda\" if torch.cuda.is_available() else \"cpu\")\n",
        "device"
      ]
    },
    {
      "cell_type": "code",
      "execution_count": 59,
      "metadata": {
        "colab": {
          "base_uri": "https://localhost:8080/"
        },
        "id": "aK5wgbNZOb3m",
        "outputId": "137bdaed-820e-48c9-9382-9290e1ee56c7"
      },
      "outputs": [
        {
          "name": "stderr",
          "output_type": "stream",
          "text": [
            "100%|██████████| 182/182 [00:40<00:00,  4.47it/s]\n",
            "100%|██████████| 182/182 [00:41<00:00,  4.40it/s]\n",
            "100%|██████████| 182/182 [00:41<00:00,  4.34it/s]\n",
            "100%|██████████| 182/182 [00:41<00:00,  4.39it/s]\n",
            "100%|██████████| 182/182 [00:41<00:00,  4.40it/s]\n",
            "100%|██████████| 182/182 [00:41<00:00,  4.40it/s]\n",
            "100%|██████████| 182/182 [00:41<00:00,  4.40it/s]\n",
            "100%|██████████| 182/182 [00:41<00:00,  4.40it/s]\n",
            "100%|██████████| 182/182 [00:41<00:00,  4.41it/s]\n",
            "100%|██████████| 182/182 [00:41<00:00,  4.40it/s]\n",
            "100%|██████████| 182/182 [00:41<00:00,  4.42it/s]\n",
            "100%|██████████| 182/182 [00:41<00:00,  4.41it/s]\n",
            "100%|██████████| 182/182 [00:41<00:00,  4.40it/s]\n",
            "100%|██████████| 182/182 [00:41<00:00,  4.40it/s]\n",
            "100%|██████████| 182/182 [00:41<00:00,  4.40it/s]\n",
            "100%|██████████| 182/182 [00:41<00:00,  4.41it/s]\n",
            "100%|██████████| 182/182 [00:39<00:00,  4.55it/s]\n",
            "100%|██████████| 182/182 [00:41<00:00,  4.41it/s]\n",
            "100%|██████████| 182/182 [00:41<00:00,  4.40it/s]\n",
            "100%|██████████| 182/182 [00:41<00:00,  4.41it/s]\n",
            "100%|██████████| 182/182 [00:41<00:00,  4.41it/s]\n",
            "100%|██████████| 182/182 [00:41<00:00,  4.41it/s]\n",
            "100%|██████████| 182/182 [00:41<00:00,  4.39it/s]\n",
            "100%|██████████| 182/182 [00:41<00:00,  4.41it/s]\n",
            "100%|██████████| 182/182 [00:41<00:00,  4.40it/s]\n",
            "100%|██████████| 182/182 [00:41<00:00,  4.41it/s]\n",
            "100%|██████████| 182/182 [00:41<00:00,  4.41it/s]\n",
            "100%|██████████| 182/182 [00:41<00:00,  4.40it/s]\n",
            "100%|██████████| 182/182 [00:41<00:00,  4.41it/s]\n",
            "100%|██████████| 182/182 [00:41<00:00,  4.40it/s]\n",
            "100%|██████████| 182/182 [00:41<00:00,  4.41it/s]\n",
            "100%|██████████| 182/182 [00:41<00:00,  4.43it/s]\n",
            "100%|██████████| 182/182 [00:40<00:00,  4.52it/s]\n",
            "100%|██████████| 182/182 [00:41<00:00,  4.41it/s]\n",
            "100%|██████████| 182/182 [00:41<00:00,  4.39it/s]\n",
            "100%|██████████| 182/182 [00:41<00:00,  4.41it/s]\n",
            "100%|██████████| 182/182 [00:41<00:00,  4.41it/s]\n",
            "100%|██████████| 182/182 [00:41<00:00,  4.40it/s]\n",
            "100%|██████████| 182/182 [00:41<00:00,  4.40it/s]\n",
            "100%|██████████| 182/182 [00:41<00:00,  4.41it/s]\n",
            "100%|██████████| 182/182 [00:41<00:00,  4.40it/s]\n",
            "100%|██████████| 182/182 [00:41<00:00,  4.41it/s]\n",
            "100%|██████████| 182/182 [00:41<00:00,  4.40it/s]\n",
            "100%|██████████| 182/182 [00:41<00:00,  4.41it/s]\n",
            "100%|██████████| 182/182 [00:41<00:00,  4.41it/s]\n",
            "100%|██████████| 182/182 [00:41<00:00,  4.40it/s]\n",
            "100%|██████████| 182/182 [00:41<00:00,  4.41it/s]\n",
            "100%|██████████| 182/182 [00:40<00:00,  4.54it/s]\n",
            "100%|██████████| 182/182 [00:41<00:00,  4.41it/s]\n",
            "100%|██████████| 182/182 [00:41<00:00,  4.39it/s]\n"
          ]
        }
      ],
      "source": [
        "from torch.nn.functional import softmax\n",
        "from tqdm import tqdm\n",
        "#training\n",
        "for epoch in range(NUM_EPOCHS):\n",
        "  model = model.to(device)\n",
        "  model.train()\n",
        "  for inputs, targets in tqdm(train_loader):\n",
        "    inputs, targets = inputs.to(device), targets.to(device)\n",
        "    optimizer.zero_grad()\n",
        "    outputs = model(inputs.to(torch.float32))\n",
        "    if task == \"multi-label, binary-class\":\n",
        "      targets = targets.to(torch.float32).unsqueeze(1)\n",
        "    else:\n",
        "      targets = targets.to(torch.long)\n",
        "      targets = targets.view(-1)\n",
        "\n",
        "    predicted_classes = torch.argmax(outputs, dim=1)\n",
        "    loss = criterion(outputs, targets)\n",
        "    loss.backward()\n",
        "    optimizer.step()\n",
        "\n",
        "    # Delete tensors to free u.ep memory\n",
        "    del inputs, targets, outputs, predicted_classes\n",
        "    # Empty the cache to clear up some memory\n",
        "    torch.cuda.empty_cache\n"
      ]
    },
    {
      "cell_type": "code",
      "execution_count": 74,
      "metadata": {
        "colab": {
          "base_uri": "https://localhost:8080/"
        },
        "id": "a2ECDjT1Ob61",
        "outputId": "4361e49c-c95a-4220-a14b-be0b7620dc85"
      },
      "outputs": [
        {
          "name": "stdout",
          "output_type": "stream",
          "text": [
            "==> Evaluating...\n"
          ]
        },
        {
          "name": "stdout",
          "output_type": "stream",
          "text": [
            "\n",
            "\n",
            "AUC of the model: 0.8847117794486216\n",
            "Accuracy of the model: 0.8974358974358975\n",
            "\n",
            "\n",
            "AUC of the model: 0.8220551378446115\n",
            "Accuracy of the model: 0.8717948717948718\n"
          ]
        }
      ],
      "source": [
        "from sklearn.metrics import roc_auc_score, accuracy_score\n",
        "\n",
        "# switch to evaluation mode\n",
        "def test(split):\n",
        "  model.eval()\n",
        "  # Lists to store actual and predicted values\n",
        "  actuals = []\n",
        "  probas = []\n",
        "  predictions = []\n",
        "\n",
        "  if split == 'val':\n",
        "        data_loader = train_loader_at_eval\n",
        "  else:\n",
        "        data_loader = test_loader\n",
        "\n",
        "  with torch.no_grad():\n",
        "      for inputs, targets in data_loader:\n",
        "\n",
        "          inputs, targets = inputs.to(device), targets.to(device)\n",
        "\n",
        "          if task == 'multi-label, binary-class':\n",
        "              targets = targets.to(torch.float32).unsqueeze(1)\n",
        "          else:\n",
        "              targets = targets.to(torch.long)\n",
        "              targets = targets.view(-1)\n",
        "\n",
        "          outputs = model(inputs.to(torch.float32))\n",
        "          \n",
        "          softmax_outputs = softmax(outputs, dim=1)\n",
        "          \n",
        "    \n",
        "\n",
        "          _, predicted_classes = torch.max(outputs, 1)\n",
        "          \n",
        "          # Store the actual targets and predicted probabilities\n",
        "          actuals.extend(targets.cpu().numpy())\n",
        "          probas.extend(predicted_classes.detach().cpu().numpy())\n",
        "          # Probability of positive class\n",
        "          predictions.extend(predicted_classes.cpu().numpy())\n",
        "          \n",
        "  print('\\n')\n",
        "  \n",
        "  auc = roc_auc_score(actuals, probas, multi_class='ovr')\n",
        "  accuracy = accuracy_score(actuals, predictions)\n",
        "  print('AUC of the model:', auc)\n",
        "  print('Accuracy of the model:', accuracy)\n",
        "\n",
        "print('==> Evaluating...')\n",
        "test('val')\n",
        "test('test')\n"
      ]
    }
  ],
  "metadata": {
    "accelerator": "GPU",
    "colab": {
      "gpuType": "T4",
      "provenance": []
    },
    "kernelspec": {
      "display_name": "Python 3",
      "name": "python3"
    },
    "language_info": {
      "codemirror_mode": {
        "name": "ipython",
        "version": 3
      },
      "file_extension": ".py",
      "mimetype": "text/x-python",
      "name": "python",
      "nbconvert_exporter": "python",
      "pygments_lexer": "ipython3",
      "version": "3.10.12"
    }
  },
  "nbformat": 4,
  "nbformat_minor": 0
}
