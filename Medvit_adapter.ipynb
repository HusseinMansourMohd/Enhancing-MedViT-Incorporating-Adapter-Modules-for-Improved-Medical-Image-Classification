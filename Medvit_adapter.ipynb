{
  "cells": [
    {
      "cell_type": "code",
      "execution_count": 1,
      "metadata": {
        "colab": {
          "base_uri": "https://localhost:8080/"
        },
        "id": "GnT_FVl1sqmz",
        "outputId": "e87575ae-457a-4905-e6ef-b69dac41874c"
      },
      "outputs": [
        {
          "name": "stdout",
          "output_type": "stream",
          "text": [
            "Mon Jul 24 05:11:49 2023       \n",
            "+-----------------------------------------------------------------------------+\n",
            "| NVIDIA-SMI 515.86.01    Driver Version: 515.86.01    CUDA Version: 11.7     |\n",
            "|-------------------------------+----------------------+----------------------+\n",
            "| GPU  Name        Persistence-M| Bus-Id        Disp.A | Volatile Uncorr. ECC |\n",
            "| Fan  Temp  Perf  Pwr:Usage/Cap|         Memory-Usage | GPU-Util  Compute M. |\n",
            "|                               |                      |               MIG M. |\n",
            "|===============================+======================+======================|\n",
            "|   0  NVIDIA GeForce ...  On   | 00000000:02:00.0 Off |                  N/A |\n",
            "| 34%   75C    P2   112W / 250W |    939MiB / 12288MiB |     98%      Default |\n",
            "|                               |                      |                  N/A |\n",
            "+-------------------------------+----------------------+----------------------+\n",
            "|   1  NVIDIA GeForce ...  On   | 00000000:04:00.0 Off |                  N/A |\n",
            "| 22%   34C    P8    16W / 250W |   1636MiB / 12288MiB |      0%      Default |\n",
            "|                               |                      |                  N/A |\n",
            "+-------------------------------+----------------------+----------------------+\n",
            "|   2  NVIDIA GeForce ...  On   | 00000000:83:00.0 Off |                  N/A |\n",
            "| 27%   67C    P2    74W / 250W |   4188MiB / 12288MiB |      0%      Default |\n",
            "|                               |                      |                  N/A |\n",
            "+-------------------------------+----------------------+----------------------+\n",
            "|   3  NVIDIA GeForce ...  On   | 00000000:84:00.0 Off |                  N/A |\n",
            "| 23%   61C    P2    73W / 250W |  11468MiB / 12288MiB |      0%      Default |\n",
            "|                               |                      |                  N/A |\n",
            "+-------------------------------+----------------------+----------------------+\n",
            "                                                                               \n",
            "+-----------------------------------------------------------------------------+\n",
            "| Processes:                                                                  |\n",
            "|  GPU   GI   CI        PID   Type   Process name                  GPU Memory |\n",
            "|        ID   ID                                                   Usage      |\n",
            "|=============================================================================|\n",
            "|    0   N/A  N/A     16341      C   /home/EXT/mhahntmp/python39       466MiB |\n",
            "|    0   N/A  N/A     19755      C   /home/EXT/mhahntmp/python39       468MiB |\n",
            "|    1   N/A  N/A     24719      C   python3                          1631MiB |\n",
            "|    2   N/A  N/A     19905      C   python                            740MiB |\n",
            "|    2   N/A  N/A     24719      C   python3                          3441MiB |\n",
            "|    3   N/A  N/A      5481      C   python                           1602MiB |\n",
            "|    3   N/A  N/A      8522      C   python                           1602MiB |\n",
            "|    3   N/A  N/A     21606      C   python                           1578MiB |\n",
            "|    3   N/A  N/A     22537      C   python                           1578MiB |\n",
            "|    3   N/A  N/A     24719      C   python3                          2291MiB |\n",
            "|    3   N/A  N/A     26633      C   python                           1225MiB |\n",
            "|    3   N/A  N/A     35718      C   python                           1582MiB |\n",
            "+-----------------------------------------------------------------------------+\n"
          ]
        }
      ],
      "source": [
        "!nvidia-smi"
      ]
    },
    {
      "cell_type": "code",
      "execution_count": 3,
      "metadata": {},
      "outputs": [
        {
          "name": "stdout",
          "output_type": "stream",
          "text": [
            "Cloning into 'DeformableDETR'...\n",
            "remote: Enumerating objects: 142, done.\u001b[K\n",
            "remote: Counting objects: 100% (142/142), done.\u001b[K\n",
            "remote: Compressing objects: 100% (94/94), done.\u001b[K\n",
            "remote: Total 142 (delta 55), reused 96 (delta 43), pack-reused 0\u001b[K\n",
            "Receiving objects: 100% (142/142), 5.67 MiB | 10.62 MiB/s, done.\n",
            "Resolving deltas: 100% (55/55), done.\n",
            "Checking connectivity... done.\n"
          ]
        }
      ],
      "source": [
        "!git clone https://github.com/HusseinMansourMohd/DeformableDETR.git"
      ]
    },
    {
      "cell_type": "code",
      "execution_count": 9,
      "metadata": {},
      "outputs": [
        {
          "name": "stdout",
          "output_type": "stream",
          "text": [
            "\u001b[31mERROR: Could not find a version that satisfies the requirement torch==1.8.0 (from versions: 1.11.0, 1.12.0, 1.12.1, 1.13.0, 1.13.1, 2.0.0, 2.0.1)\u001b[0m\u001b[31m\n",
            "\u001b[0m\u001b[31mERROR: No matching distribution found for torch==1.8.0\u001b[0m\u001b[31m\n",
            "\u001b[0mNote: you may need to restart the kernel to use updated packages.\n",
            "Requirement already satisfied: numpy in /local/musaeed/.conda/lib/python3.10/site-packages (1.25.1)\n",
            "Note: you may need to restart the kernel to use updated packages.\n",
            "Requirement already satisfied: torchvision in /local/musaeed/.conda/lib/python3.10/site-packages (0.15.2)\n",
            "Requirement already satisfied: numpy in /local/musaeed/.conda/lib/python3.10/site-packages (from torchvision) (1.25.1)\n",
            "Requirement already satisfied: requests in /local/musaeed/.conda/lib/python3.10/site-packages (from torchvision) (2.31.0)\n",
            "Requirement already satisfied: torch==2.0.1 in /local/musaeed/.conda/lib/python3.10/site-packages (from torchvision) (2.0.1)\n",
            "Requirement already satisfied: pillow!=8.3.*,>=5.3.0 in /local/musaeed/.conda/lib/python3.10/site-packages (from torchvision) (10.0.0)\n",
            "Requirement already satisfied: filelock in /local/musaeed/.conda/lib/python3.10/site-packages (from torch==2.0.1->torchvision) (3.12.2)\n",
            "Requirement already satisfied: typing-extensions in /local/musaeed/.conda/lib/python3.10/site-packages (from torch==2.0.1->torchvision) (4.7.1)\n",
            "Requirement already satisfied: sympy in /local/musaeed/.conda/lib/python3.10/site-packages (from torch==2.0.1->torchvision) (1.12)\n",
            "Requirement already satisfied: networkx in /local/musaeed/.conda/lib/python3.10/site-packages (from torch==2.0.1->torchvision) (3.1)\n",
            "Requirement already satisfied: jinja2 in /local/musaeed/.conda/lib/python3.10/site-packages (from torch==2.0.1->torchvision) (3.1.2)\n",
            "Requirement already satisfied: nvidia-cuda-nvrtc-cu11==11.7.99 in /local/musaeed/.conda/lib/python3.10/site-packages (from torch==2.0.1->torchvision) (11.7.99)\n",
            "Requirement already satisfied: nvidia-cuda-runtime-cu11==11.7.99 in /local/musaeed/.conda/lib/python3.10/site-packages (from torch==2.0.1->torchvision) (11.7.99)\n",
            "Requirement already satisfied: nvidia-cuda-cupti-cu11==11.7.101 in /local/musaeed/.conda/lib/python3.10/site-packages (from torch==2.0.1->torchvision) (11.7.101)\n",
            "Requirement already satisfied: nvidia-cudnn-cu11==8.5.0.96 in /local/musaeed/.conda/lib/python3.10/site-packages (from torch==2.0.1->torchvision) (8.5.0.96)\n",
            "Requirement already satisfied: nvidia-cublas-cu11==11.10.3.66 in /local/musaeed/.conda/lib/python3.10/site-packages (from torch==2.0.1->torchvision) (11.10.3.66)\n",
            "Requirement already satisfied: nvidia-cufft-cu11==10.9.0.58 in /local/musaeed/.conda/lib/python3.10/site-packages (from torch==2.0.1->torchvision) (10.9.0.58)\n",
            "Requirement already satisfied: nvidia-curand-cu11==10.2.10.91 in /local/musaeed/.conda/lib/python3.10/site-packages (from torch==2.0.1->torchvision) (10.2.10.91)\n",
            "Requirement already satisfied: nvidia-cusolver-cu11==11.4.0.1 in /local/musaeed/.conda/lib/python3.10/site-packages (from torch==2.0.1->torchvision) (11.4.0.1)\n",
            "Requirement already satisfied: nvidia-cusparse-cu11==11.7.4.91 in /local/musaeed/.conda/lib/python3.10/site-packages (from torch==2.0.1->torchvision) (11.7.4.91)\n",
            "Requirement already satisfied: nvidia-nccl-cu11==2.14.3 in /local/musaeed/.conda/lib/python3.10/site-packages (from torch==2.0.1->torchvision) (2.14.3)\n",
            "Requirement already satisfied: nvidia-nvtx-cu11==11.7.91 in /local/musaeed/.conda/lib/python3.10/site-packages (from torch==2.0.1->torchvision) (11.7.91)\n",
            "Requirement already satisfied: triton==2.0.0 in /local/musaeed/.conda/lib/python3.10/site-packages (from torch==2.0.1->torchvision) (2.0.0)\n",
            "Requirement already satisfied: setuptools in /local/musaeed/.conda/lib/python3.10/site-packages (from nvidia-cublas-cu11==11.10.3.66->torch==2.0.1->torchvision) (67.8.0)\n",
            "Requirement already satisfied: wheel in /local/musaeed/.conda/lib/python3.10/site-packages (from nvidia-cublas-cu11==11.10.3.66->torch==2.0.1->torchvision) (0.38.4)\n",
            "Requirement already satisfied: cmake in /local/musaeed/.conda/lib/python3.10/site-packages (from triton==2.0.0->torch==2.0.1->torchvision) (3.27.0)\n",
            "Requirement already satisfied: lit in /local/musaeed/.conda/lib/python3.10/site-packages (from triton==2.0.0->torch==2.0.1->torchvision) (16.0.6)\n",
            "Requirement already satisfied: charset-normalizer<4,>=2 in /local/musaeed/.conda/lib/python3.10/site-packages (from requests->torchvision) (3.2.0)\n",
            "Requirement already satisfied: idna<4,>=2.5 in /local/musaeed/.conda/lib/python3.10/site-packages (from requests->torchvision) (3.4)\n",
            "Requirement already satisfied: urllib3<3,>=1.21.1 in /local/musaeed/.conda/lib/python3.10/site-packages (from requests->torchvision) (2.0.4)\n",
            "Requirement already satisfied: certifi>=2017.4.17 in /local/musaeed/.conda/lib/python3.10/site-packages (from requests->torchvision) (2023.7.22)\n",
            "Requirement already satisfied: MarkupSafe>=2.0 in /local/musaeed/.conda/lib/python3.10/site-packages (from jinja2->torch==2.0.1->torchvision) (2.1.3)\n",
            "Requirement already satisfied: mpmath>=0.19 in /local/musaeed/.conda/lib/python3.10/site-packages (from sympy->torch==2.0.1->torchvision) (1.3.0)\n",
            "Note: you may need to restart the kernel to use updated packages.\n",
            "Requirement already satisfied: torchsummary in /local/musaeed/.conda/lib/python3.10/site-packages (1.5.1)\n",
            "Note: you may need to restart the kernel to use updated packages.\n",
            "Requirement already satisfied: matplotlib in /local/musaeed/.conda/lib/python3.10/site-packages (3.7.2)\n",
            "Requirement already satisfied: contourpy>=1.0.1 in /local/musaeed/.conda/lib/python3.10/site-packages (from matplotlib) (1.1.0)\n",
            "Requirement already satisfied: cycler>=0.10 in /local/musaeed/.conda/lib/python3.10/site-packages (from matplotlib) (0.11.0)\n",
            "Requirement already satisfied: fonttools>=4.22.0 in /local/musaeed/.conda/lib/python3.10/site-packages (from matplotlib) (4.41.1)\n",
            "Requirement already satisfied: kiwisolver>=1.0.1 in /local/musaeed/.conda/lib/python3.10/site-packages (from matplotlib) (1.4.4)\n",
            "Requirement already satisfied: numpy>=1.20 in /local/musaeed/.conda/lib/python3.10/site-packages (from matplotlib) (1.25.1)\n",
            "Requirement already satisfied: packaging>=20.0 in /local/musaeed/.conda/lib/python3.10/site-packages (from matplotlib) (23.1)\n",
            "Requirement already satisfied: pillow>=6.2.0 in /local/musaeed/.conda/lib/python3.10/site-packages (from matplotlib) (10.0.0)\n",
            "Requirement already satisfied: pyparsing<3.1,>=2.3.1 in /local/musaeed/.conda/lib/python3.10/site-packages (from matplotlib) (3.0.9)\n",
            "Requirement already satisfied: python-dateutil>=2.7 in /local/musaeed/.conda/lib/python3.10/site-packages (from matplotlib) (2.8.2)\n",
            "Requirement already satisfied: six>=1.5 in /local/musaeed/.conda/lib/python3.10/site-packages (from python-dateutil>=2.7->matplotlib) (1.16.0)\n",
            "Note: you may need to restart the kernel to use updated packages.\n",
            "Requirement already satisfied: timm in /local/musaeed/.conda/lib/python3.10/site-packages (0.9.2)\n",
            "Requirement already satisfied: torch>=1.7 in /local/musaeed/.conda/lib/python3.10/site-packages (from timm) (2.0.1)\n",
            "Requirement already satisfied: torchvision in /local/musaeed/.conda/lib/python3.10/site-packages (from timm) (0.15.2)\n",
            "Requirement already satisfied: pyyaml in /local/musaeed/.conda/lib/python3.10/site-packages (from timm) (6.0.1)\n",
            "Requirement already satisfied: huggingface-hub in /local/musaeed/.conda/lib/python3.10/site-packages (from timm) (0.16.4)\n",
            "Requirement already satisfied: safetensors in /local/musaeed/.conda/lib/python3.10/site-packages (from timm) (0.3.1)\n",
            "Requirement already satisfied: filelock in /local/musaeed/.conda/lib/python3.10/site-packages (from torch>=1.7->timm) (3.12.2)\n",
            "Requirement already satisfied: typing-extensions in /local/musaeed/.conda/lib/python3.10/site-packages (from torch>=1.7->timm) (4.7.1)\n",
            "Requirement already satisfied: sympy in /local/musaeed/.conda/lib/python3.10/site-packages (from torch>=1.7->timm) (1.12)\n",
            "Requirement already satisfied: networkx in /local/musaeed/.conda/lib/python3.10/site-packages (from torch>=1.7->timm) (3.1)\n",
            "Requirement already satisfied: jinja2 in /local/musaeed/.conda/lib/python3.10/site-packages (from torch>=1.7->timm) (3.1.2)\n",
            "Requirement already satisfied: nvidia-cuda-nvrtc-cu11==11.7.99 in /local/musaeed/.conda/lib/python3.10/site-packages (from torch>=1.7->timm) (11.7.99)\n",
            "Requirement already satisfied: nvidia-cuda-runtime-cu11==11.7.99 in /local/musaeed/.conda/lib/python3.10/site-packages (from torch>=1.7->timm) (11.7.99)\n",
            "Requirement already satisfied: nvidia-cuda-cupti-cu11==11.7.101 in /local/musaeed/.conda/lib/python3.10/site-packages (from torch>=1.7->timm) (11.7.101)\n",
            "Requirement already satisfied: nvidia-cudnn-cu11==8.5.0.96 in /local/musaeed/.conda/lib/python3.10/site-packages (from torch>=1.7->timm) (8.5.0.96)\n",
            "Requirement already satisfied: nvidia-cublas-cu11==11.10.3.66 in /local/musaeed/.conda/lib/python3.10/site-packages (from torch>=1.7->timm) (11.10.3.66)\n",
            "Requirement already satisfied: nvidia-cufft-cu11==10.9.0.58 in /local/musaeed/.conda/lib/python3.10/site-packages (from torch>=1.7->timm) (10.9.0.58)\n",
            "Requirement already satisfied: nvidia-curand-cu11==10.2.10.91 in /local/musaeed/.conda/lib/python3.10/site-packages (from torch>=1.7->timm) (10.2.10.91)\n",
            "Requirement already satisfied: nvidia-cusolver-cu11==11.4.0.1 in /local/musaeed/.conda/lib/python3.10/site-packages (from torch>=1.7->timm) (11.4.0.1)\n",
            "Requirement already satisfied: nvidia-cusparse-cu11==11.7.4.91 in /local/musaeed/.conda/lib/python3.10/site-packages (from torch>=1.7->timm) (11.7.4.91)\n",
            "Requirement already satisfied: nvidia-nccl-cu11==2.14.3 in /local/musaeed/.conda/lib/python3.10/site-packages (from torch>=1.7->timm) (2.14.3)\n",
            "Requirement already satisfied: nvidia-nvtx-cu11==11.7.91 in /local/musaeed/.conda/lib/python3.10/site-packages (from torch>=1.7->timm) (11.7.91)\n",
            "Requirement already satisfied: triton==2.0.0 in /local/musaeed/.conda/lib/python3.10/site-packages (from torch>=1.7->timm) (2.0.0)\n",
            "Requirement already satisfied: setuptools in /local/musaeed/.conda/lib/python3.10/site-packages (from nvidia-cublas-cu11==11.10.3.66->torch>=1.7->timm) (67.8.0)\n",
            "Requirement already satisfied: wheel in /local/musaeed/.conda/lib/python3.10/site-packages (from nvidia-cublas-cu11==11.10.3.66->torch>=1.7->timm) (0.38.4)\n",
            "Requirement already satisfied: cmake in /local/musaeed/.conda/lib/python3.10/site-packages (from triton==2.0.0->torch>=1.7->timm) (3.27.0)\n",
            "Requirement already satisfied: lit in /local/musaeed/.conda/lib/python3.10/site-packages (from triton==2.0.0->torch>=1.7->timm) (16.0.6)\n",
            "Requirement already satisfied: fsspec in /local/musaeed/.conda/lib/python3.10/site-packages (from huggingface-hub->timm) (2023.6.0)\n",
            "Requirement already satisfied: requests in /local/musaeed/.conda/lib/python3.10/site-packages (from huggingface-hub->timm) (2.31.0)\n",
            "Requirement already satisfied: tqdm>=4.42.1 in /local/musaeed/.conda/lib/python3.10/site-packages (from huggingface-hub->timm) (4.65.0)\n",
            "Requirement already satisfied: packaging>=20.9 in /local/musaeed/.conda/lib/python3.10/site-packages (from huggingface-hub->timm) (23.1)\n",
            "Requirement already satisfied: numpy in /local/musaeed/.conda/lib/python3.10/site-packages (from torchvision->timm) (1.25.1)\n",
            "Requirement already satisfied: pillow!=8.3.*,>=5.3.0 in /local/musaeed/.conda/lib/python3.10/site-packages (from torchvision->timm) (10.0.0)\n"
          ]
        }
      ],
      "source": [
        "%pip install torch==1.8.0\n",
        "%pip install numpy\n",
        "%pip install torchvision\n",
        "%pip install torchsummary\n",
        "%pip install matplotlib\n",
        "%pip install timm\n",
        "%pip install einops==0.6.1"
      ]
    },
    {
      "cell_type": "code",
      "execution_count": 6,
      "metadata": {
        "colab": {
          "base_uri": "https://localhost:8080/"
        },
        "id": "RR9XFpbZ9Tvr",
        "outputId": "cb963743-53cc-4409-ed74-10a3e7e911e7"
      },
      "outputs": [
        {
          "name": "stdout",
          "output_type": "stream",
          "text": [
            "running install\n",
            "/local/musaeed/.conda/lib/python3.10/site-packages/setuptools/_distutils/cmd.py:66: SetuptoolsDeprecationWarning: setup.py install is deprecated.\n",
            "!!\n",
            "\n",
            "        ********************************************************************************\n",
            "        Please avoid running ``setup.py`` directly.\n",
            "        Instead, use pypa/build, pypa/installer, pypa/build or\n",
            "        other standards-based tools.\n",
            "\n",
            "        See https://blog.ganssle.io/articles/2021/10/setup-py-deprecated.html for details.\n",
            "        ********************************************************************************\n",
            "\n",
            "!!\n",
            "  self.initialize_options()\n",
            "/local/musaeed/.conda/lib/python3.10/site-packages/setuptools/_distutils/cmd.py:66: EasyInstallDeprecationWarning: easy_install command is deprecated.\n",
            "!!\n",
            "\n",
            "        ********************************************************************************\n",
            "        Please avoid running ``setup.py`` and ``easy_install``.\n",
            "        Instead, use pypa/build, pypa/installer, pypa/build or\n",
            "        other standards-based tools.\n",
            "\n",
            "        See https://github.com/pypa/setuptools/issues/917 for details.\n",
            "        ********************************************************************************\n",
            "\n",
            "!!\n",
            "  self.initialize_options()\n",
            "running bdist_egg\n",
            "running egg_info\n",
            "writing MultiScaleDeformableAttention.egg-info/PKG-INFO\n",
            "writing dependency_links to MultiScaleDeformableAttention.egg-info/dependency_links.txt\n",
            "writing top-level names to MultiScaleDeformableAttention.egg-info/top_level.txt\n",
            "/local/musaeed/.conda/lib/python3.10/site-packages/torch/utils/cpp_extension.py:476: UserWarning: Attempted to use ninja as the BuildExtension backend but we could not find ninja.. Falling back to using the slow distutils backend.\n",
            "  warnings.warn(msg.format('we could not find ninja.'))\n",
            "reading manifest file 'MultiScaleDeformableAttention.egg-info/SOURCES.txt'\n",
            "writing manifest file 'MultiScaleDeformableAttention.egg-info/SOURCES.txt'\n",
            "installing library code to build/bdist.linux-x86_64/egg\n",
            "running install_lib\n",
            "running build_py\n",
            "running build_ext\n",
            "Traceback (most recent call last):\n",
            "  File \"/local/musaeed/.conda/cuda/Enhancing_Medvit/DeformableDETR/models/ops/setup.py\", line 62, in <module>\n",
            "    setup(\n",
            "  File \"/local/musaeed/.conda/lib/python3.10/site-packages/setuptools/__init__.py\", line 107, in setup\n",
            "    return distutils.core.setup(**attrs)\n",
            "  File \"/local/musaeed/.conda/lib/python3.10/site-packages/setuptools/_distutils/core.py\", line 185, in setup\n",
            "    return run_commands(dist)\n",
            "  File \"/local/musaeed/.conda/lib/python3.10/site-packages/setuptools/_distutils/core.py\", line 201, in run_commands\n",
            "    dist.run_commands()\n",
            "  File \"/local/musaeed/.conda/lib/python3.10/site-packages/setuptools/_distutils/dist.py\", line 969, in run_commands\n",
            "    self.run_command(cmd)\n",
            "  File \"/local/musaeed/.conda/lib/python3.10/site-packages/setuptools/dist.py\", line 1244, in run_command\n",
            "    super().run_command(command)\n",
            "  File \"/local/musaeed/.conda/lib/python3.10/site-packages/setuptools/_distutils/dist.py\", line 988, in run_command\n",
            "    cmd_obj.run()\n",
            "  File \"/local/musaeed/.conda/lib/python3.10/site-packages/setuptools/command/install.py\", line 80, in run\n",
            "    self.do_egg_install()\n",
            "  File \"/local/musaeed/.conda/lib/python3.10/site-packages/setuptools/command/install.py\", line 129, in do_egg_install\n",
            "    self.run_command('bdist_egg')\n",
            "  File \"/local/musaeed/.conda/lib/python3.10/site-packages/setuptools/_distutils/cmd.py\", line 318, in run_command\n",
            "    self.distribution.run_command(command)\n",
            "  File \"/local/musaeed/.conda/lib/python3.10/site-packages/setuptools/dist.py\", line 1244, in run_command\n",
            "    super().run_command(command)\n",
            "  File \"/local/musaeed/.conda/lib/python3.10/site-packages/setuptools/_distutils/dist.py\", line 988, in run_command\n",
            "    cmd_obj.run()\n",
            "  File \"/local/musaeed/.conda/lib/python3.10/site-packages/setuptools/command/bdist_egg.py\", line 164, in run\n",
            "    cmd = self.call_command('install_lib', warn_dir=0)\n",
            "  File \"/local/musaeed/.conda/lib/python3.10/site-packages/setuptools/command/bdist_egg.py\", line 150, in call_command\n",
            "    self.run_command(cmdname)\n",
            "  File \"/local/musaeed/.conda/lib/python3.10/site-packages/setuptools/_distutils/cmd.py\", line 318, in run_command\n",
            "    self.distribution.run_command(command)\n",
            "  File \"/local/musaeed/.conda/lib/python3.10/site-packages/setuptools/dist.py\", line 1244, in run_command\n",
            "    super().run_command(command)\n",
            "  File \"/local/musaeed/.conda/lib/python3.10/site-packages/setuptools/_distutils/dist.py\", line 988, in run_command\n",
            "    cmd_obj.run()\n",
            "  File \"/local/musaeed/.conda/lib/python3.10/site-packages/setuptools/command/install_lib.py\", line 11, in run\n",
            "    self.build()\n",
            "  File \"/local/musaeed/.conda/lib/python3.10/site-packages/setuptools/_distutils/command/install_lib.py\", line 111, in build\n",
            "    self.run_command('build_ext')\n",
            "  File \"/local/musaeed/.conda/lib/python3.10/site-packages/setuptools/_distutils/cmd.py\", line 318, in run_command\n",
            "    self.distribution.run_command(command)\n",
            "  File \"/local/musaeed/.conda/lib/python3.10/site-packages/setuptools/dist.py\", line 1244, in run_command\n",
            "    super().run_command(command)\n",
            "  File \"/local/musaeed/.conda/lib/python3.10/site-packages/setuptools/_distutils/dist.py\", line 988, in run_command\n",
            "    cmd_obj.run()\n",
            "  File \"/local/musaeed/.conda/lib/python3.10/site-packages/setuptools/command/build_ext.py\", line 84, in run\n",
            "    _build_ext.run(self)\n",
            "  File \"/local/musaeed/.conda/lib/python3.10/site-packages/setuptools/_distutils/command/build_ext.py\", line 345, in run\n",
            "    self.build_extensions()\n",
            "  File \"/local/musaeed/.conda/lib/python3.10/site-packages/torch/utils/cpp_extension.py\", line 499, in build_extensions\n",
            "    _check_cuda_version(compiler_name, compiler_version)\n",
            "  File \"/local/musaeed/.conda/lib/python3.10/site-packages/torch/utils/cpp_extension.py\", line 387, in _check_cuda_version\n",
            "    raise RuntimeError(CUDA_MISMATCH_MESSAGE.format(cuda_str_version, torch.version.cuda))\n",
            "RuntimeError: \n",
            "The detected CUDA version (12.2) mismatches the version that was used to compile\n",
            "PyTorch (11.7). Please make sure to use the same CUDA versions.\n",
            "\n"
          ]
        }
      ],
      "source": [
        "!cd ./DeformableDETR/models/ops && python setup.py install"
      ]
    },
    {
      "cell_type": "code",
      "execution_count": 2,
      "metadata": {
        "id": "7GMmBQHMFoI1"
      },
      "outputs": [],
      "source": [
        "#%cd /content/Deformable-DETR/models/ops/MultiScaleDeformableAttention.egg-info"
      ]
    },
    {
      "cell_type": "code",
      "execution_count": 3,
      "metadata": {
        "colab": {
          "base_uri": "https://localhost:8080/"
        },
        "id": "T-AG9NL0GBH4",
        "outputId": "34e7f3e0-4e29-4519-d0cb-e036487f899a"
      },
      "outputs": [
        {
          "name": "stdout",
          "output_type": "stream",
          "text": [
            "/local/musaeed/.conda/cuda/Enhancing_Medvit/DeformableDETR\n"
          ]
        }
      ],
      "source": [
        "%cd ./DeformableDETR"
      ]
    },
    {
      "cell_type": "code",
      "execution_count": 4,
      "metadata": {
        "colab": {
          "base_uri": "https://localhost:8080/"
        },
        "id": "b0yaPbVE53BK",
        "outputId": "3643e773-a134-405e-d1e9-e5da167de0b7"
      },
      "outputs": [
        {
          "name": "stderr",
          "output_type": "stream",
          "text": [
            "/local/musaeed/.conda/lib/python3.10/site-packages/tqdm/auto.py:21: TqdmWarning: IProgress not found. Please update jupyter and ipywidgets. See https://ipywidgets.readthedocs.io/en/stable/user_install.html\n",
            "  from .autonotebook import tqdm as notebook_tqdm\n",
            "/local/musaeed/.conda/lib/python3.10/site-packages/torch/_masked/__init__.py:223: UserWarning: Failed to initialize NumPy: No module named 'numpy.core' (Triggered internally at  ../torch/csrc/utils/tensor_numpy.cpp:68.)\n",
            "  example_input = torch.tensor([[-3, -2, -1], [0, 1, 2]])\n"
          ]
        },
        {
          "name": "stdout",
          "output_type": "stream",
          "text": [
            "1.11.0+cu102\n"
          ]
        },
        {
          "ename": "AttributeError",
          "evalue": "module 'torchvision' has no attribute '__version__'",
          "output_type": "error",
          "traceback": [
            "\u001b[0;31m---------------------------------------------------------------------------\u001b[0m",
            "\u001b[0;31mAttributeError\u001b[0m                            Traceback (most recent call last)",
            "Cell \u001b[0;32mIn[4], line 4\u001b[0m\n\u001b[1;32m      2\u001b[0m \u001b[39mimport\u001b[39;00m \u001b[39mtorchvision\u001b[39;00m\n\u001b[1;32m      3\u001b[0m \u001b[39mprint\u001b[39m(torch\u001b[39m.\u001b[39m__version__)\n\u001b[0;32m----> 4\u001b[0m \u001b[39mprint\u001b[39m(torchvision\u001b[39m.\u001b[39;49m__version__)\n",
            "\u001b[0;31mAttributeError\u001b[0m: module 'torchvision' has no attribute '__version__'"
          ]
        }
      ],
      "source": [
        "import torch\n",
        "import torchvision\n",
        "print(torch.__version__)\n",
        "print(torchvision.__version__)"
      ]
    },
    {
      "cell_type": "code",
      "execution_count": 5,
      "metadata": {
        "colab": {
          "base_uri": "https://localhost:8080/"
        },
        "id": "YDgUJFzhG0Yn",
        "outputId": "d34cd813-a1bc-45c8-976f-f0a3d9c75998"
      },
      "outputs": [
        {
          "name": "stdout",
          "output_type": "stream",
          "text": [
            "Found existing installation: torch 1.11.0\n",
            "Uninstalling torch-1.11.0:\n",
            "  Successfully uninstalled torch-1.11.0\n",
            "\u001b[33mWARNING: Skipping torchvision as it is not installed.\u001b[0m\u001b[33m\n",
            "\u001b[0m"
          ]
        }
      ],
      "source": [
        "!pip uninstall torch torchvision -y"
      ]
    },
    {
      "cell_type": "code",
      "execution_count": 6,
      "metadata": {},
      "outputs": [
        {
          "name": "stdout",
          "output_type": "stream",
          "text": [
            "1.11.0+cu102\n"
          ]
        },
        {
          "ename": "AttributeError",
          "evalue": "module 'torchvision' has no attribute '__version__'",
          "output_type": "error",
          "traceback": [
            "\u001b[0;31m---------------------------------------------------------------------------\u001b[0m",
            "\u001b[0;31mAttributeError\u001b[0m                            Traceback (most recent call last)",
            "Cell \u001b[0;32mIn[6], line 5\u001b[0m\n\u001b[1;32m      2\u001b[0m \u001b[39mimport\u001b[39;00m \u001b[39mtorchvision\u001b[39;00m\n\u001b[1;32m      4\u001b[0m \u001b[39mprint\u001b[39m(torch\u001b[39m.\u001b[39m__version__)\n\u001b[0;32m----> 5\u001b[0m \u001b[39mprint\u001b[39m(torchvision\u001b[39m.\u001b[39;49m__version__)\n",
            "\u001b[0;31mAttributeError\u001b[0m: module 'torchvision' has no attribute '__version__'"
          ]
        }
      ],
      "source": [
        "import torch\n",
        "import torchvision\n",
        "\n",
        "print(torch.__version__)"
      ]
    },
    {
      "cell_type": "code",
      "execution_count": 7,
      "metadata": {
        "id": "fprVIqmws4CY"
      },
      "outputs": [
        {
          "name": "stdout",
          "output_type": "stream",
          "text": [
            "Cloning into 'Enhancing-MedViT-Incorporating-Adapter-Modules-for-Improved-Medical-Image-Classification'...\n",
            "remote: Enumerating objects: 346, done.\u001b[K\n",
            "remote: Counting objects: 100% (40/40), done.\u001b[K\n",
            "remote: Compressing objects: 100% (28/28), done.\u001b[K\n",
            "remote: Total 346 (delta 21), reused 31 (delta 12), pack-reused 306\u001b[K\n",
            "Receiving objects: 100% (346/346), 119.03 KiB | 0 bytes/s, done.\n",
            "Resolving deltas: 100% (190/190), done.\n",
            "Checking connectivity... done.\n"
          ]
        }
      ],
      "source": [
        "!git clone https://github.com/HusseinMansourMohd/Enhancing-MedViT-Incorporating-Adapter-Modules-for-Improved-Medical-Image-Classification"
      ]
    },
    {
      "cell_type": "code",
      "execution_count": null,
      "metadata": {},
      "outputs": [],
      "source": []
    },
    {
      "cell_type": "code",
      "execution_count": 8,
      "metadata": {
        "id": "abyf59Zes5hP"
      },
      "outputs": [
        {
          "ename": "ImportError",
          "evalue": "cannot import name 'Image' from 'PIL' (unknown location)",
          "output_type": "error",
          "traceback": [
            "\u001b[0;31m---------------------------------------------------------------------------\u001b[0m",
            "\u001b[0;31mImportError\u001b[0m                               Traceback (most recent call last)",
            "Cell \u001b[0;32mIn[8], line 3\u001b[0m\n\u001b[1;32m      1\u001b[0m \u001b[39mimport\u001b[39;00m \u001b[39msys\u001b[39;00m\n\u001b[1;32m      2\u001b[0m \u001b[39mimport\u001b[39;00m \u001b[39mnumpy\u001b[39;00m \u001b[39mas\u001b[39;00m \u001b[39mnp\u001b[39;00m\n\u001b[0;32m----> 3\u001b[0m \u001b[39mimport\u001b[39;00m \u001b[39mmatplotlib\u001b[39;00m\u001b[39m.\u001b[39;00m\u001b[39mpyplot\u001b[39;00m \u001b[39mas\u001b[39;00m \u001b[39mplt\u001b[39;00m\n\u001b[1;32m      5\u001b[0m \u001b[39mimport\u001b[39;00m \u001b[39mtorch\u001b[39;00m\n\u001b[1;32m      6\u001b[0m \u001b[39mimport\u001b[39;00m \u001b[39mtorch\u001b[39;00m\u001b[39m.\u001b[39;00m\u001b[39mnn\u001b[39;00m \u001b[39mas\u001b[39;00m \u001b[39mnn\u001b[39;00m\n",
            "File \u001b[0;32m/local/musaeed/.conda/lib/python3.10/site-packages/matplotlib/__init__.py:129\u001b[0m\n\u001b[1;32m    125\u001b[0m \u001b[39mfrom\u001b[39;00m \u001b[39mpackaging\u001b[39;00m\u001b[39m.\u001b[39;00m\u001b[39mversion\u001b[39;00m \u001b[39mimport\u001b[39;00m parse \u001b[39mas\u001b[39;00m parse_version\n\u001b[1;32m    127\u001b[0m \u001b[39m# cbook must import matplotlib only within function\u001b[39;00m\n\u001b[1;32m    128\u001b[0m \u001b[39m# definitions, so it is safe to import from it here.\u001b[39;00m\n\u001b[0;32m--> 129\u001b[0m \u001b[39mfrom\u001b[39;00m \u001b[39m.\u001b[39;00m \u001b[39mimport\u001b[39;00m _api, _version, cbook, _docstring, rcsetup\n\u001b[1;32m    130\u001b[0m \u001b[39mfrom\u001b[39;00m \u001b[39mmatplotlib\u001b[39;00m\u001b[39m.\u001b[39;00m\u001b[39mcbook\u001b[39;00m \u001b[39mimport\u001b[39;00m sanitize_sequence\n\u001b[1;32m    131\u001b[0m \u001b[39mfrom\u001b[39;00m \u001b[39mmatplotlib\u001b[39;00m\u001b[39m.\u001b[39;00m\u001b[39m_api\u001b[39;00m \u001b[39mimport\u001b[39;00m MatplotlibDeprecationWarning\n",
            "File \u001b[0;32m/local/musaeed/.conda/lib/python3.10/site-packages/matplotlib/rcsetup.py:27\u001b[0m\n\u001b[1;32m     25\u001b[0m \u001b[39mfrom\u001b[39;00m \u001b[39mmatplotlib\u001b[39;00m \u001b[39mimport\u001b[39;00m _api, cbook\n\u001b[1;32m     26\u001b[0m \u001b[39mfrom\u001b[39;00m \u001b[39mmatplotlib\u001b[39;00m\u001b[39m.\u001b[39;00m\u001b[39mcbook\u001b[39;00m \u001b[39mimport\u001b[39;00m ls_mapper\n\u001b[0;32m---> 27\u001b[0m \u001b[39mfrom\u001b[39;00m \u001b[39mmatplotlib\u001b[39;00m\u001b[39m.\u001b[39;00m\u001b[39mcolors\u001b[39;00m \u001b[39mimport\u001b[39;00m Colormap, is_color_like\n\u001b[1;32m     28\u001b[0m \u001b[39mfrom\u001b[39;00m \u001b[39mmatplotlib\u001b[39;00m\u001b[39m.\u001b[39;00m\u001b[39m_fontconfig_pattern\u001b[39;00m \u001b[39mimport\u001b[39;00m parse_fontconfig_pattern\n\u001b[1;32m     29\u001b[0m \u001b[39mfrom\u001b[39;00m \u001b[39mmatplotlib\u001b[39;00m\u001b[39m.\u001b[39;00m\u001b[39m_enums\u001b[39;00m \u001b[39mimport\u001b[39;00m JoinStyle, CapStyle\n",
            "File \u001b[0;32m/local/musaeed/.conda/lib/python3.10/site-packages/matplotlib/colors.py:51\u001b[0m\n\u001b[1;32m     49\u001b[0m \u001b[39mfrom\u001b[39;00m \u001b[39mnumbers\u001b[39;00m \u001b[39mimport\u001b[39;00m Number\n\u001b[1;32m     50\u001b[0m \u001b[39mimport\u001b[39;00m \u001b[39mre\u001b[39;00m\n\u001b[0;32m---> 51\u001b[0m \u001b[39mfrom\u001b[39;00m \u001b[39mPIL\u001b[39;00m \u001b[39mimport\u001b[39;00m Image\n\u001b[1;32m     52\u001b[0m \u001b[39mfrom\u001b[39;00m \u001b[39mPIL\u001b[39;00m\u001b[39m.\u001b[39;00m\u001b[39mPngImagePlugin\u001b[39;00m \u001b[39mimport\u001b[39;00m PngInfo\n\u001b[1;32m     54\u001b[0m \u001b[39mimport\u001b[39;00m \u001b[39mmatplotlib\u001b[39;00m \u001b[39mas\u001b[39;00m \u001b[39mmpl\u001b[39;00m\n",
            "\u001b[0;31mImportError\u001b[0m: cannot import name 'Image' from 'PIL' (unknown location)"
          ]
        }
      ],
      "source": [
        "import sys\n",
        "import numpy as np\n",
        "import matplotlib.pyplot as plt\n",
        "\n",
        "import torch\n",
        "import torch.nn as nn\n",
        "import torch.optim as optim\n",
        "\n",
        "import torchvision.utils\n",
        "import torchvision.datasets as dsets\n",
        "from torchsummary import summary"
      ]
    },
    {
      "cell_type": "code",
      "execution_count": null,
      "metadata": {
        "id": "Uva4RCW0s5kY"
      },
      "outputs": [],
      "source": [
        "!pip install timm\n",
        "!pip install einops"
      ]
    },
    {
      "cell_type": "code",
      "execution_count": null,
      "metadata": {
        "id": "eQki3jkNA2ih"
      },
      "outputs": [],
      "source": [
        "%cd /content/\n",
        "%cd /content/Enhancing-MedViT-Incorporating-Adapter-Modules-for-Improved-Medical-Image-Classification/"
      ]
    },
    {
      "cell_type": "code",
      "execution_count": null,
      "metadata": {
        "id": "isKKYPudvWQ0"
      },
      "outputs": [],
      "source": [
        "import MedVit_Adapter\n",
        "print(dir(MedVit_Adapter))"
      ]
    },
    {
      "cell_type": "code",
      "execution_count": null,
      "metadata": {
        "id": "i49q6EEMvWWi"
      },
      "outputs": [],
      "source": [
        "from MedVit_adapter import MedViT_adapter_small as small\n"
      ]
    },
    {
      "cell_type": "code",
      "execution_count": null,
      "metadata": {
        "id": "9ww1w_rHvWZj"
      },
      "outputs": [],
      "source": [
        "!pip install medmnist"
      ]
    },
    {
      "cell_type": "code",
      "execution_count": null,
      "metadata": {},
      "outputs": [],
      "source": [
        "\n",
        "import medmnist\n",
        "from medmnist import INFO \n",
        "data_flag = 'retinamnist'\n",
        "# [tissuemnist , pathmnist, chestmnist, dermamnist, octmnisr ,pnemonismnist , retinamnist, bloodmnist, tissuemnist, organcmist, organs ]\n",
        "download = True\n",
        "\n",
        "NUM_EPOCHS = 15\n",
        "BATCH_SIZE = 15\n",
        "LR = 0.005\n",
        "\n",
        "info = INFO[data_flag]\n",
        "task = info['task']\n",
        "n_channels = info['n_channels']\n",
        "n_classes = len(info['label'])\n",
        "\n",
        "DataClass = getattr(medmnist, info['python_class'])"
      ]
    },
    {
      "cell_type": "code",
      "execution_count": null,
      "metadata": {},
      "outputs": [],
      "source": [
        "\n",
        "import torchvision.transforms as transforms\n",
        "#preprocessing\n",
        "train_transform = transforms.Compose([\n",
        "    transforms.Resize(224),\n",
        "    transforms.Lambda(lambda image:image.convert('RGB')),\n",
        "    torchvision.transforms.AugMix(),\n",
        "    transforms.ToTensor(),\n",
        "    transforms.Normalize(mean=[0.5], std=[0.5])\n",
        "]\n",
        ")\n",
        "test_transform = transforms.Compose([\n",
        "    transforms.Resize(224),\n",
        "    transforms.Lambda(lambda image: image.convert('RGB')),\n",
        "    transforms.ToTensor(),\n",
        "    transforms.Normalize(mean=[0.5],std=[0.5])\n",
        "])\n",
        "     "
      ]
    },
    {
      "cell_type": "code",
      "execution_count": null,
      "metadata": {},
      "outputs": [],
      "source": [
        "import torch.utils.data as data\n",
        "\n",
        "# load the data\n",
        "train_dataset = DataClass(split='train', transform=train_transform, download=download)\n",
        "val_dataset = DataClass(split='val', transform=train_transform,download=download)\n",
        "test_dataset = DataClass(split='test', transform=test_transform, download=download)\n",
        "\n",
        "\n",
        "# encapsulate data into dataloader form\n",
        "train_loader = data.DataLoader(dataset=train_dataset, batch_size=BATCH_SIZE, shuffle=True)\n",
        "train_loader_at_eval = data.DataLoader(dataset=val_dataset, batch_size=2*BATCH_SIZE, shuffle=False)\n",
        "test_loader = data.DataLoader(dataset=test_dataset, batch_size=2*BATCH_SIZE, shuffle=False)"
      ]
    },
    {
      "cell_type": "code",
      "execution_count": null,
      "metadata": {},
      "outputs": [],
      "source": [
        "\n",
        "print(train_dataset)\n",
        "print(\"+++++++++++++++++\")\n",
        "print(test_dataset)"
      ]
    },
    {
      "cell_type": "code",
      "execution_count": null,
      "metadata": {},
      "outputs": [],
      "source": [
        "model = small()"
      ]
    },
    {
      "cell_type": "code",
      "execution_count": null,
      "metadata": {},
      "outputs": [],
      "source": [
        "model.proj_head[0] = nn.Linear(in_features=1024, out_featuers=n_classes, bais=True)"
      ]
    },
    {
      "cell_type": "code",
      "execution_count": null,
      "metadata": {},
      "outputs": [],
      "source": [
        "#define loss function and optimizer\n",
        "if task == 'multi-task, binaty-class':\n",
        "    criterion = nn.BCEWihtLogLoss()\n",
        "else:\n",
        "    criterion = nn.CrossEntropyLoss()\n",
        "optimizer = optim.SGD(model.parameters(), lr=LR, momentum=0.9)"
      ]
    },
    {
      "cell_type": "code",
      "execution_count": null,
      "metadata": {},
      "outputs": [],
      "source": [
        "criterion"
      ]
    },
    {
      "cell_type": "code",
      "execution_count": null,
      "metadata": {},
      "outputs": [],
      "source": [
        "device = torch.device(\"cuda\" if torch.cuda.is_available() else \"cpu\")\n"
      ]
    },
    {
      "cell_type": "code",
      "execution_count": null,
      "metadata": {},
      "outputs": [],
      "source": [
        "from torch.nn.functional import softmax\n",
        "from tqdm import tqdm\n",
        "# training\n",
        "for epoch in range(NUM_EPOCHS):\n",
        "\n",
        "  model = model.to(device)\n",
        "  model.train()\n",
        "\n",
        "  for inputs, targets in tqdm(train_loader):\n",
        "    inputs, targets = inputs.to(device), targets.to(device)\n",
        "    optimizer.zero_grad()\n",
        "    outputs = model(inputs.to(torch.float32))\n",
        "\n",
        "    if task == 'multi-label, binary-class':\n",
        "      targets = targets.to(torch.float32).unsqueeze(1)\n",
        "    else:\n",
        "      targets = targets.to(torch.long)\n",
        "      targets = targets.view(-1)\n",
        "\n",
        "\n",
        "    predicted_classes = torch.argmax(outputs, dim=1)\n",
        "    loss = criterion(outputs, targets)\n",
        "    loss.backward()\n",
        "    optimizer.step()\n",
        "\n",
        "    # Delete tensors to free up memory\n",
        "    del inputs, targets, outputs, predicted_classes\n",
        "    # Empty the cache to clear up some more memory\n",
        "    torch.cuda.empty_cache()"
      ]
    },
    {
      "cell_type": "code",
      "execution_count": null,
      "metadata": {},
      "outputs": [],
      "source": [
        "\n",
        "from sklearn.metrics import roc_auc_score, accuracy_score\n",
        "\n",
        "# switch to evaluation mode\n",
        "def test(split):\n",
        "  model.eval()\n",
        "  # Lists to store actual and predicted values\n",
        "  actuals = []\n",
        "  probas = []\n",
        "  predictions = []\n",
        "\n",
        "  if split == 'val':\n",
        "        data_loader = train_loader_at_eval\n",
        "  else:\n",
        "        data_loader = test_loader\n",
        "        \n",
        "  with torch.no_grad():\n",
        "      for inputs, targets in tqdm(data_loader):\n",
        "\n",
        "          inputs, targets = inputs.to(device), targets.to(device)\n",
        "\n",
        "          if task == 'multi-label, binary-class':\n",
        "              targets = targets.to(torch.float32).unsqueeze(1)\n",
        "          else:\n",
        "              targets = targets.to(torch.long)\n",
        "              targets = targets.view(-1)\n",
        "\n",
        "          outputs = model(inputs.to(torch.float32))\n",
        "          softmax_outputs = softmax(outputs, dim=1)\n",
        "\n",
        "          _, predicted_classes = torch.max(outputs, 1)\n",
        "\n",
        "          # Store the actual targets and predicted probabilities\n",
        "          actuals.extend(targets.cpu().numpy())\n",
        "          probas.extend(softmax_outputs.detach().cpu().numpy())\n",
        "          # Probability of positive class\n",
        "          predictions.extend(predicted_classes.cpu().numpy())\n",
        "  print('\\n')\n",
        "  auc = roc_auc_score(actuals, probas, multi_class='ovr')\n",
        "  accuracy = accuracy_score(actuals, predictions)\n",
        "\n",
        "  print('AUC of the model:', auc)\n",
        "  print('Accuracy of the model:', accuracy)\n",
        "\n",
        "print('==> Evaluating...')\n",
        "test('val')\n",
        "test('test')"
      ]
    }
  ],
  "metadata": {
    "colab": {
      "provenance": []
    },
    "kernelspec": {
      "display_name": "Python 3",
      "name": "python3"
    },
    "language_info": {
      "codemirror_mode": {
        "name": "ipython",
        "version": 3
      },
      "file_extension": ".py",
      "mimetype": "text/x-python",
      "name": "python",
      "nbconvert_exporter": "python",
      "pygments_lexer": "ipython3",
      "version": "3.10.12"
    }
  },
  "nbformat": 4,
  "nbformat_minor": 0
}
