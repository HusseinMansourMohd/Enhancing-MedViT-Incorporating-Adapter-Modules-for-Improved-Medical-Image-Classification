{
  "cells": [
    {
      "cell_type": "code",
      "execution_count": 1,
      "metadata": {
        "colab": {
          "base_uri": "https://localhost:8080/"
        },
        "id": "GnT_FVl1sqmz",
        "outputId": "e87575ae-457a-4905-e6ef-b69dac41874c"
      },
      "outputs": [
        {
          "name": "stdout",
          "output_type": "stream",
          "text": [
            "Wed Jul 26 08:07:53 2023       \n",
            "+-----------------------------------------------------------------------------+\n",
            "| NVIDIA-SMI 515.86.01    Driver Version: 515.86.01    CUDA Version: 11.7     |\n",
            "|-------------------------------+----------------------+----------------------+\n",
            "| GPU  Name        Persistence-M| Bus-Id        Disp.A | Volatile Uncorr. ECC |\n",
            "| Fan  Temp  Perf  Pwr:Usage/Cap|         Memory-Usage | GPU-Util  Compute M. |\n",
            "|                               |                      |               MIG M. |\n",
            "|===============================+======================+======================|\n",
            "|   0  NVIDIA GeForce ...  On   | 00000000:02:00.0 Off |                  N/A |\n",
            "| 34%   74C    P2   112W / 250W |    937MiB / 12288MiB |     98%      Default |\n",
            "|                               |                      |                  N/A |\n",
            "+-------------------------------+----------------------+----------------------+\n",
            "|   1  NVIDIA GeForce ...  On   | 00000000:04:00.0 Off |                  N/A |\n",
            "| 22%   34C    P8    16W / 250W |   1636MiB / 12288MiB |      0%      Default |\n",
            "|                               |                      |                  N/A |\n",
            "+-------------------------------+----------------------+----------------------+\n",
            "|   2  NVIDIA GeForce ...  On   | 00000000:83:00.0 Off |                  N/A |\n",
            "| 27%   67C    P2    74W / 250W |   4188MiB / 12288MiB |      0%      Default |\n",
            "|                               |                      |                  N/A |\n",
            "+-------------------------------+----------------------+----------------------+\n",
            "|   3  NVIDIA GeForce ...  On   | 00000000:84:00.0 Off |                  N/A |\n",
            "| 23%   61C    P2    73W / 250W |  11468MiB / 12288MiB |      0%      Default |\n",
            "|                               |                      |                  N/A |\n",
            "+-------------------------------+----------------------+----------------------+\n",
            "                                                                               \n",
            "+-----------------------------------------------------------------------------+\n",
            "| Processes:                                                                  |\n",
            "|  GPU   GI   CI        PID   Type   Process name                  GPU Memory |\n",
            "|        ID   ID                                                   Usage      |\n",
            "|=============================================================================|\n",
            "|    0   N/A  N/A      8483      C   /home/EXT/mhahntmp/python39       466MiB |\n",
            "|    0   N/A  N/A     16341      C   /home/EXT/mhahntmp/python39       466MiB |\n",
            "|    1   N/A  N/A     24719      C   python3                          1631MiB |\n",
            "|    2   N/A  N/A     19905      C   python                            740MiB |\n",
            "|    2   N/A  N/A     24719      C   python3                          3441MiB |\n",
            "|    3   N/A  N/A      5481      C   python                           1602MiB |\n",
            "|    3   N/A  N/A      8522      C   python                           1602MiB |\n",
            "|    3   N/A  N/A     21606      C   python                           1578MiB |\n",
            "|    3   N/A  N/A     22537      C   python                           1578MiB |\n",
            "|    3   N/A  N/A     24719      C   python3                          2291MiB |\n",
            "|    3   N/A  N/A     26633      C   python                           1225MiB |\n",
            "|    3   N/A  N/A     35718      C   python                           1582MiB |\n",
            "+-----------------------------------------------------------------------------+\n"
          ]
        }
      ],
      "source": [
        "!nvidia-smi"
      ]
    },
    {
      "cell_type": "code",
      "execution_count": 2,
      "metadata": {},
      "outputs": [
        {
          "name": "stdout",
          "output_type": "stream",
          "text": [
            "Collecting package metadata (current_repodata.json): done\n",
            "Solving environment: failed with initial frozen solve. Retrying with flexible solve.\n",
            "Collecting package metadata (repodata.json): done\n",
            "Solving environment: failed with initial frozen solve. Retrying with flexible solve.\n",
            "\n",
            "PackagesNotFoundError: The following packages are not available from current channels:\n",
            "\n",
            "  - torchaudi\n",
            "\n",
            "Current channels:\n",
            "\n",
            "  - https://conda.anaconda.org/pytorch/linux-64\n",
            "  - https://conda.anaconda.org/pytorch/noarch\n",
            "  - https://repo.anaconda.com/pkgs/main/linux-64\n",
            "  - https://repo.anaconda.com/pkgs/main/noarch\n",
            "  - https://repo.anaconda.com/pkgs/r/linux-64\n",
            "  - https://repo.anaconda.com/pkgs/r/noarch\n",
            "\n",
            "To search for alternate channels that may provide the conda package you're\n",
            "looking for, navigate to\n",
            "\n",
            "    https://anaconda.org\n",
            "\n",
            "and use the search bar at the top of the page.\n",
            "\n",
            "\n",
            "\n",
            "Note: you may need to restart the kernel to use updated packages.\n"
          ]
        }
      ],
      "source": [
        "%conda install pytorch torchvision torchaudi -c pytorch"
      ]
    },
    {
      "cell_type": "code",
      "execution_count": 3,
      "metadata": {},
      "outputs": [
        {
          "name": "stdout",
          "output_type": "stream",
          "text": [
            "Requirement already satisfied: torch in /local/musaeed/anaconda3/envs/vit/lib/python3.9/site-packages (1.8.2+cu102)\n",
            "Requirement already satisfied: torchvision in /local/musaeed/anaconda3/envs/vit/lib/python3.9/site-packages (0.9.2+cu102)\n",
            "Requirement already satisfied: torchaudio in /local/musaeed/anaconda3/envs/vit/lib/python3.9/site-packages (0.8.2)\n",
            "Requirement already satisfied: typing-extensions in /local/musaeed/anaconda3/envs/vit/lib/python3.9/site-packages (from torch) (4.7.1)\n",
            "Requirement already satisfied: numpy in /local/musaeed/anaconda3/envs/vit/lib/python3.9/site-packages (from torch) (1.24.3)\n",
            "Requirement already satisfied: pillow>=4.1.1 in /local/musaeed/anaconda3/envs/vit/lib/python3.9/site-packages (from torchvision) (10.0.0)\n",
            "Note: you may need to restart the kernel to use updated packages.\n"
          ]
        }
      ],
      "source": [
        "%pip install torch torchvision torchaudio"
      ]
    },
    {
      "cell_type": "code",
      "execution_count": 4,
      "metadata": {},
      "outputs": [
        {
          "name": "stdout",
          "output_type": "stream",
          "text": [
            "Requirement already satisfied: torchsummary in /local/musaeed/anaconda3/envs/vit/lib/python3.9/site-packages (1.5.1)\n",
            "Note: you may need to restart the kernel to use updated packages.\n",
            "Requirement already satisfied: matplotlib in /local/musaeed/anaconda3/envs/vit/lib/python3.9/site-packages (3.7.2)\n",
            "Requirement already satisfied: contourpy>=1.0.1 in /local/musaeed/anaconda3/envs/vit/lib/python3.9/site-packages (from matplotlib) (1.1.0)\n",
            "Requirement already satisfied: cycler>=0.10 in /local/musaeed/anaconda3/envs/vit/lib/python3.9/site-packages (from matplotlib) (0.11.0)\n",
            "Requirement already satisfied: fonttools>=4.22.0 in /local/musaeed/anaconda3/envs/vit/lib/python3.9/site-packages (from matplotlib) (4.41.1)\n",
            "Requirement already satisfied: kiwisolver>=1.0.1 in /local/musaeed/anaconda3/envs/vit/lib/python3.9/site-packages (from matplotlib) (1.4.4)\n",
            "Requirement already satisfied: numpy>=1.20 in /local/musaeed/anaconda3/envs/vit/lib/python3.9/site-packages (from matplotlib) (1.24.3)\n",
            "Requirement already satisfied: packaging>=20.0 in /local/musaeed/anaconda3/envs/vit/lib/python3.9/site-packages (from matplotlib) (23.1)\n",
            "Requirement already satisfied: pillow>=6.2.0 in /local/musaeed/anaconda3/envs/vit/lib/python3.9/site-packages (from matplotlib) (10.0.0)\n",
            "Requirement already satisfied: pyparsing<3.1,>=2.3.1 in /local/musaeed/anaconda3/envs/vit/lib/python3.9/site-packages (from matplotlib) (3.0.9)\n",
            "Requirement already satisfied: python-dateutil>=2.7 in /local/musaeed/anaconda3/envs/vit/lib/python3.9/site-packages (from matplotlib) (2.8.2)\n",
            "Requirement already satisfied: importlib-resources>=3.2.0 in /local/musaeed/anaconda3/envs/vit/lib/python3.9/site-packages (from matplotlib) (6.0.0)\n",
            "Requirement already satisfied: zipp>=3.1.0 in /local/musaeed/anaconda3/envs/vit/lib/python3.9/site-packages (from importlib-resources>=3.2.0->matplotlib) (3.16.2)\n",
            "Requirement already satisfied: six>=1.5 in /local/musaeed/anaconda3/envs/vit/lib/python3.9/site-packages (from python-dateutil>=2.7->matplotlib) (1.16.0)\n",
            "Note: you may need to restart the kernel to use updated packages.\n",
            "Requirement already satisfied: timm in /local/musaeed/anaconda3/envs/vit/lib/python3.9/site-packages (0.9.2)\n",
            "Requirement already satisfied: torch>=1.7 in /local/musaeed/anaconda3/envs/vit/lib/python3.9/site-packages (from timm) (1.8.2+cu102)\n",
            "Requirement already satisfied: torchvision in /local/musaeed/anaconda3/envs/vit/lib/python3.9/site-packages (from timm) (0.9.2+cu102)\n",
            "Requirement already satisfied: pyyaml in /local/musaeed/anaconda3/envs/vit/lib/python3.9/site-packages (from timm) (6.0.1)\n",
            "Requirement already satisfied: huggingface-hub in /local/musaeed/anaconda3/envs/vit/lib/python3.9/site-packages (from timm) (0.16.4)\n",
            "Requirement already satisfied: safetensors in /local/musaeed/anaconda3/envs/vit/lib/python3.9/site-packages (from timm) (0.3.1)\n",
            "Requirement already satisfied: typing-extensions in /local/musaeed/anaconda3/envs/vit/lib/python3.9/site-packages (from torch>=1.7->timm) (4.7.1)\n",
            "Requirement already satisfied: numpy in /local/musaeed/anaconda3/envs/vit/lib/python3.9/site-packages (from torch>=1.7->timm) (1.24.3)\n",
            "Requirement already satisfied: filelock in /local/musaeed/anaconda3/envs/vit/lib/python3.9/site-packages (from huggingface-hub->timm) (3.12.2)\n",
            "Requirement already satisfied: fsspec in /local/musaeed/anaconda3/envs/vit/lib/python3.9/site-packages (from huggingface-hub->timm) (2023.6.0)\n",
            "Requirement already satisfied: requests in /local/musaeed/anaconda3/envs/vit/lib/python3.9/site-packages (from huggingface-hub->timm) (2.31.0)\n",
            "Requirement already satisfied: tqdm>=4.42.1 in /local/musaeed/anaconda3/envs/vit/lib/python3.9/site-packages (from huggingface-hub->timm) (4.65.0)\n",
            "Requirement already satisfied: packaging>=20.9 in /local/musaeed/anaconda3/envs/vit/lib/python3.9/site-packages (from huggingface-hub->timm) (23.1)\n",
            "Requirement already satisfied: pillow>=4.1.1 in /local/musaeed/anaconda3/envs/vit/lib/python3.9/site-packages (from torchvision->timm) (10.0.0)\n",
            "Requirement already satisfied: charset-normalizer<4,>=2 in /local/musaeed/anaconda3/envs/vit/lib/python3.9/site-packages (from requests->huggingface-hub->timm) (3.2.0)\n",
            "Requirement already satisfied: idna<4,>=2.5 in /local/musaeed/anaconda3/envs/vit/lib/python3.9/site-packages (from requests->huggingface-hub->timm) (3.4)\n",
            "Requirement already satisfied: urllib3<3,>=1.21.1 in /local/musaeed/anaconda3/envs/vit/lib/python3.9/site-packages (from requests->huggingface-hub->timm) (2.0.4)\n",
            "Requirement already satisfied: certifi>=2017.4.17 in /local/musaeed/anaconda3/envs/vit/lib/python3.9/site-packages (from requests->huggingface-hub->timm) (2023.7.22)\n",
            "Note: you may need to restart the kernel to use updated packages.\n",
            "Requirement already satisfied: einops==0.6.1 in /local/musaeed/anaconda3/envs/vit/lib/python3.9/site-packages (0.6.1)\n",
            "Note: you may need to restart the kernel to use updated packages.\n",
            "Requirement already satisfied: scipy in /local/musaeed/anaconda3/envs/vit/lib/python3.9/site-packages (1.11.1)\n",
            "Requirement already satisfied: numpy<1.28.0,>=1.21.6 in /local/musaeed/anaconda3/envs/vit/lib/python3.9/site-packages (from scipy) (1.24.3)\n",
            "Note: you may need to restart the kernel to use updated packages.\n"
          ]
        }
      ],
      "source": [
        "%pip install torchsummary\n",
        "%pip install matplotlib\n",
        "%pip install timm\n",
        "%pip install einops==0.6.1\n",
        "%pip install scipy"
      ]
    },
    {
      "cell_type": "code",
      "execution_count": 5,
      "metadata": {},
      "outputs": [
        {
          "name": "stderr",
          "output_type": "stream",
          "text": [
            "/local/musaeed/anaconda3/envs/vit/lib/python3.9/site-packages/tqdm/auto.py:21: TqdmWarning: IProgress not found. Please update jupyter and ipywidgets. See https://ipywidgets.readthedocs.io/en/stable/user_install.html\n",
            "  from .autonotebook import tqdm as notebook_tqdm\n"
          ]
        },
        {
          "data": {
            "text/plain": [
              "True"
            ]
          },
          "execution_count": 5,
          "metadata": {},
          "output_type": "execute_result"
        }
      ],
      "source": [
        "import torch\n",
        "torch.cuda.is_available()"
      ]
    },
    {
      "cell_type": "code",
      "execution_count": 6,
      "metadata": {
        "colab": {
          "base_uri": "https://localhost:8080/"
        },
        "id": "b0yaPbVE53BK",
        "outputId": "3643e773-a134-405e-d1e9-e5da167de0b7"
      },
      "outputs": [
        {
          "name": "stdout",
          "output_type": "stream",
          "text": [
            "1.8.2+cu102\n",
            "0.9.2+cu102\n"
          ]
        }
      ],
      "source": [
        "import torch\n",
        "import torchvision\n",
        "print(torch.__version__)\n",
        "print(torchvision.__version__)"
      ]
    },
    {
      "cell_type": "code",
      "execution_count": 7,
      "metadata": {
        "id": "abyf59Zes5hP"
      },
      "outputs": [],
      "source": [
        "import sys\n",
        "import numpy as np\n",
        "import matplotlib.pyplot as plt\n",
        "\n",
        "import torch\n",
        "import torch.nn as nn\n",
        "import torch.optim as optim\n",
        "\n",
        "import torchvision.utils\n",
        "import torchvision.datasets as dsets\n",
        "from torchsummary import summary"
      ]
    },
    {
      "cell_type": "code",
      "execution_count": 8,
      "metadata": {
        "id": "eQki3jkNA2ih"
      },
      "outputs": [
        {
          "name": "stdout",
          "output_type": "stream",
          "text": [
            "/local/musaeed/.conda/cuda/Medvit_adapter2\n"
          ]
        }
      ],
      "source": [
        "%cd /local/musaeed/.conda/cuda/Medvit_adapter2/"
      ]
    },
    {
      "cell_type": "code",
      "execution_count": 9,
      "metadata": {},
      "outputs": [
        {
          "name": "stdout",
          "output_type": "stream",
          "text": [
            "Requirement already satisfied: transformers in /local/musaeed/anaconda3/envs/vit/lib/python3.9/site-packages (4.31.0)\n",
            "Requirement already satisfied: filelock in /local/musaeed/anaconda3/envs/vit/lib/python3.9/site-packages (from transformers) (3.12.2)\n",
            "Requirement already satisfied: huggingface-hub<1.0,>=0.14.1 in /local/musaeed/anaconda3/envs/vit/lib/python3.9/site-packages (from transformers) (0.16.4)\n",
            "Requirement already satisfied: numpy>=1.17 in /local/musaeed/anaconda3/envs/vit/lib/python3.9/site-packages (from transformers) (1.24.3)\n",
            "Requirement already satisfied: packaging>=20.0 in /local/musaeed/anaconda3/envs/vit/lib/python3.9/site-packages (from transformers) (23.1)\n",
            "Requirement already satisfied: pyyaml>=5.1 in /local/musaeed/anaconda3/envs/vit/lib/python3.9/site-packages (from transformers) (6.0.1)\n",
            "Requirement already satisfied: regex!=2019.12.17 in /local/musaeed/anaconda3/envs/vit/lib/python3.9/site-packages (from transformers) (2023.6.3)\n",
            "Requirement already satisfied: requests in /local/musaeed/anaconda3/envs/vit/lib/python3.9/site-packages (from transformers) (2.31.0)\n",
            "Requirement already satisfied: tokenizers!=0.11.3,<0.14,>=0.11.1 in /local/musaeed/anaconda3/envs/vit/lib/python3.9/site-packages (from transformers) (0.13.3)\n",
            "Requirement already satisfied: safetensors>=0.3.1 in /local/musaeed/anaconda3/envs/vit/lib/python3.9/site-packages (from transformers) (0.3.1)\n",
            "Requirement already satisfied: tqdm>=4.27 in /local/musaeed/anaconda3/envs/vit/lib/python3.9/site-packages (from transformers) (4.65.0)\n",
            "Requirement already satisfied: fsspec in /local/musaeed/anaconda3/envs/vit/lib/python3.9/site-packages (from huggingface-hub<1.0,>=0.14.1->transformers) (2023.6.0)\n",
            "Requirement already satisfied: typing-extensions>=3.7.4.3 in /local/musaeed/anaconda3/envs/vit/lib/python3.9/site-packages (from huggingface-hub<1.0,>=0.14.1->transformers) (4.7.1)\n",
            "Requirement already satisfied: charset-normalizer<4,>=2 in /local/musaeed/anaconda3/envs/vit/lib/python3.9/site-packages (from requests->transformers) (3.2.0)\n",
            "Requirement already satisfied: idna<4,>=2.5 in /local/musaeed/anaconda3/envs/vit/lib/python3.9/site-packages (from requests->transformers) (3.4)\n",
            "Requirement already satisfied: urllib3<3,>=1.21.1 in /local/musaeed/anaconda3/envs/vit/lib/python3.9/site-packages (from requests->transformers) (2.0.4)\n",
            "Requirement already satisfied: certifi>=2017.4.17 in /local/musaeed/anaconda3/envs/vit/lib/python3.9/site-packages (from requests->transformers) (2023.7.22)\n"
          ]
        }
      ],
      "source": [
        "!pip install transformers"
      ]
    },
    {
      "cell_type": "code",
      "execution_count": 10,
      "metadata": {
        "id": "isKKYPudvWQ0"
      },
      "outputs": [
        {
          "name": "stderr",
          "output_type": "stream",
          "text": [
            "Could not load the custom kernel for multi-scale deformable attention: CUDA_HOME environment variable is not set. Please set it to your CUDA install root.\n"
          ]
        },
        {
          "name": "stdout",
          "output_type": "stream",
          "text": [
            "['ConvBNReLU', 'ECB', 'F', 'InteractionBlock', 'LTB', 'MedViT_adapter_base', 'MedViT_adapter_large', 'MedViT_adapter_small', 'MedVit_adapter', 'NORM_EPS', 'SpatialPriorModule', '__all__', '__builtins__', '__cached__', '__doc__', '__file__', '__loader__', '__name__', '__package__', '__spec__', 'deform_inputs', 'nn', 'register_model', 'torch']\n"
          ]
        }
      ],
      "source": [
        "import MedVit_Adapter\n",
        "print(dir(MedVit_Adapter))"
      ]
    },
    {
      "cell_type": "code",
      "execution_count": 11,
      "metadata": {
        "id": "i49q6EEMvWWi"
      },
      "outputs": [],
      "source": [
        "from MedVit_Adapter import MedViT_adapter_small as small"
      ]
    },
    {
      "cell_type": "code",
      "execution_count": 12,
      "metadata": {
        "id": "9ww1w_rHvWZj"
      },
      "outputs": [
        {
          "name": "stdout",
          "output_type": "stream",
          "text": [
            "Requirement already satisfied: medmnist in /local/musaeed/anaconda3/envs/vit/lib/python3.9/site-packages (2.2.2)\n",
            "Requirement already satisfied: numpy in /local/musaeed/anaconda3/envs/vit/lib/python3.9/site-packages (from medmnist) (1.24.3)\n",
            "Requirement already satisfied: pandas in /local/musaeed/anaconda3/envs/vit/lib/python3.9/site-packages (from medmnist) (2.0.3)\n",
            "Requirement already satisfied: scikit-learn in /local/musaeed/anaconda3/envs/vit/lib/python3.9/site-packages (from medmnist) (1.3.0)\n",
            "Requirement already satisfied: scikit-image in /local/musaeed/anaconda3/envs/vit/lib/python3.9/site-packages (from medmnist) (0.21.0)\n",
            "Requirement already satisfied: tqdm in /local/musaeed/anaconda3/envs/vit/lib/python3.9/site-packages (from medmnist) (4.65.0)\n",
            "Requirement already satisfied: Pillow in /local/musaeed/anaconda3/envs/vit/lib/python3.9/site-packages (from medmnist) (10.0.0)\n",
            "Requirement already satisfied: fire in /local/musaeed/anaconda3/envs/vit/lib/python3.9/site-packages (from medmnist) (0.5.0)\n",
            "Requirement already satisfied: torch in /local/musaeed/anaconda3/envs/vit/lib/python3.9/site-packages (from medmnist) (1.8.2+cu102)\n",
            "Requirement already satisfied: torchvision in /local/musaeed/anaconda3/envs/vit/lib/python3.9/site-packages (from medmnist) (0.9.2+cu102)\n",
            "Requirement already satisfied: six in /local/musaeed/anaconda3/envs/vit/lib/python3.9/site-packages (from fire->medmnist) (1.16.0)\n",
            "Requirement already satisfied: termcolor in /local/musaeed/anaconda3/envs/vit/lib/python3.9/site-packages (from fire->medmnist) (2.3.0)\n",
            "Requirement already satisfied: python-dateutil>=2.8.2 in /local/musaeed/anaconda3/envs/vit/lib/python3.9/site-packages (from pandas->medmnist) (2.8.2)\n",
            "Requirement already satisfied: pytz>=2020.1 in /local/musaeed/anaconda3/envs/vit/lib/python3.9/site-packages (from pandas->medmnist) (2023.3)\n",
            "Requirement already satisfied: tzdata>=2022.1 in /local/musaeed/anaconda3/envs/vit/lib/python3.9/site-packages (from pandas->medmnist) (2023.3)\n",
            "Requirement already satisfied: scipy>=1.8 in /local/musaeed/anaconda3/envs/vit/lib/python3.9/site-packages (from scikit-image->medmnist) (1.11.1)\n",
            "Requirement already satisfied: networkx>=2.8 in /local/musaeed/anaconda3/envs/vit/lib/python3.9/site-packages (from scikit-image->medmnist) (3.1)\n",
            "Requirement already satisfied: imageio>=2.27 in /local/musaeed/anaconda3/envs/vit/lib/python3.9/site-packages (from scikit-image->medmnist) (2.31.1)\n",
            "Requirement already satisfied: tifffile>=2022.8.12 in /local/musaeed/anaconda3/envs/vit/lib/python3.9/site-packages (from scikit-image->medmnist) (2023.7.18)\n",
            "Requirement already satisfied: PyWavelets>=1.1.1 in /local/musaeed/anaconda3/envs/vit/lib/python3.9/site-packages (from scikit-image->medmnist) (1.4.1)\n",
            "Requirement already satisfied: packaging>=21 in /local/musaeed/anaconda3/envs/vit/lib/python3.9/site-packages (from scikit-image->medmnist) (23.1)\n",
            "Requirement already satisfied: lazy_loader>=0.2 in /local/musaeed/anaconda3/envs/vit/lib/python3.9/site-packages (from scikit-image->medmnist) (0.3)\n",
            "Requirement already satisfied: joblib>=1.1.1 in /local/musaeed/anaconda3/envs/vit/lib/python3.9/site-packages (from scikit-learn->medmnist) (1.3.1)\n",
            "Requirement already satisfied: threadpoolctl>=2.0.0 in /local/musaeed/anaconda3/envs/vit/lib/python3.9/site-packages (from scikit-learn->medmnist) (3.2.0)\n",
            "Requirement already satisfied: typing-extensions in /local/musaeed/anaconda3/envs/vit/lib/python3.9/site-packages (from torch->medmnist) (4.7.1)\n"
          ]
        }
      ],
      "source": [
        "!pip install medmnist"
      ]
    },
    {
      "cell_type": "code",
      "execution_count": 13,
      "metadata": {},
      "outputs": [],
      "source": [
        "\n",
        "import medmnist\n",
        "from medmnist import INFO \n",
        "data_flag = 'retinamnist'\n",
        "# [tissuemnist , pathmnist, chestmnist, dermamnist, octmnisr ,pnemonismnist , retinamnist, bloodmnist, tissuemnist, organcmist, organs ]\n",
        "download = True\n",
        "\n",
        "NUM_EPOCHS = 15\n",
        "BATCH_SIZE = 15\n",
        "LR = 0.005\n",
        "\n",
        "info = INFO[data_flag]\n",
        "task = info['task']\n",
        "n_channels = info['n_channels']\n",
        "n_classes = len(info['label'])\n",
        "\n",
        "DataClass = getattr(medmnist, info['python_class'])"
      ]
    },
    {
      "cell_type": "code",
      "execution_count": 14,
      "metadata": {},
      "outputs": [],
      "source": [
        "\n",
        "import torchvision.transforms as transforms\n",
        "#preprocessing\n",
        "train_transform = transforms.Compose([\n",
        "    transforms.Resize(224),\n",
        "    transforms.Lambda(lambda image:image.convert('RGB')),\n",
        "    #transforms.AugMix(),\n",
        "    transforms.ToTensor(),\n",
        "    transforms.Normalize(mean=[0.5], std=[0.5])\n",
        "]\n",
        ")\n",
        "test_transform = transforms.Compose([\n",
        "    transforms.Resize(224),\n",
        "    transforms.Lambda(lambda image: image.convert('RGB')),\n",
        "    transforms.ToTensor(),\n",
        "    transforms.Normalize(mean=[0.5],std=[0.5])\n",
        "])\n",
        "     "
      ]
    },
    {
      "cell_type": "code",
      "execution_count": 15,
      "metadata": {},
      "outputs": [
        {
          "name": "stdout",
          "output_type": "stream",
          "text": [
            "Using downloaded and verified file: /home/CE/musaeed/.medmnist/retinamnist.npz\n",
            "Using downloaded and verified file: /home/CE/musaeed/.medmnist/retinamnist.npz\n",
            "Using downloaded and verified file: /home/CE/musaeed/.medmnist/retinamnist.npz\n"
          ]
        }
      ],
      "source": [
        "import torch.utils.data as data\n",
        "\n",
        "# load the data\n",
        "train_dataset = DataClass(split='train', transform=train_transform, download=download)\n",
        "val_dataset = DataClass(split='val', transform=train_transform,download=download)\n",
        "test_dataset = DataClass(split='test', transform=test_transform, download=download)\n",
        "\n",
        "\n",
        "# encapsulate data into dataloader form\n",
        "train_loader = data.DataLoader(dataset=train_dataset, batch_size=BATCH_SIZE, shuffle=True)\n",
        "train_loader_at_eval = data.DataLoader(dataset=val_dataset, batch_size=2*BATCH_SIZE, shuffle=False)\n",
        "test_loader = data.DataLoader(dataset=test_dataset, batch_size=2*BATCH_SIZE, shuffle=False)"
      ]
    },
    {
      "cell_type": "code",
      "execution_count": 16,
      "metadata": {},
      "outputs": [
        {
          "name": "stdout",
          "output_type": "stream",
          "text": [
            "Dataset RetinaMNIST (retinamnist)\n",
            "    Number of datapoints: 1080\n",
            "    Root location: /home/CE/musaeed/.medmnist\n",
            "    Split: train\n",
            "    Task: ordinal-regression\n",
            "    Number of channels: 3\n",
            "    Meaning of labels: {'0': '0', '1': '1', '2': '2', '3': '3', '4': '4'}\n",
            "    Number of samples: {'train': 1080, 'val': 120, 'test': 400}\n",
            "    Description: The RetinaMNIST is based on the DeepDRiD challenge, which provides a dataset of 1,600 retina fundus images. The task is ordinal regression for 5-level grading of diabetic retinopathy severity. We split the source training set with a ratio of 9:1 into training and validation set, and use the source validation set as the test set. The source images of 3×1,736×1,824 are center-cropped and resized into 3×28×28.\n",
            "    License: CC BY 4.0\n",
            "+++++++++++++++++\n",
            "Dataset RetinaMNIST (retinamnist)\n",
            "    Number of datapoints: 400\n",
            "    Root location: /home/CE/musaeed/.medmnist\n",
            "    Split: test\n",
            "    Task: ordinal-regression\n",
            "    Number of channels: 3\n",
            "    Meaning of labels: {'0': '0', '1': '1', '2': '2', '3': '3', '4': '4'}\n",
            "    Number of samples: {'train': 1080, 'val': 120, 'test': 400}\n",
            "    Description: The RetinaMNIST is based on the DeepDRiD challenge, which provides a dataset of 1,600 retina fundus images. The task is ordinal regression for 5-level grading of diabetic retinopathy severity. We split the source training set with a ratio of 9:1 into training and validation set, and use the source validation set as the test set. The source images of 3×1,736×1,824 are center-cropped and resized into 3×28×28.\n",
            "    License: CC BY 4.0\n"
          ]
        }
      ],
      "source": [
        "\n",
        "print(train_dataset)\n",
        "print(\"+++++++++++++++++\")\n",
        "print(test_dataset)"
      ]
    },
    {
      "cell_type": "code",
      "execution_count": 17,
      "metadata": {},
      "outputs": [],
      "source": [
        "model = small()"
      ]
    },
    {
      "cell_type": "code",
      "execution_count": 18,
      "metadata": {},
      "outputs": [],
      "source": [
        "model.proj_head[0] = nn.Linear(in_features=1024, out_features=n_classes, bias=True)"
      ]
    },
    {
      "cell_type": "code",
      "execution_count": 19,
      "metadata": {},
      "outputs": [],
      "source": [
        "#define loss function and optimizer\n",
        "if task == 'multi-task, binaty-class':\n",
        "    criterion = nn.BCEWihtLogLoss()\n",
        "else:\n",
        "    criterion = nn.CrossEntropyLoss()\n",
        "optimizer = optim.SGD(model.parameters(), lr=LR, momentum=0.9)"
      ]
    },
    {
      "cell_type": "code",
      "execution_count": 20,
      "metadata": {},
      "outputs": [
        {
          "data": {
            "text/plain": [
              "CrossEntropyLoss()"
            ]
          },
          "execution_count": 20,
          "metadata": {},
          "output_type": "execute_result"
        }
      ],
      "source": [
        "criterion"
      ]
    },
    {
      "cell_type": "code",
      "execution_count": 27,
      "metadata": {},
      "outputs": [
        {
          "data": {
            "text/plain": [
              "device(type='cuda')"
            ]
          },
          "execution_count": 27,
          "metadata": {},
          "output_type": "execute_result"
        }
      ],
      "source": [
        "device = torch.device(\"cuda\" if torch.cuda.is_available() else \"cpu\")\n",
        "device"
      ]
    },
    {
      "cell_type": "code",
      "execution_count": 28,
      "metadata": {},
      "outputs": [
        {
          "name": "stderr",
          "output_type": "stream",
          "text": [
            "  0%|          | 0/72 [00:00<?, ?it/s]\n"
          ]
        },
        {
          "ename": "RuntimeError",
          "evalue": "Default process group has not been initialized, please make sure to call init_process_group.",
          "output_type": "error",
          "traceback": [
            "\u001b[0;31m---------------------------------------------------------------------------\u001b[0m",
            "\u001b[0;31mRuntimeError\u001b[0m                              Traceback (most recent call last)",
            "Cell \u001b[0;32mIn[28], line 12\u001b[0m\n\u001b[1;32m     10\u001b[0m inputs, targets \u001b[39m=\u001b[39m inputs\u001b[39m.\u001b[39mto(device), targets\u001b[39m.\u001b[39mto(device)\n\u001b[1;32m     11\u001b[0m optimizer\u001b[39m.\u001b[39mzero_grad()\n\u001b[0;32m---> 12\u001b[0m outputs \u001b[39m=\u001b[39m model(inputs\u001b[39m.\u001b[39;49mto(torch\u001b[39m.\u001b[39;49mfloat32))\n\u001b[1;32m     14\u001b[0m \u001b[39mif\u001b[39;00m task \u001b[39m==\u001b[39m \u001b[39m'\u001b[39m\u001b[39mmulti-label, binary-class\u001b[39m\u001b[39m'\u001b[39m:\n\u001b[1;32m     15\u001b[0m   targets \u001b[39m=\u001b[39m targets\u001b[39m.\u001b[39mto(torch\u001b[39m.\u001b[39mfloat32)\u001b[39m.\u001b[39munsqueeze(\u001b[39m1\u001b[39m)\n",
            "File \u001b[0;32m/local/musaeed/anaconda3/envs/vit/lib/python3.9/site-packages/torch/nn/modules/module.py:889\u001b[0m, in \u001b[0;36mModule._call_impl\u001b[0;34m(self, *input, **kwargs)\u001b[0m\n\u001b[1;32m    887\u001b[0m     result \u001b[39m=\u001b[39m \u001b[39mself\u001b[39m\u001b[39m.\u001b[39m_slow_forward(\u001b[39m*\u001b[39m\u001b[39minput\u001b[39m, \u001b[39m*\u001b[39m\u001b[39m*\u001b[39mkwargs)\n\u001b[1;32m    888\u001b[0m \u001b[39melse\u001b[39;00m:\n\u001b[0;32m--> 889\u001b[0m     result \u001b[39m=\u001b[39m \u001b[39mself\u001b[39;49m\u001b[39m.\u001b[39;49mforward(\u001b[39m*\u001b[39;49m\u001b[39minput\u001b[39;49m, \u001b[39m*\u001b[39;49m\u001b[39m*\u001b[39;49mkwargs)\n\u001b[1;32m    890\u001b[0m \u001b[39mfor\u001b[39;00m hook \u001b[39min\u001b[39;00m itertools\u001b[39m.\u001b[39mchain(\n\u001b[1;32m    891\u001b[0m         _global_forward_hooks\u001b[39m.\u001b[39mvalues(),\n\u001b[1;32m    892\u001b[0m         \u001b[39mself\u001b[39m\u001b[39m.\u001b[39m_forward_hooks\u001b[39m.\u001b[39mvalues()):\n\u001b[1;32m    893\u001b[0m     hook_result \u001b[39m=\u001b[39m hook(\u001b[39mself\u001b[39m, \u001b[39minput\u001b[39m, result)\n",
            "File \u001b[0;32m/local/musaeed/.conda/cuda/Medvit_adapter2/MedVit_Adapter.py:129\u001b[0m, in \u001b[0;36mMedVit_adapter.forward\u001b[0;34m(self, x)\u001b[0m\n\u001b[1;32m    128\u001b[0m \u001b[39mdef\u001b[39;00m \u001b[39mforward\u001b[39m(\u001b[39mself\u001b[39m, x):\n\u001b[0;32m--> 129\u001b[0m     c1, c2, c3, c4 \u001b[39m=\u001b[39m \u001b[39mself\u001b[39;49m\u001b[39m.\u001b[39;49mspm(x)\n\u001b[1;32m    130\u001b[0m     x \u001b[39m=\u001b[39m \u001b[39mself\u001b[39m\u001b[39m.\u001b[39mstem(x)\n\u001b[1;32m    131\u001b[0m     \u001b[39m# SRM forward\u001b[39;00m\n",
            "File \u001b[0;32m/local/musaeed/anaconda3/envs/vit/lib/python3.9/site-packages/torch/nn/modules/module.py:889\u001b[0m, in \u001b[0;36mModule._call_impl\u001b[0;34m(self, *input, **kwargs)\u001b[0m\n\u001b[1;32m    887\u001b[0m     result \u001b[39m=\u001b[39m \u001b[39mself\u001b[39m\u001b[39m.\u001b[39m_slow_forward(\u001b[39m*\u001b[39m\u001b[39minput\u001b[39m, \u001b[39m*\u001b[39m\u001b[39m*\u001b[39mkwargs)\n\u001b[1;32m    888\u001b[0m \u001b[39melse\u001b[39;00m:\n\u001b[0;32m--> 889\u001b[0m     result \u001b[39m=\u001b[39m \u001b[39mself\u001b[39;49m\u001b[39m.\u001b[39;49mforward(\u001b[39m*\u001b[39;49m\u001b[39minput\u001b[39;49m, \u001b[39m*\u001b[39;49m\u001b[39m*\u001b[39;49mkwargs)\n\u001b[1;32m    890\u001b[0m \u001b[39mfor\u001b[39;00m hook \u001b[39min\u001b[39;00m itertools\u001b[39m.\u001b[39mchain(\n\u001b[1;32m    891\u001b[0m         _global_forward_hooks\u001b[39m.\u001b[39mvalues(),\n\u001b[1;32m    892\u001b[0m         \u001b[39mself\u001b[39m\u001b[39m.\u001b[39m_forward_hooks\u001b[39m.\u001b[39mvalues()):\n\u001b[1;32m    893\u001b[0m     hook_result \u001b[39m=\u001b[39m hook(\u001b[39mself\u001b[39m, \u001b[39minput\u001b[39m, result)\n",
            "File \u001b[0;32m/local/musaeed/.conda/cuda/Medvit_adapter2/adapter_modules.py:249\u001b[0m, in \u001b[0;36mSpatialPriorModule.forward\u001b[0;34m(self, x)\u001b[0m\n\u001b[1;32m    248\u001b[0m \u001b[39mdef\u001b[39;00m \u001b[39mforward\u001b[39m(\u001b[39mself\u001b[39m, x):\n\u001b[0;32m--> 249\u001b[0m     c1 \u001b[39m=\u001b[39m \u001b[39mself\u001b[39;49m\u001b[39m.\u001b[39;49mstem(x)\n\u001b[1;32m    250\u001b[0m     c2 \u001b[39m=\u001b[39m \u001b[39mself\u001b[39m\u001b[39m.\u001b[39mconv2(c1)\n\u001b[1;32m    251\u001b[0m     c3 \u001b[39m=\u001b[39m \u001b[39mself\u001b[39m\u001b[39m.\u001b[39mconv3(c2)\n",
            "File \u001b[0;32m/local/musaeed/anaconda3/envs/vit/lib/python3.9/site-packages/torch/nn/modules/module.py:889\u001b[0m, in \u001b[0;36mModule._call_impl\u001b[0;34m(self, *input, **kwargs)\u001b[0m\n\u001b[1;32m    887\u001b[0m     result \u001b[39m=\u001b[39m \u001b[39mself\u001b[39m\u001b[39m.\u001b[39m_slow_forward(\u001b[39m*\u001b[39m\u001b[39minput\u001b[39m, \u001b[39m*\u001b[39m\u001b[39m*\u001b[39mkwargs)\n\u001b[1;32m    888\u001b[0m \u001b[39melse\u001b[39;00m:\n\u001b[0;32m--> 889\u001b[0m     result \u001b[39m=\u001b[39m \u001b[39mself\u001b[39;49m\u001b[39m.\u001b[39;49mforward(\u001b[39m*\u001b[39;49m\u001b[39minput\u001b[39;49m, \u001b[39m*\u001b[39;49m\u001b[39m*\u001b[39;49mkwargs)\n\u001b[1;32m    890\u001b[0m \u001b[39mfor\u001b[39;00m hook \u001b[39min\u001b[39;00m itertools\u001b[39m.\u001b[39mchain(\n\u001b[1;32m    891\u001b[0m         _global_forward_hooks\u001b[39m.\u001b[39mvalues(),\n\u001b[1;32m    892\u001b[0m         \u001b[39mself\u001b[39m\u001b[39m.\u001b[39m_forward_hooks\u001b[39m.\u001b[39mvalues()):\n\u001b[1;32m    893\u001b[0m     hook_result \u001b[39m=\u001b[39m hook(\u001b[39mself\u001b[39m, \u001b[39minput\u001b[39m, result)\n",
            "File \u001b[0;32m/local/musaeed/anaconda3/envs/vit/lib/python3.9/site-packages/torch/nn/modules/container.py:119\u001b[0m, in \u001b[0;36mSequential.forward\u001b[0;34m(self, input)\u001b[0m\n\u001b[1;32m    117\u001b[0m \u001b[39mdef\u001b[39;00m \u001b[39mforward\u001b[39m(\u001b[39mself\u001b[39m, \u001b[39minput\u001b[39m):\n\u001b[1;32m    118\u001b[0m     \u001b[39mfor\u001b[39;00m module \u001b[39min\u001b[39;00m \u001b[39mself\u001b[39m:\n\u001b[0;32m--> 119\u001b[0m         \u001b[39minput\u001b[39m \u001b[39m=\u001b[39m module(\u001b[39minput\u001b[39;49m)\n\u001b[1;32m    120\u001b[0m     \u001b[39mreturn\u001b[39;00m \u001b[39minput\u001b[39m\n",
            "File \u001b[0;32m/local/musaeed/anaconda3/envs/vit/lib/python3.9/site-packages/torch/nn/modules/module.py:889\u001b[0m, in \u001b[0;36mModule._call_impl\u001b[0;34m(self, *input, **kwargs)\u001b[0m\n\u001b[1;32m    887\u001b[0m     result \u001b[39m=\u001b[39m \u001b[39mself\u001b[39m\u001b[39m.\u001b[39m_slow_forward(\u001b[39m*\u001b[39m\u001b[39minput\u001b[39m, \u001b[39m*\u001b[39m\u001b[39m*\u001b[39mkwargs)\n\u001b[1;32m    888\u001b[0m \u001b[39melse\u001b[39;00m:\n\u001b[0;32m--> 889\u001b[0m     result \u001b[39m=\u001b[39m \u001b[39mself\u001b[39;49m\u001b[39m.\u001b[39;49mforward(\u001b[39m*\u001b[39;49m\u001b[39minput\u001b[39;49m, \u001b[39m*\u001b[39;49m\u001b[39m*\u001b[39;49mkwargs)\n\u001b[1;32m    890\u001b[0m \u001b[39mfor\u001b[39;00m hook \u001b[39min\u001b[39;00m itertools\u001b[39m.\u001b[39mchain(\n\u001b[1;32m    891\u001b[0m         _global_forward_hooks\u001b[39m.\u001b[39mvalues(),\n\u001b[1;32m    892\u001b[0m         \u001b[39mself\u001b[39m\u001b[39m.\u001b[39m_forward_hooks\u001b[39m.\u001b[39mvalues()):\n\u001b[1;32m    893\u001b[0m     hook_result \u001b[39m=\u001b[39m hook(\u001b[39mself\u001b[39m, \u001b[39minput\u001b[39m, result)\n",
            "File \u001b[0;32m/local/musaeed/anaconda3/envs/vit/lib/python3.9/site-packages/torch/nn/modules/batchnorm.py:532\u001b[0m, in \u001b[0;36mSyncBatchNorm.forward\u001b[0;34m(self, input)\u001b[0m\n\u001b[1;32m    530\u001b[0m     \u001b[39mif\u001b[39;00m \u001b[39mself\u001b[39m\u001b[39m.\u001b[39mprocess_group:\n\u001b[1;32m    531\u001b[0m         process_group \u001b[39m=\u001b[39m \u001b[39mself\u001b[39m\u001b[39m.\u001b[39mprocess_group\n\u001b[0;32m--> 532\u001b[0m     world_size \u001b[39m=\u001b[39m torch\u001b[39m.\u001b[39;49mdistributed\u001b[39m.\u001b[39;49mget_world_size(process_group)\n\u001b[1;32m    533\u001b[0m     need_sync \u001b[39m=\u001b[39m world_size \u001b[39m>\u001b[39m \u001b[39m1\u001b[39m\n\u001b[1;32m    535\u001b[0m \u001b[39m# fallback to framework BN when synchronization is not necessary\u001b[39;00m\n",
            "File \u001b[0;32m/local/musaeed/anaconda3/envs/vit/lib/python3.9/site-packages/torch/distributed/distributed_c10d.py:711\u001b[0m, in \u001b[0;36mget_world_size\u001b[0;34m(group)\u001b[0m\n\u001b[1;32m    708\u001b[0m \u001b[39mif\u001b[39;00m _rank_not_in_group(group):\n\u001b[1;32m    709\u001b[0m     \u001b[39mreturn\u001b[39;00m \u001b[39m-\u001b[39m\u001b[39m1\u001b[39m\n\u001b[0;32m--> 711\u001b[0m \u001b[39mreturn\u001b[39;00m _get_group_size(group)\n",
            "File \u001b[0;32m/local/musaeed/anaconda3/envs/vit/lib/python3.9/site-packages/torch/distributed/distributed_c10d.py:263\u001b[0m, in \u001b[0;36m_get_group_size\u001b[0;34m(group)\u001b[0m\n\u001b[1;32m    259\u001b[0m \u001b[39m\u001b[39m\u001b[39m\"\"\"\u001b[39;00m\n\u001b[1;32m    260\u001b[0m \u001b[39mHelper that gets a given group's world size.\u001b[39;00m\n\u001b[1;32m    261\u001b[0m \u001b[39m\"\"\"\u001b[39;00m\n\u001b[1;32m    262\u001b[0m \u001b[39mif\u001b[39;00m group \u001b[39mis\u001b[39;00m GroupMember\u001b[39m.\u001b[39mWORLD \u001b[39mor\u001b[39;00m group \u001b[39mis\u001b[39;00m \u001b[39mNone\u001b[39;00m:\n\u001b[0;32m--> 263\u001b[0m     default_pg \u001b[39m=\u001b[39m _get_default_group()\n\u001b[1;32m    264\u001b[0m     \u001b[39mreturn\u001b[39;00m default_pg\u001b[39m.\u001b[39msize()\n\u001b[1;32m    265\u001b[0m \u001b[39mif\u001b[39;00m group \u001b[39mnot\u001b[39;00m \u001b[39min\u001b[39;00m _pg_group_ranks:\n",
            "File \u001b[0;32m/local/musaeed/anaconda3/envs/vit/lib/python3.9/site-packages/torch/distributed/distributed_c10d.py:347\u001b[0m, in \u001b[0;36m_get_default_group\u001b[0;34m()\u001b[0m\n\u001b[1;32m    343\u001b[0m \u001b[39m\u001b[39m\u001b[39m\"\"\"\u001b[39;00m\n\u001b[1;32m    344\u001b[0m \u001b[39mGetting the default process group created by init_process_group\u001b[39;00m\n\u001b[1;32m    345\u001b[0m \u001b[39m\"\"\"\u001b[39;00m\n\u001b[1;32m    346\u001b[0m \u001b[39mif\u001b[39;00m \u001b[39mnot\u001b[39;00m is_initialized():\n\u001b[0;32m--> 347\u001b[0m     \u001b[39mraise\u001b[39;00m \u001b[39mRuntimeError\u001b[39;00m(\u001b[39m\"\u001b[39m\u001b[39mDefault process group has not been initialized, \u001b[39m\u001b[39m\"\u001b[39m\n\u001b[1;32m    348\u001b[0m                        \u001b[39m\"\u001b[39m\u001b[39mplease make sure to call init_process_group.\u001b[39m\u001b[39m\"\u001b[39m)\n\u001b[1;32m    349\u001b[0m \u001b[39mreturn\u001b[39;00m GroupMember\u001b[39m.\u001b[39mWORLD\n",
            "\u001b[0;31mRuntimeError\u001b[0m: Default process group has not been initialized, please make sure to call init_process_group."
          ]
        }
      ],
      "source": [
        "from torch.nn.functional import softmax\n",
        "from tqdm import tqdm\n",
        "# training\n",
        "for epoch in range(NUM_EPOCHS):\n",
        "\n",
        "  model = model.to(device)\n",
        "  model.train()\n",
        "\n",
        "  for inputs, targets in tqdm(train_loader):\n",
        "    inputs, targets = inputs.to(device), targets.to(device)\n",
        "    optimizer.zero_grad()\n",
        "    outputs = model(inputs.to(torch.float32))\n",
        "\n",
        "    if task == 'multi-label, binary-class':\n",
        "      targets = targets.to(torch.float32).unsqueeze(1)\n",
        "    else:\n",
        "      targets = targets.to(torch.long)\n",
        "      targets = targets.view(-1)\n",
        "\n",
        "\n",
        "    predicted_classes = torch.argmax(outputs, dim=1)\n",
        "    loss = criterion(outputs, targets)\n",
        "    loss.backward()\n",
        "    optimizer.step()\n",
        "\n",
        "    # Delete tensors to free up memory\n",
        "    del inputs, targets, outputs, predicted_classes\n",
        "    # Empty the cache to clear up some more memory\n",
        "    torch.cuda.empty_cache()"
      ]
    },
    {
      "cell_type": "code",
      "execution_count": null,
      "metadata": {},
      "outputs": [],
      "source": [
        "\n",
        "from sklearn.metrics import roc_auc_score, accuracy_score\n",
        "\n",
        "# switch to evaluation mode\n",
        "def test(split):\n",
        "  model.eval()\n",
        "  # Lists to store actual and predicted values\n",
        "  actuals = []\n",
        "  probas = []\n",
        "  predictions = []\n",
        "\n",
        "  if split == 'val':\n",
        "        data_loader = train_loader_at_eval\n",
        "  else:\n",
        "        data_loader = test_loader\n",
        "        \n",
        "  with torch.no_grad():\n",
        "      for inputs, targets in tqdm(data_loader):\n",
        "\n",
        "          inputs, targets = inputs.to(device), targets.to(device)\n",
        "\n",
        "          if task == 'multi-label, binary-class':\n",
        "              targets = targets.to(torch.float32).unsqueeze(1)\n",
        "          else:\n",
        "              targets = targets.to(torch.long)\n",
        "              targets = targets.view(-1)\n",
        "\n",
        "          outputs = model(inputs.to(torch.float32))\n",
        "          softmax_outputs = softmax(outputs, dim=1)\n",
        "\n",
        "          _, predicted_classes = torch.max(outputs, 1)\n",
        "\n",
        "          # Store the actual targets and predicted probabilities\n",
        "          actuals.extend(targets.cpu().numpy())\n",
        "          probas.extend(softmax_outputs.detach().cpu().numpy())\n",
        "          # Probability of positive class\n",
        "          predictions.extend(predicted_classes.cpu().numpy())\n",
        "  print('\\n')\n",
        "  auc = roc_auc_score(actuals, probas, multi_class='ovr')\n",
        "  accuracy = accuracy_score(actuals, predictions)\n",
        "\n",
        "  print('AUC of the model:', auc)\n",
        "  print('Accuracy of the model:', accuracy)\n",
        "\n",
        "print('==> Evaluating...')\n",
        "test('val')\n",
        "test('test')"
      ]
    }
  ],
  "metadata": {
    "colab": {
      "provenance": []
    },
    "kernelspec": {
      "display_name": "Python 3",
      "name": "python3"
    },
    "language_info": {
      "codemirror_mode": {
        "name": "ipython",
        "version": 3
      },
      "file_extension": ".py",
      "mimetype": "text/x-python",
      "name": "python",
      "nbconvert_exporter": "python",
      "pygments_lexer": "ipython3",
      "version": "3.9.0"
    }
  },
  "nbformat": 4,
  "nbformat_minor": 0
}
