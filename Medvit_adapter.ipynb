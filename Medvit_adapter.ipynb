{
  "cells": [
    {
      "cell_type": "code",
      "execution_count": 1,
      "metadata": {
        "colab": {
          "base_uri": "https://localhost:8080/"
        },
        "id": "GnT_FVl1sqmz",
        "outputId": "e87575ae-457a-4905-e6ef-b69dac41874c"
      },
      "outputs": [
        {
          "name": "stdout",
          "output_type": "stream",
          "text": [
            "Tue Jul 25 06:55:47 2023       \n",
            "+-----------------------------------------------------------------------------+\n",
            "| NVIDIA-SMI 515.86.01    Driver Version: 515.86.01    CUDA Version: 11.7     |\n",
            "|-------------------------------+----------------------+----------------------+\n",
            "| GPU  Name        Persistence-M| Bus-Id        Disp.A | Volatile Uncorr. ECC |\n",
            "| Fan  Temp  Perf  Pwr:Usage/Cap|         Memory-Usage | GPU-Util  Compute M. |\n",
            "|                               |                      |               MIG M. |\n",
            "|===============================+======================+======================|\n",
            "|   0  NVIDIA GeForce ...  On   | 00000000:02:00.0 Off |                  N/A |\n",
            "| 34%   74C    P2   114W / 250W |    933MiB / 12288MiB |     98%      Default |\n",
            "|                               |                      |                  N/A |\n",
            "+-------------------------------+----------------------+----------------------+\n",
            "|   1  NVIDIA GeForce ...  On   | 00000000:04:00.0 Off |                  N/A |\n",
            "| 22%   34C    P8    16W / 250W |   1636MiB / 12288MiB |      0%      Default |\n",
            "|                               |                      |                  N/A |\n",
            "+-------------------------------+----------------------+----------------------+\n",
            "|   2  NVIDIA GeForce ...  On   | 00000000:83:00.0 Off |                  N/A |\n",
            "| 27%   67C    P2    74W / 250W |   4188MiB / 12288MiB |      0%      Default |\n",
            "|                               |                      |                  N/A |\n",
            "+-------------------------------+----------------------+----------------------+\n",
            "|   3  NVIDIA GeForce ...  On   | 00000000:84:00.0 Off |                  N/A |\n",
            "| 23%   61C    P2    73W / 250W |  11468MiB / 12288MiB |      0%      Default |\n",
            "|                               |                      |                  N/A |\n",
            "+-------------------------------+----------------------+----------------------+\n",
            "                                                                               \n",
            "+-----------------------------------------------------------------------------+\n",
            "| Processes:                                                                  |\n",
            "|  GPU   GI   CI        PID   Type   Process name                  GPU Memory |\n",
            "|        ID   ID                                                   Usage      |\n",
            "|=============================================================================|\n",
            "|    0   N/A  N/A      8483      C   /home/EXT/mhahntmp/python39       462MiB |\n",
            "|    0   N/A  N/A     16341      C   /home/EXT/mhahntmp/python39       466MiB |\n",
            "|    1   N/A  N/A     24719      C   python3                          1631MiB |\n",
            "|    2   N/A  N/A     19905      C   python                            740MiB |\n",
            "|    2   N/A  N/A     24719      C   python3                          3441MiB |\n",
            "|    3   N/A  N/A      5481      C   python                           1602MiB |\n",
            "|    3   N/A  N/A      8522      C   python                           1602MiB |\n",
            "|    3   N/A  N/A     21606      C   python                           1578MiB |\n",
            "|    3   N/A  N/A     22537      C   python                           1578MiB |\n",
            "|    3   N/A  N/A     24719      C   python3                          2291MiB |\n",
            "|    3   N/A  N/A     26633      C   python                           1225MiB |\n",
            "|    3   N/A  N/A     35718      C   python                           1582MiB |\n",
            "+-----------------------------------------------------------------------------+\n"
          ]
        }
      ],
      "source": [
        "!nvidia-smi"
      ]
    },
    {
      "cell_type": "code",
      "execution_count": 2,
      "metadata": {},
      "outputs": [
        {
          "name": "stdout",
          "output_type": "stream",
          "text": [
            "fatal: destination path 'DeformableDETR' already exists and is not an empty directory.\n"
          ]
        }
      ],
      "source": [
        "!git clone https://github.com/HusseinMansourMohd/DeformableDETR.git"
      ]
    },
    {
      "cell_type": "code",
      "execution_count": 3,
      "metadata": {},
      "outputs": [
        {
          "name": "stdout",
          "output_type": "stream",
          "text": [
            "Collecting package metadata (current_repodata.json): done\n",
            "Solving environment: done\n",
            "\n",
            "\n",
            "==> WARNING: A newer version of conda exists. <==\n",
            "  current version: 4.12.0\n",
            "  latest version: 23.5.2\n",
            "\n",
            "Please update conda by running\n",
            "\n",
            "    $ conda update -n base -c defaults conda\n",
            "\n",
            "\n",
            "\n",
            "## Package Plan ##\n",
            "\n",
            "  environment location: /local/musaeed/anaconda3/envs/vit\n",
            "\n",
            "  added / updated specs:\n",
            "    - pytorch==1.8.1\n",
            "    - torchaudio==0.8.1\n",
            "    - torchvision==0.9.1\n",
            "\n",
            "\n",
            "The following packages will be UPDATED:\n",
            "\n",
            "  ca-certificates    anaconda::ca-certificates-2023.01.10-~ --> pkgs/main::ca-certificates-2023.05.30-h06a4308_0\n",
            "  openssl               anaconda::openssl-1.1.1s-h7f8727e_0 --> pkgs/main::openssl-1.1.1u-h7f8727e_0\n",
            "\n",
            "\n",
            "Preparing transaction: done\n",
            "Verifying transaction: done\n",
            "Executing transaction: done\n",
            "\n",
            "Note: you may need to restart the kernel to use updated packages.\n"
          ]
        }
      ],
      "source": [
        "%conda install pytorch==1.8.1 torchvision==0.9.1 torchaudio==0.8.1 -c pytorch"
      ]
    },
    {
      "cell_type": "code",
      "execution_count": 4,
      "metadata": {},
      "outputs": [
        {
          "name": "stdout",
          "output_type": "stream",
          "text": [
            "Looking in indexes: https://pypi.org/simple, https://download.pytorch.org/whl/lts/1.8/cu102\n",
            "Requirement already satisfied: torch==1.8.2 in /local/musaeed/anaconda3/envs/vit/lib/python3.9/site-packages (1.8.2+cu102)\n",
            "Requirement already satisfied: torchvision==0.9.2 in /local/musaeed/anaconda3/envs/vit/lib/python3.9/site-packages (0.9.2+cu102)\n",
            "Requirement already satisfied: torchaudio==0.8.2 in /local/musaeed/anaconda3/envs/vit/lib/python3.9/site-packages (0.8.2)\n",
            "Requirement already satisfied: typing-extensions in /local/musaeed/anaconda3/envs/vit/lib/python3.9/site-packages (from torch==1.8.2) (4.7.1)\n",
            "Requirement already satisfied: numpy in /local/musaeed/anaconda3/envs/vit/lib/python3.9/site-packages (from torch==1.8.2) (1.24.3)\n",
            "Requirement already satisfied: pillow>=4.1.1 in /local/musaeed/anaconda3/envs/vit/lib/python3.9/site-packages (from torchvision==0.9.2) (10.0.0)\n",
            "Note: you may need to restart the kernel to use updated packages.\n"
          ]
        }
      ],
      "source": [
        "%pip install torch==1.8.2 torchvision==0.9.2 torchaudio==0.8.2 --extra-index-url https://download.pytorch.org/whl/lts/1.8/cu102"
      ]
    },
    {
      "cell_type": "code",
      "execution_count": 41,
      "metadata": {},
      "outputs": [
        {
          "name": "stdout",
          "output_type": "stream",
          "text": [
            "Requirement already satisfied: torchsummary in /local/musaeed/anaconda3/envs/vit/lib/python3.9/site-packages (1.5.1)\n",
            "Note: you may need to restart the kernel to use updated packages.\n",
            "Requirement already satisfied: matplotlib in /local/musaeed/anaconda3/envs/vit/lib/python3.9/site-packages (3.7.2)\n",
            "Requirement already satisfied: contourpy>=1.0.1 in /local/musaeed/anaconda3/envs/vit/lib/python3.9/site-packages (from matplotlib) (1.1.0)\n",
            "Requirement already satisfied: cycler>=0.10 in /local/musaeed/anaconda3/envs/vit/lib/python3.9/site-packages (from matplotlib) (0.11.0)\n",
            "Requirement already satisfied: fonttools>=4.22.0 in /local/musaeed/anaconda3/envs/vit/lib/python3.9/site-packages (from matplotlib) (4.41.1)\n",
            "Requirement already satisfied: kiwisolver>=1.0.1 in /local/musaeed/anaconda3/envs/vit/lib/python3.9/site-packages (from matplotlib) (1.4.4)\n",
            "Requirement already satisfied: numpy>=1.20 in /local/musaeed/anaconda3/envs/vit/lib/python3.9/site-packages (from matplotlib) (1.24.3)\n",
            "Requirement already satisfied: packaging>=20.0 in /local/musaeed/anaconda3/envs/vit/lib/python3.9/site-packages (from matplotlib) (23.1)\n",
            "Requirement already satisfied: pillow>=6.2.0 in /local/musaeed/anaconda3/envs/vit/lib/python3.9/site-packages (from matplotlib) (10.0.0)\n",
            "Requirement already satisfied: pyparsing<3.1,>=2.3.1 in /local/musaeed/anaconda3/envs/vit/lib/python3.9/site-packages (from matplotlib) (3.0.9)\n",
            "Requirement already satisfied: python-dateutil>=2.7 in /local/musaeed/anaconda3/envs/vit/lib/python3.9/site-packages (from matplotlib) (2.8.2)\n",
            "Requirement already satisfied: importlib-resources>=3.2.0 in /local/musaeed/anaconda3/envs/vit/lib/python3.9/site-packages (from matplotlib) (6.0.0)\n",
            "Requirement already satisfied: zipp>=3.1.0 in /local/musaeed/anaconda3/envs/vit/lib/python3.9/site-packages (from importlib-resources>=3.2.0->matplotlib) (3.16.2)\n",
            "Requirement already satisfied: six>=1.5 in /local/musaeed/anaconda3/envs/vit/lib/python3.9/site-packages (from python-dateutil>=2.7->matplotlib) (1.16.0)\n",
            "Note: you may need to restart the kernel to use updated packages.\n",
            "Requirement already satisfied: timm in /local/musaeed/anaconda3/envs/vit/lib/python3.9/site-packages (0.9.2)\n",
            "Requirement already satisfied: torch>=1.7 in /local/musaeed/anaconda3/envs/vit/lib/python3.9/site-packages (from timm) (1.8.2+cu102)\n",
            "Requirement already satisfied: torchvision in /local/musaeed/anaconda3/envs/vit/lib/python3.9/site-packages (from timm) (0.9.2+cu102)\n",
            "Requirement already satisfied: pyyaml in /local/musaeed/anaconda3/envs/vit/lib/python3.9/site-packages (from timm) (6.0.1)\n",
            "Requirement already satisfied: huggingface-hub in /local/musaeed/anaconda3/envs/vit/lib/python3.9/site-packages (from timm) (0.16.4)\n",
            "Requirement already satisfied: safetensors in /local/musaeed/anaconda3/envs/vit/lib/python3.9/site-packages (from timm) (0.3.1)\n",
            "Requirement already satisfied: typing-extensions in /local/musaeed/anaconda3/envs/vit/lib/python3.9/site-packages (from torch>=1.7->timm) (4.7.1)\n",
            "Requirement already satisfied: numpy in /local/musaeed/anaconda3/envs/vit/lib/python3.9/site-packages (from torch>=1.7->timm) (1.24.3)\n",
            "Requirement already satisfied: filelock in /local/musaeed/anaconda3/envs/vit/lib/python3.9/site-packages (from huggingface-hub->timm) (3.12.2)\n",
            "Requirement already satisfied: fsspec in /local/musaeed/anaconda3/envs/vit/lib/python3.9/site-packages (from huggingface-hub->timm) (2023.6.0)\n",
            "Requirement already satisfied: requests in /local/musaeed/anaconda3/envs/vit/lib/python3.9/site-packages (from huggingface-hub->timm) (2.31.0)\n",
            "Requirement already satisfied: tqdm>=4.42.1 in /local/musaeed/anaconda3/envs/vit/lib/python3.9/site-packages (from huggingface-hub->timm) (4.65.0)\n",
            "Requirement already satisfied: packaging>=20.9 in /local/musaeed/anaconda3/envs/vit/lib/python3.9/site-packages (from huggingface-hub->timm) (23.1)\n",
            "Requirement already satisfied: pillow>=4.1.1 in /local/musaeed/anaconda3/envs/vit/lib/python3.9/site-packages (from torchvision->timm) (10.0.0)\n",
            "Requirement already satisfied: charset-normalizer<4,>=2 in /local/musaeed/anaconda3/envs/vit/lib/python3.9/site-packages (from requests->huggingface-hub->timm) (3.2.0)\n",
            "Requirement already satisfied: idna<4,>=2.5 in /local/musaeed/anaconda3/envs/vit/lib/python3.9/site-packages (from requests->huggingface-hub->timm) (3.4)\n",
            "Requirement already satisfied: urllib3<3,>=1.21.1 in /local/musaeed/anaconda3/envs/vit/lib/python3.9/site-packages (from requests->huggingface-hub->timm) (2.0.4)\n",
            "Requirement already satisfied: certifi>=2017.4.17 in /local/musaeed/anaconda3/envs/vit/lib/python3.9/site-packages (from requests->huggingface-hub->timm) (2023.7.22)\n",
            "Note: you may need to restart the kernel to use updated packages.\n",
            "Requirement already satisfied: einops==0.6.1 in /local/musaeed/anaconda3/envs/vit/lib/python3.9/site-packages (0.6.1)\n",
            "Note: you may need to restart the kernel to use updated packages.\n",
            "Collecting scipy\n",
            "  Downloading scipy-1.11.1-cp39-cp39-manylinux_2_17_x86_64.manylinux2014_x86_64.whl (36.5 MB)\n",
            "\u001b[2K     \u001b[90m━━━━━━━━━━━━━━━━━━━━━━━━━━━━━━━━━━━━━━━━\u001b[0m \u001b[32m36.5/36.5 MB\u001b[0m \u001b[31m35.7 MB/s\u001b[0m eta \u001b[36m0:00:00\u001b[0m00:01\u001b[0m00:01\u001b[0m\n",
            "\u001b[?25hRequirement already satisfied: numpy<1.28.0,>=1.21.6 in /local/musaeed/anaconda3/envs/vit/lib/python3.9/site-packages (from scipy) (1.24.3)\n",
            "Installing collected packages: scipy\n",
            "Successfully installed scipy-1.11.1\n",
            "Note: you may need to restart the kernel to use updated packages.\n"
          ]
        }
      ],
      "source": [
        "%pip install torchsummary\n",
        "%pip install matplotlib\n",
        "%pip install timm\n",
        "%pip install einops==0.6.1\n",
        "%pip install scipy"
      ]
    },
    {
      "cell_type": "code",
      "execution_count": 5,
      "metadata": {
        "id": "7GMmBQHMFoI1"
      },
      "outputs": [
        {
          "name": "stdout",
          "output_type": "stream",
          "text": [
            "/local/musaeed/.conda/cuda/Enhancing_Medvit/DeformableDETR/models/ops\n"
          ]
        }
      ],
      "source": [
        "%cd /local/musaeed/.conda/cuda/Enhancing_Medvit/DeformableDETR/models/ops"
      ]
    },
    {
      "cell_type": "code",
      "execution_count": 6,
      "metadata": {},
      "outputs": [
        {
          "name": "stderr",
          "output_type": "stream",
          "text": [
            "/local/musaeed/anaconda3/envs/vit/lib/python3.9/site-packages/tqdm/auto.py:21: TqdmWarning: IProgress not found. Please update jupyter and ipywidgets. See https://ipywidgets.readthedocs.io/en/stable/user_install.html\n",
            "  from .autonotebook import tqdm as notebook_tqdm\n"
          ]
        },
        {
          "data": {
            "text/plain": [
              "True"
            ]
          },
          "execution_count": 6,
          "metadata": {},
          "output_type": "execute_result"
        }
      ],
      "source": [
        "import torch\n",
        "torch.cuda.is_available()"
      ]
    },
    {
      "cell_type": "code",
      "execution_count": 7,
      "metadata": {},
      "outputs": [
        {
          "name": "stdout",
          "output_type": "stream",
          "text": [
            "None\n"
          ]
        }
      ],
      "source": [
        "from torch.utils.cpp_extension import CUDA_HOME\n",
        "print(CUDA_HOME)"
      ]
    },
    {
      "cell_type": "code",
      "execution_count": 8,
      "metadata": {},
      "outputs": [
        {
          "name": "stdout",
          "output_type": "stream",
          "text": [
            "file exist\n"
          ]
        }
      ],
      "source": [
        "import os\n",
        "if os.path.isfile('/local/musaeed/.bashrc'):\n",
        "    print(\"file exist\")\n",
        "else:\n",
        "    print(\"file doesn't exist\")"
      ]
    },
    {
      "cell_type": "code",
      "execution_count": 9,
      "metadata": {},
      "outputs": [
        {
          "name": "stdout",
          "output_type": "stream",
          "text": [
            "None\n"
          ]
        }
      ],
      "source": [
        "CUDA_HOME = os.environ.get('/local/musaeed/.bashrc') or os.environ.get('CUDA_PATH')\n",
        "print(CUDA_HOME)"
      ]
    },
    {
      "cell_type": "code",
      "execution_count": 10,
      "metadata": {
        "colab": {
          "base_uri": "https://localhost:8080/"
        },
        "id": "b0yaPbVE53BK",
        "outputId": "3643e773-a134-405e-d1e9-e5da167de0b7"
      },
      "outputs": [
        {
          "name": "stdout",
          "output_type": "stream",
          "text": [
            "1.8.2+cu102\n",
            "0.9.2+cu102\n"
          ]
        }
      ],
      "source": [
        "import torch\n",
        "import torchvision\n",
        "print(torch.__version__)\n",
        "print(torchvision.__version__)"
      ]
    },
    {
      "cell_type": "code",
      "execution_count": 26,
      "metadata": {
        "id": "fprVIqmws4CY"
      },
      "outputs": [],
      "source": [
        "#!git clone https://github.com/HusseinMansourMohd/Enhancing-MedViT-Incorporating-Adapter-Modules-for-Improved-Medical-Image-Classification"
      ]
    },
    {
      "cell_type": "code",
      "execution_count": 11,
      "metadata": {
        "id": "abyf59Zes5hP"
      },
      "outputs": [],
      "source": [
        "import sys\n",
        "import numpy as np\n",
        "import matplotlib.pyplot as plt\n",
        "\n",
        "import torch\n",
        "import torch.nn as nn\n",
        "import torch.optim as optim\n",
        "\n",
        "import torchvision.utils\n",
        "import torchvision.datasets as dsets\n",
        "from torchsummary import summary"
      ]
    },
    {
      "cell_type": "code",
      "execution_count": 12,
      "metadata": {
        "id": "Uva4RCW0s5kY"
      },
      "outputs": [
        {
          "name": "stdout",
          "output_type": "stream",
          "text": [
            "Requirement already satisfied: timm in /local/musaeed/anaconda3/envs/vit/lib/python3.9/site-packages (0.9.2)\n",
            "Requirement already satisfied: torch>=1.7 in /local/musaeed/anaconda3/envs/vit/lib/python3.9/site-packages (from timm) (1.8.2+cu102)\n",
            "Requirement already satisfied: torchvision in /local/musaeed/anaconda3/envs/vit/lib/python3.9/site-packages (from timm) (0.9.2+cu102)\n",
            "Requirement already satisfied: pyyaml in /local/musaeed/anaconda3/envs/vit/lib/python3.9/site-packages (from timm) (6.0.1)\n",
            "Requirement already satisfied: huggingface-hub in /local/musaeed/anaconda3/envs/vit/lib/python3.9/site-packages (from timm) (0.16.4)\n",
            "Requirement already satisfied: safetensors in /local/musaeed/anaconda3/envs/vit/lib/python3.9/site-packages (from timm) (0.3.1)\n",
            "Requirement already satisfied: typing-extensions in /local/musaeed/anaconda3/envs/vit/lib/python3.9/site-packages (from torch>=1.7->timm) (4.7.1)\n",
            "Requirement already satisfied: numpy in /local/musaeed/anaconda3/envs/vit/lib/python3.9/site-packages (from torch>=1.7->timm) (1.24.3)\n",
            "Requirement already satisfied: filelock in /local/musaeed/anaconda3/envs/vit/lib/python3.9/site-packages (from huggingface-hub->timm) (3.12.2)\n",
            "Requirement already satisfied: fsspec in /local/musaeed/anaconda3/envs/vit/lib/python3.9/site-packages (from huggingface-hub->timm) (2023.6.0)\n",
            "Requirement already satisfied: requests in /local/musaeed/anaconda3/envs/vit/lib/python3.9/site-packages (from huggingface-hub->timm) (2.31.0)\n",
            "Requirement already satisfied: tqdm>=4.42.1 in /local/musaeed/anaconda3/envs/vit/lib/python3.9/site-packages (from huggingface-hub->timm) (4.65.0)\n",
            "Requirement already satisfied: packaging>=20.9 in /local/musaeed/anaconda3/envs/vit/lib/python3.9/site-packages (from huggingface-hub->timm) (23.1)\n",
            "Requirement already satisfied: pillow>=4.1.1 in /local/musaeed/anaconda3/envs/vit/lib/python3.9/site-packages (from torchvision->timm) (10.0.0)\n",
            "Requirement already satisfied: charset-normalizer<4,>=2 in /local/musaeed/anaconda3/envs/vit/lib/python3.9/site-packages (from requests->huggingface-hub->timm) (3.2.0)\n",
            "Requirement already satisfied: idna<4,>=2.5 in /local/musaeed/anaconda3/envs/vit/lib/python3.9/site-packages (from requests->huggingface-hub->timm) (3.4)\n",
            "Requirement already satisfied: urllib3<3,>=1.21.1 in /local/musaeed/anaconda3/envs/vit/lib/python3.9/site-packages (from requests->huggingface-hub->timm) (2.0.4)\n",
            "Requirement already satisfied: certifi>=2017.4.17 in /local/musaeed/anaconda3/envs/vit/lib/python3.9/site-packages (from requests->huggingface-hub->timm) (2023.7.22)\n",
            "Requirement already satisfied: einops in /local/musaeed/anaconda3/envs/vit/lib/python3.9/site-packages (0.6.1)\n"
          ]
        }
      ],
      "source": [
        "!pip install timm\n",
        "!pip install einops"
      ]
    },
    {
      "cell_type": "code",
      "execution_count": 13,
      "metadata": {
        "id": "eQki3jkNA2ih"
      },
      "outputs": [
        {
          "name": "stdout",
          "output_type": "stream",
          "text": [
            "/local/musaeed/.conda/cuda/Enhancing_Medvit/DeformableDETR\n"
          ]
        }
      ],
      "source": [
        "%cd /local/musaeed/.conda/cuda/Enhancing_Medvit/DeformableDETR/"
      ]
    },
    {
      "cell_type": "code",
      "execution_count": 14,
      "metadata": {
        "id": "isKKYPudvWQ0"
      },
      "outputs": [
        {
          "ename": "ModuleNotFoundError",
          "evalue": "No module named 'modules'",
          "output_type": "error",
          "traceback": [
            "\u001b[0;31m---------------------------------------------------------------------------\u001b[0m",
            "\u001b[0;31mModuleNotFoundError\u001b[0m                       Traceback (most recent call last)",
            "Cell \u001b[0;32mIn[14], line 1\u001b[0m\n\u001b[0;32m----> 1\u001b[0m \u001b[39mimport\u001b[39;00m \u001b[39mMedVit_Adapter\u001b[39;00m\n\u001b[1;32m      2\u001b[0m \u001b[39mprint\u001b[39m(\u001b[39mdir\u001b[39m(MedVit_Adapter))\n",
            "File \u001b[0;32m/local/musaeed/.conda/cuda/Enhancing_Medvit/MedVit_Adapter.py:9\u001b[0m\n\u001b[1;32m      1\u001b[0m \u001b[39m\"\"\"\u001b[39;00m\n\u001b[1;32m      2\u001b[0m \u001b[39mAuthor: Hussein Mansour Mohamed Mansour\u001b[39;00m\n\u001b[1;32m      3\u001b[0m \u001b[39mEmail: hussein.mansour@tamu.edu\u001b[39;00m\n\u001b[1;32m      4\u001b[0m \n\u001b[1;32m      5\u001b[0m \u001b[39mEnhancing MedViT: Incorporating Adapter Modules for Improved Medical Image Datasets.\u001b[39;00m\n\u001b[1;32m      6\u001b[0m \u001b[39m\"\"\"\u001b[39;00m\n\u001b[1;32m      8\u001b[0m \u001b[39mfrom\u001b[39;00m \u001b[39mtorch\u001b[39;00m \u001b[39mimport\u001b[39;00m nn\n\u001b[0;32m----> 9\u001b[0m \u001b[39mfrom\u001b[39;00m \u001b[39madapter_modules\u001b[39;00m \u001b[39mimport\u001b[39;00m SpatialPriorModule, InteractionBlock, deform_inputs\n\u001b[1;32m     10\u001b[0m \u001b[39mimport\u001b[39;00m \u001b[39mtorch\u001b[39;00m\n\u001b[1;32m     11\u001b[0m \u001b[39mfrom\u001b[39;00m \u001b[39mMedVit\u001b[39;00m \u001b[39mimport\u001b[39;00m ConvBNReLU,ECB,LTB\n",
            "File \u001b[0;32m/local/musaeed/.conda/cuda/Enhancing_Medvit/adapter_modules.py:6\u001b[0m\n\u001b[1;32m      4\u001b[0m \u001b[39mimport\u001b[39;00m \u001b[39mtorch\u001b[39;00m\n\u001b[1;32m      5\u001b[0m \u001b[39mimport\u001b[39;00m \u001b[39mtorch\u001b[39;00m\u001b[39m.\u001b[39;00m\u001b[39mnn\u001b[39;00m \u001b[39mas\u001b[39;00m \u001b[39mnn\u001b[39;00m\n\u001b[0;32m----> 6\u001b[0m \u001b[39mfrom\u001b[39;00m \u001b[39mDeformableDETR\u001b[39;00m\u001b[39m.\u001b[39;00m\u001b[39mmodels\u001b[39;00m\u001b[39m.\u001b[39;00m\u001b[39mops\u001b[39;00m\u001b[39m.\u001b[39;00m\u001b[39mmodules\u001b[39;00m \u001b[39mimport\u001b[39;00m ms_deform_attn \n\u001b[1;32m      7\u001b[0m \u001b[39mfrom\u001b[39;00m \u001b[39mtimm\u001b[39;00m\u001b[39m.\u001b[39;00m\u001b[39mmodels\u001b[39;00m\u001b[39m.\u001b[39;00m\u001b[39mlayers\u001b[39;00m \u001b[39mimport\u001b[39;00m DropPath\n\u001b[1;32m      8\u001b[0m \u001b[39mimport\u001b[39;00m \u001b[39mtorch\u001b[39;00m\u001b[39m.\u001b[39;00m\u001b[39mutils\u001b[39;00m\u001b[39m.\u001b[39;00m\u001b[39mcheckpoint\u001b[39;00m \u001b[39mas\u001b[39;00m \u001b[39mcp\u001b[39;00m\n",
            "File \u001b[0;32m/local/musaeed/.conda/cuda/Enhancing_Medvit/DeformableDETR/models/__init__.py:10\u001b[0m\n\u001b[1;32m      1\u001b[0m \u001b[39m# ------------------------------------------------------------------------\u001b[39;00m\n\u001b[1;32m      2\u001b[0m \u001b[39m# Deformable DETR\u001b[39;00m\n\u001b[1;32m      3\u001b[0m \u001b[39m# Copyright (c) 2020 SenseTime. All Rights Reserved.\u001b[39;00m\n\u001b[0;32m   (...)\u001b[0m\n\u001b[1;32m      7\u001b[0m \u001b[39m# Copyright (c) Facebook, Inc. and its affiliates. All Rights Reserved\u001b[39;00m\n\u001b[1;32m      8\u001b[0m \u001b[39m# ------------------------------------------------------------------------\u001b[39;00m\n\u001b[0;32m---> 10\u001b[0m \u001b[39mfrom\u001b[39;00m \u001b[39m.\u001b[39;00m\u001b[39mdeformable_detr\u001b[39;00m \u001b[39mimport\u001b[39;00m build\n\u001b[1;32m     13\u001b[0m \u001b[39mdef\u001b[39;00m \u001b[39mbuild_model\u001b[39m(args):\n\u001b[1;32m     14\u001b[0m     \u001b[39mreturn\u001b[39;00m build(args)\n",
            "File \u001b[0;32m/local/musaeed/.conda/cuda/Enhancing_Medvit/DeformableDETR/models/deformable_detr.py:27\u001b[0m\n\u001b[1;32m     24\u001b[0m \u001b[39mfrom\u001b[39;00m \u001b[39m.\u001b[39;00m\u001b[39mmatcher\u001b[39;00m \u001b[39mimport\u001b[39;00m build_matcher\n\u001b[1;32m     25\u001b[0m \u001b[39mfrom\u001b[39;00m \u001b[39m.\u001b[39;00m\u001b[39msegmentation\u001b[39;00m \u001b[39mimport\u001b[39;00m (DETRsegm, PostProcessPanoptic, PostProcessSegm,\n\u001b[1;32m     26\u001b[0m                            dice_loss, sigmoid_focal_loss)\n\u001b[0;32m---> 27\u001b[0m \u001b[39mfrom\u001b[39;00m \u001b[39m.\u001b[39;00m\u001b[39mdeformable_transformer\u001b[39;00m \u001b[39mimport\u001b[39;00m build_deforamble_transformer\n\u001b[1;32m     28\u001b[0m \u001b[39mimport\u001b[39;00m \u001b[39mcopy\u001b[39;00m\n\u001b[1;32m     31\u001b[0m \u001b[39mdef\u001b[39;00m \u001b[39m_get_clones\u001b[39m(module, N):\n",
            "File \u001b[0;32m/local/musaeed/.conda/cuda/Enhancing_Medvit/DeformableDETR/models/deformable_transformer.py:20\u001b[0m\n\u001b[1;32m     17\u001b[0m \u001b[39mfrom\u001b[39;00m \u001b[39mtorch\u001b[39;00m\u001b[39m.\u001b[39;00m\u001b[39mnn\u001b[39;00m\u001b[39m.\u001b[39;00m\u001b[39minit\u001b[39;00m \u001b[39mimport\u001b[39;00m xavier_uniform_, constant_, uniform_, normal_\n\u001b[1;32m     19\u001b[0m \u001b[39mfrom\u001b[39;00m \u001b[39m.\u001b[39;00m\u001b[39mmisc\u001b[39;00m \u001b[39mimport\u001b[39;00m inverse_sigmoid\n\u001b[0;32m---> 20\u001b[0m \u001b[39mfrom\u001b[39;00m \u001b[39mDeformableDETR\u001b[39;00m\u001b[39m.\u001b[39;00m\u001b[39mmodels\u001b[39;00m\u001b[39m.\u001b[39;00m\u001b[39mops\u001b[39;00m\u001b[39m.\u001b[39;00m\u001b[39mmodules\u001b[39;00m \u001b[39mimport\u001b[39;00m ms_deform_attn \u001b[39mas\u001b[39;00m MSDeformAttn\n\u001b[1;32m     23\u001b[0m \u001b[39mclass\u001b[39;00m \u001b[39mDeformableTransformer\u001b[39;00m(nn\u001b[39m.\u001b[39mModule):\n\u001b[1;32m     24\u001b[0m     \u001b[39mdef\u001b[39;00m \u001b[39m__init__\u001b[39m(\u001b[39mself\u001b[39m, d_model\u001b[39m=\u001b[39m\u001b[39m256\u001b[39m, nhead\u001b[39m=\u001b[39m\u001b[39m8\u001b[39m,\n\u001b[1;32m     25\u001b[0m                  num_encoder_layers\u001b[39m=\u001b[39m\u001b[39m6\u001b[39m, num_decoder_layers\u001b[39m=\u001b[39m\u001b[39m6\u001b[39m, dim_feedforward\u001b[39m=\u001b[39m\u001b[39m1024\u001b[39m, dropout\u001b[39m=\u001b[39m\u001b[39m0.1\u001b[39m,\n\u001b[1;32m     26\u001b[0m                  activation\u001b[39m=\u001b[39m\u001b[39m\"\u001b[39m\u001b[39mrelu\u001b[39m\u001b[39m\"\u001b[39m, return_intermediate_dec\u001b[39m=\u001b[39m\u001b[39mFalse\u001b[39;00m,\n\u001b[1;32m     27\u001b[0m                  num_feature_levels\u001b[39m=\u001b[39m\u001b[39m4\u001b[39m, dec_n_points\u001b[39m=\u001b[39m\u001b[39m4\u001b[39m,  enc_n_points\u001b[39m=\u001b[39m\u001b[39m4\u001b[39m,\n\u001b[1;32m     28\u001b[0m                  two_stage\u001b[39m=\u001b[39m\u001b[39mFalse\u001b[39;00m, two_stage_num_proposals\u001b[39m=\u001b[39m\u001b[39m300\u001b[39m):\n",
            "File \u001b[0;32m/local/musaeed/.conda/cuda/Enhancing_Medvit/DeformableDETR/models/ops/modules/__init__.py:9\u001b[0m\n\u001b[1;32m      1\u001b[0m \u001b[39m# ------------------------------------------------------------------------------------------------\u001b[39;00m\n\u001b[1;32m      2\u001b[0m \u001b[39m# Deformable DETR\u001b[39;00m\n\u001b[1;32m      3\u001b[0m \u001b[39m# Copyright (c) 2020 SenseTime. All Rights Reserved.\u001b[39;00m\n\u001b[0;32m   (...)\u001b[0m\n\u001b[1;32m      6\u001b[0m \u001b[39m# Modified from https://github.com/chengdazhi/Deformable-Convolution-V2-PyTorch/tree/pytorch_1.0.0\u001b[39;00m\n\u001b[1;32m      7\u001b[0m \u001b[39m# ------------------------------------------------------------------------------------------------\u001b[39;00m\n\u001b[0;32m----> 9\u001b[0m \u001b[39mfrom\u001b[39;00m \u001b[39m.\u001b[39;00m\u001b[39mms_deform_attn\u001b[39;00m \u001b[39mimport\u001b[39;00m MSDeformAttn\n",
            "File \u001b[0;32m/local/musaeed/.conda/cuda/Enhancing_Medvit/DeformableDETR/models/ops/modules/ms_deform_attn.py:21\u001b[0m\n\u001b[1;32m     18\u001b[0m \u001b[39mimport\u001b[39;00m \u001b[39mtorch\u001b[39;00m\u001b[39m.\u001b[39;00m\u001b[39mnn\u001b[39;00m\u001b[39m.\u001b[39;00m\u001b[39mfunctional\u001b[39;00m \u001b[39mas\u001b[39;00m \u001b[39mF\u001b[39;00m\n\u001b[1;32m     19\u001b[0m \u001b[39mfrom\u001b[39;00m \u001b[39mtorch\u001b[39;00m\u001b[39m.\u001b[39;00m\u001b[39mnn\u001b[39;00m\u001b[39m.\u001b[39;00m\u001b[39minit\u001b[39;00m \u001b[39mimport\u001b[39;00m xavier_uniform_, constant_\n\u001b[0;32m---> 21\u001b[0m \u001b[39mfrom\u001b[39;00m \u001b[39m.\u001b[39;00m\u001b[39m.\u001b[39;00m\u001b[39mfunctions\u001b[39;00m \u001b[39mimport\u001b[39;00m MSDeformAttnFunction\n\u001b[1;32m     24\u001b[0m \u001b[39mdef\u001b[39;00m \u001b[39m_is_power_of_2\u001b[39m(n):\n\u001b[1;32m     25\u001b[0m     \u001b[39mif\u001b[39;00m (\u001b[39mnot\u001b[39;00m \u001b[39misinstance\u001b[39m(n, \u001b[39mint\u001b[39m)) \u001b[39mor\u001b[39;00m (n \u001b[39m<\u001b[39m \u001b[39m0\u001b[39m):\n",
            "File \u001b[0;32m/local/musaeed/.conda/cuda/Enhancing_Medvit/DeformableDETR/models/ops/functions/__init__.py:9\u001b[0m\n\u001b[1;32m      1\u001b[0m \u001b[39m# ------------------------------------------------------------------------------------------------\u001b[39;00m\n\u001b[1;32m      2\u001b[0m \u001b[39m# Deformable DETR\u001b[39;00m\n\u001b[1;32m      3\u001b[0m \u001b[39m# Copyright (c) 2020 SenseTime. All Rights Reserved.\u001b[39;00m\n\u001b[0;32m   (...)\u001b[0m\n\u001b[1;32m      6\u001b[0m \u001b[39m# Modified from https://github.com/chengdazhi/Deformable-Convolution-V2-PyTorch/tree/pytorch_1.0.0\u001b[39;00m\n\u001b[1;32m      7\u001b[0m \u001b[39m# ------------------------------------------------------------------------------------------------\u001b[39;00m\n\u001b[0;32m----> 9\u001b[0m \u001b[39mfrom\u001b[39;00m \u001b[39m.\u001b[39;00m\u001b[39mms_deform_attn_func\u001b[39;00m \u001b[39mimport\u001b[39;00m MSDeformAttnFunction\n",
            "File \u001b[0;32m/local/musaeed/.conda/cuda/Enhancing_Medvit/DeformableDETR/models/ops/functions/ms_deform_attn_func.py:18\u001b[0m\n\u001b[1;32m     15\u001b[0m \u001b[39mfrom\u001b[39;00m \u001b[39mtorch\u001b[39;00m\u001b[39m.\u001b[39;00m\u001b[39mautograd\u001b[39;00m \u001b[39mimport\u001b[39;00m Function\n\u001b[1;32m     16\u001b[0m \u001b[39mfrom\u001b[39;00m \u001b[39mtorch\u001b[39;00m\u001b[39m.\u001b[39;00m\u001b[39mautograd\u001b[39;00m\u001b[39m.\u001b[39;00m\u001b[39mfunction\u001b[39;00m \u001b[39mimport\u001b[39;00m once_differentiable\n\u001b[0;32m---> 18\u001b[0m \u001b[39mimport\u001b[39;00m \u001b[39mmodules\u001b[39;00m\u001b[39m.\u001b[39;00m\u001b[39mms_deform_attn\u001b[39;00m \u001b[39mas\u001b[39;00m \u001b[39mMSDA\u001b[39;00m\n\u001b[1;32m     21\u001b[0m \u001b[39mclass\u001b[39;00m \u001b[39mMSDeformAttnFunction\u001b[39;00m(Function):\n\u001b[1;32m     22\u001b[0m     \u001b[39m@staticmethod\u001b[39m\n\u001b[1;32m     23\u001b[0m     \u001b[39mdef\u001b[39;00m \u001b[39mforward\u001b[39m(ctx, value, value_spatial_shapes, value_level_start_index, sampling_locations, attention_weights, im2col_step):\n",
            "\u001b[0;31mModuleNotFoundError\u001b[0m: No module named 'modules'"
          ]
        }
      ],
      "source": [
        "import MedVit_Adapter\n",
        "print(dir(MedVit_Adapter))"
      ]
    },
    {
      "cell_type": "code",
      "execution_count": null,
      "metadata": {
        "id": "i49q6EEMvWWi"
      },
      "outputs": [],
      "source": [
        "from MedVit_adapter import MedViT_adapter_small as small\n"
      ]
    },
    {
      "cell_type": "code",
      "execution_count": null,
      "metadata": {
        "id": "9ww1w_rHvWZj"
      },
      "outputs": [],
      "source": [
        "!pip install medmnist"
      ]
    },
    {
      "cell_type": "code",
      "execution_count": null,
      "metadata": {},
      "outputs": [],
      "source": [
        "\n",
        "import medmnist\n",
        "from medmnist import INFO \n",
        "data_flag = 'retinamnist'\n",
        "# [tissuemnist , pathmnist, chestmnist, dermamnist, octmnisr ,pnemonismnist , retinamnist, bloodmnist, tissuemnist, organcmist, organs ]\n",
        "download = True\n",
        "\n",
        "NUM_EPOCHS = 15\n",
        "BATCH_SIZE = 15\n",
        "LR = 0.005\n",
        "\n",
        "info = INFO[data_flag]\n",
        "task = info['task']\n",
        "n_channels = info['n_channels']\n",
        "n_classes = len(info['label'])\n",
        "\n",
        "DataClass = getattr(medmnist, info['python_class'])"
      ]
    },
    {
      "cell_type": "code",
      "execution_count": null,
      "metadata": {},
      "outputs": [],
      "source": [
        "\n",
        "import torchvision.transforms as transforms\n",
        "#preprocessing\n",
        "train_transform = transforms.Compose([\n",
        "    transforms.Resize(224),\n",
        "    transforms.Lambda(lambda image:image.convert('RGB')),\n",
        "    torchvision.transforms.AugMix(),\n",
        "    transforms.ToTensor(),\n",
        "    transforms.Normalize(mean=[0.5], std=[0.5])\n",
        "]\n",
        ")\n",
        "test_transform = transforms.Compose([\n",
        "    transforms.Resize(224),\n",
        "    transforms.Lambda(lambda image: image.convert('RGB')),\n",
        "    transforms.ToTensor(),\n",
        "    transforms.Normalize(mean=[0.5],std=[0.5])\n",
        "])\n",
        "     "
      ]
    },
    {
      "cell_type": "code",
      "execution_count": null,
      "metadata": {},
      "outputs": [],
      "source": [
        "import torch.utils.data as data\n",
        "\n",
        "# load the data\n",
        "train_dataset = DataClass(split='train', transform=train_transform, download=download)\n",
        "val_dataset = DataClass(split='val', transform=train_transform,download=download)\n",
        "test_dataset = DataClass(split='test', transform=test_transform, download=download)\n",
        "\n",
        "\n",
        "# encapsulate data into dataloader form\n",
        "train_loader = data.DataLoader(dataset=train_dataset, batch_size=BATCH_SIZE, shuffle=True)\n",
        "train_loader_at_eval = data.DataLoader(dataset=val_dataset, batch_size=2*BATCH_SIZE, shuffle=False)\n",
        "test_loader = data.DataLoader(dataset=test_dataset, batch_size=2*BATCH_SIZE, shuffle=False)"
      ]
    },
    {
      "cell_type": "code",
      "execution_count": null,
      "metadata": {},
      "outputs": [],
      "source": [
        "\n",
        "print(train_dataset)\n",
        "print(\"+++++++++++++++++\")\n",
        "print(test_dataset)"
      ]
    },
    {
      "cell_type": "code",
      "execution_count": null,
      "metadata": {},
      "outputs": [],
      "source": [
        "model = small()"
      ]
    },
    {
      "cell_type": "code",
      "execution_count": null,
      "metadata": {},
      "outputs": [],
      "source": [
        "model.proj_head[0] = nn.Linear(in_features=1024, out_featuers=n_classes, bais=True)"
      ]
    },
    {
      "cell_type": "code",
      "execution_count": null,
      "metadata": {},
      "outputs": [],
      "source": [
        "#define loss function and optimizer\n",
        "if task == 'multi-task, binaty-class':\n",
        "    criterion = nn.BCEWihtLogLoss()\n",
        "else:\n",
        "    criterion = nn.CrossEntropyLoss()\n",
        "optimizer = optim.SGD(model.parameters(), lr=LR, momentum=0.9)"
      ]
    },
    {
      "cell_type": "code",
      "execution_count": null,
      "metadata": {},
      "outputs": [],
      "source": [
        "criterion"
      ]
    },
    {
      "cell_type": "code",
      "execution_count": null,
      "metadata": {},
      "outputs": [],
      "source": [
        "device = torch.device(\"cuda\" if torch.cuda.is_available() else \"cpu\")\n"
      ]
    },
    {
      "cell_type": "code",
      "execution_count": null,
      "metadata": {},
      "outputs": [],
      "source": [
        "from torch.nn.functional import softmax\n",
        "from tqdm import tqdm\n",
        "# training\n",
        "for epoch in range(NUM_EPOCHS):\n",
        "\n",
        "  model = model.to(device)\n",
        "  model.train()\n",
        "\n",
        "  for inputs, targets in tqdm(train_loader):\n",
        "    inputs, targets = inputs.to(device), targets.to(device)\n",
        "    optimizer.zero_grad()\n",
        "    outputs = model(inputs.to(torch.float32))\n",
        "\n",
        "    if task == 'multi-label, binary-class':\n",
        "      targets = targets.to(torch.float32).unsqueeze(1)\n",
        "    else:\n",
        "      targets = targets.to(torch.long)\n",
        "      targets = targets.view(-1)\n",
        "\n",
        "\n",
        "    predicted_classes = torch.argmax(outputs, dim=1)\n",
        "    loss = criterion(outputs, targets)\n",
        "    loss.backward()\n",
        "    optimizer.step()\n",
        "\n",
        "    # Delete tensors to free up memory\n",
        "    del inputs, targets, outputs, predicted_classes\n",
        "    # Empty the cache to clear up some more memory\n",
        "    torch.cuda.empty_cache()"
      ]
    },
    {
      "cell_type": "code",
      "execution_count": null,
      "metadata": {},
      "outputs": [],
      "source": [
        "\n",
        "from sklearn.metrics import roc_auc_score, accuracy_score\n",
        "\n",
        "# switch to evaluation mode\n",
        "def test(split):\n",
        "  model.eval()\n",
        "  # Lists to store actual and predicted values\n",
        "  actuals = []\n",
        "  probas = []\n",
        "  predictions = []\n",
        "\n",
        "  if split == 'val':\n",
        "        data_loader = train_loader_at_eval\n",
        "  else:\n",
        "        data_loader = test_loader\n",
        "        \n",
        "  with torch.no_grad():\n",
        "      for inputs, targets in tqdm(data_loader):\n",
        "\n",
        "          inputs, targets = inputs.to(device), targets.to(device)\n",
        "\n",
        "          if task == 'multi-label, binary-class':\n",
        "              targets = targets.to(torch.float32).unsqueeze(1)\n",
        "          else:\n",
        "              targets = targets.to(torch.long)\n",
        "              targets = targets.view(-1)\n",
        "\n",
        "          outputs = model(inputs.to(torch.float32))\n",
        "          softmax_outputs = softmax(outputs, dim=1)\n",
        "\n",
        "          _, predicted_classes = torch.max(outputs, 1)\n",
        "\n",
        "          # Store the actual targets and predicted probabilities\n",
        "          actuals.extend(targets.cpu().numpy())\n",
        "          probas.extend(softmax_outputs.detach().cpu().numpy())\n",
        "          # Probability of positive class\n",
        "          predictions.extend(predicted_classes.cpu().numpy())\n",
        "  print('\\n')\n",
        "  auc = roc_auc_score(actuals, probas, multi_class='ovr')\n",
        "  accuracy = accuracy_score(actuals, predictions)\n",
        "\n",
        "  print('AUC of the model:', auc)\n",
        "  print('Accuracy of the model:', accuracy)\n",
        "\n",
        "print('==> Evaluating...')\n",
        "test('val')\n",
        "test('test')"
      ]
    }
  ],
  "metadata": {
    "colab": {
      "provenance": []
    },
    "kernelspec": {
      "display_name": "Python 3",
      "name": "python3"
    },
    "language_info": {
      "codemirror_mode": {
        "name": "ipython",
        "version": 3
      },
      "file_extension": ".py",
      "mimetype": "text/x-python",
      "name": "python",
      "nbconvert_exporter": "python",
      "pygments_lexer": "ipython3",
      "version": "3.9.0"
    }
  },
  "nbformat": 4,
  "nbformat_minor": 0
}
